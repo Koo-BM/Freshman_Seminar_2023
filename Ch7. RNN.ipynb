{
 "cells": [
  {
   "cell_type": "markdown",
   "id": "829d5cd5",
   "metadata": {},
   "source": [
    "## 영화 리뷰 감정 분석"
   ]
  },
  {
   "cell_type": "code",
   "execution_count": 1,
   "id": "62461a30",
   "metadata": {
    "ExecuteTime": {
     "end_time": "2023-02-05T05:50:09.238173Z",
     "start_time": "2023-02-05T05:50:08.533177Z"
    },
    "scrolled": true
   },
   "outputs": [],
   "source": [
    "import os\n",
    "import torch\n",
    "import torch.nn as nn\n",
    "import torch.nn.functional as F\n",
    "from torchtext import data, datasets"
   ]
  },
  {
   "cell_type": "code",
   "execution_count": 2,
   "id": "a0fe5997",
   "metadata": {
    "ExecuteTime": {
     "end_time": "2023-02-05T05:50:09.286121Z",
     "start_time": "2023-02-05T05:50:09.255177Z"
    }
   },
   "outputs": [
    {
     "name": "stdout",
     "output_type": "stream",
     "text": [
      "cuda\n"
     ]
    }
   ],
   "source": [
    "BATCH_SIZE = 64\n",
    "lr = 0.001\n",
    "EPOCHS = 40\n",
    "USE_CUDA = torch.cuda.is_available()\n",
    "DEVICE = torch.device(\"cuda\" if USE_CUDA else \"cpu\")\n",
    "print(DEVICE)"
   ]
  },
  {
   "cell_type": "code",
   "execution_count": 4,
   "id": "44aec11d",
   "metadata": {
    "ExecuteTime": {
     "end_time": "2023-02-05T05:50:16.752776Z",
     "start_time": "2023-02-05T05:50:16.747983Z"
    }
   },
   "outputs": [],
   "source": [
    "# 토치텍스트 사용하여 필요한 설정\n",
    "TEXT = data.Field(sequential=True, batch_first=True, lower=True)\n",
    "LABEL = data.Field(sequential=False, batch_first=True)"
   ]
  },
  {
   "cell_type": "code",
   "execution_count": 5,
   "id": "0b24e68a",
   "metadata": {
    "ExecuteTime": {
     "end_time": "2023-02-05T05:51:22.206315Z",
     "start_time": "2023-02-05T05:50:17.329079Z"
    }
   },
   "outputs": [],
   "source": [
    "# IMDB 데이터셋\n",
    "trainset, testset = datasets.IMDB.splits(TEXT, LABEL)"
   ]
  },
  {
   "cell_type": "code",
   "execution_count": 6,
   "id": "db49b30d",
   "metadata": {
    "ExecuteTime": {
     "end_time": "2023-02-05T05:51:23.468724Z",
     "start_time": "2023-02-05T05:51:22.223720Z"
    }
   },
   "outputs": [],
   "source": [
    "# 워드 임베딩에 필요한 단어 사전 생성\n",
    "TEXT.build_vocab(trainset, min_freq=5)\n",
    "LABEL.build_vocab(trainset)"
   ]
  },
  {
   "cell_type": "code",
   "execution_count": 7,
   "id": "bed1088f",
   "metadata": {
    "ExecuteTime": {
     "end_time": "2023-02-05T05:51:23.515601Z",
     "start_time": "2023-02-05T05:51:23.486248Z"
    }
   },
   "outputs": [],
   "source": [
    "# 배치 단위 학습\n",
    "trainset, valset = trainset.split(split_ratio=0.8)\n",
    "train_iter, val_iter, test_iter = data.BucketIterator.splits(\n",
    "    (trainset, valset, testset),\n",
    "    batch_size=BATCH_SIZE,\n",
    "    shuffle=True,\n",
    "    repeat=False)"
   ]
  },
  {
   "cell_type": "code",
   "execution_count": 8,
   "id": "464d87f1",
   "metadata": {
    "ExecuteTime": {
     "end_time": "2023-02-05T05:51:26.101905Z",
     "start_time": "2023-02-05T05:51:26.092801Z"
    }
   },
   "outputs": [],
   "source": [
    "vocab_size = len(TEXT.vocab)\n",
    "n_classes = 2"
   ]
  },
  {
   "cell_type": "code",
   "execution_count": 9,
   "id": "fc4ed9c3",
   "metadata": {
    "ExecuteTime": {
     "end_time": "2023-02-05T05:52:05.039817Z",
     "start_time": "2023-02-05T05:52:05.020868Z"
    }
   },
   "outputs": [
    {
     "name": "stdout",
     "output_type": "stream",
     "text": [
      "[학습셋]: 20000 [검증셋]: 5000 [테스트셋]: 25000 [단어수]: 46159 [클래스] 2\n"
     ]
    }
   ],
   "source": [
    "print(\"[학습셋]: %d [검증셋]: %d [테스트셋]: %d [단어수]: %d [클래스] %d\"\n",
    "     % (len(trainset), len(valset), len(testset), vocab_size, n_classes))"
   ]
  },
  {
   "cell_type": "code",
   "execution_count": 15,
   "id": "effb71be",
   "metadata": {
    "ExecuteTime": {
     "end_time": "2023-02-05T06:07:31.155167Z",
     "start_time": "2023-02-05T06:07:31.141179Z"
    }
   },
   "outputs": [],
   "source": [
    "## RNN 모델 구현\n",
    "class BasicGRU(nn.Module):\n",
    "    def __init__(self, n_layers, hidden_dim, n_vocab, embed_dim, \n",
    "                n_classes, dropout_p=0.2):\n",
    "        super(BasicGRU, self).__init__()\n",
    "        print(\"Building Basic GRU model...\")\n",
    "        \n",
    "        self.n_layers = n_layers\n",
    "        self.embed = nn.Embedding(n_vocab, embed_dim)\n",
    "        \n",
    "        self.hidden_dim = hidden_dim\n",
    "        self.dropout = nn.Dropout(dropout_p)\n",
    "        \n",
    "        self.gru = nn.GRU(embed_dim, self.hidden_dim,\n",
    "                          num_layers=self.n_layers,\n",
    "                          batch_first=True)\n",
    "        self.out = nn.Linear(self.hidden_dim, n_classes)\n",
    "        \n",
    "    def forward(self, x):\n",
    "        x = self.embed(x)\n",
    "        h_0 = self._init_state(batch_size=x.size(0))\n",
    "        x, _ = self.gru(x, h_0)\n",
    "        h_t = x[:, -1, :]\n",
    "        self.dropout(h_t)\n",
    "        logit = self.out(h_t)\n",
    "        return logit\n",
    "    \n",
    "    def _init_state(self, batch_size=1):\n",
    "        weight = next(self.parameters()).data\n",
    "        return weight.new(self.n_layers, batch_size, self.hidden_dim).zero_()"
   ]
  },
  {
   "cell_type": "code",
   "execution_count": 16,
   "id": "10b280b2",
   "metadata": {
    "ExecuteTime": {
     "end_time": "2023-02-05T06:07:31.373434Z",
     "start_time": "2023-02-05T06:07:31.355801Z"
    }
   },
   "outputs": [],
   "source": [
    "def train(model, optimizer, train_iter):\n",
    "        model.train()\n",
    "        for b, batch in enumerate(train_iter):\n",
    "            x, y = batch.text.to(DEVICE), batch.label.to(DEVICE)\n",
    "            y.data.sub_(1)\n",
    "            \n",
    "            optimizer.zero_grad()\n",
    "            logit = model(x)\n",
    "            \n",
    "            loss = F.cross_entropy(logit, y)\n",
    "            loss.backward()\n",
    "            optimizer.step()"
   ]
  },
  {
   "cell_type": "code",
   "execution_count": 17,
   "id": "39158ca2",
   "metadata": {
    "ExecuteTime": {
     "end_time": "2023-02-05T06:07:31.668045Z",
     "start_time": "2023-02-05T06:07:31.655080Z"
    }
   },
   "outputs": [],
   "source": [
    "def evaluate(model, val_iter):\n",
    "        \"\"\"evaluate model\"\"\"\n",
    "        model.eval()\n",
    "        corrects, total_loss = 0, 0\n",
    "        for batch in val_iter:\n",
    "            x, y = batch.text.to(DEVICE), batch.label.to(DEVICE)\n",
    "            y.data.sub_(1)\n",
    "            logit = model(x)\n",
    "            loss = F.cross_entropy(logit, y, reduction='sum')\n",
    "            total_loss += loss.item()\n",
    "            corrects += (logit.max(1)[1].view(y.size()).data == y.data).sum()\n",
    "        \n",
    "        size = len(val_iter.dataset)\n",
    "        avg_loss = total_loss / size\n",
    "        avg_accuracy = 100.0 * corrects / size\n",
    "        return avg_loss, avg_accuracy"
   ]
  },
  {
   "cell_type": "code",
   "execution_count": 18,
   "id": "7de4e482",
   "metadata": {
    "ExecuteTime": {
     "end_time": "2023-02-05T06:07:32.264003Z",
     "start_time": "2023-02-05T06:07:32.180126Z"
    }
   },
   "outputs": [
    {
     "name": "stdout",
     "output_type": "stream",
     "text": [
      "Building Basic GRU model...\n"
     ]
    }
   ],
   "source": [
    "model = BasicGRU(1, 256, vocab_size, 128, n_classes, 0.5).to(DEVICE)\n",
    "optimizer = torch.optim.Adam(model.parameters(), lr=lr)"
   ]
  },
  {
   "cell_type": "code",
   "execution_count": 20,
   "id": "91c260e4",
   "metadata": {
    "ExecuteTime": {
     "end_time": "2023-02-05T06:21:51.420537Z",
     "start_time": "2023-02-05T06:08:18.436032Z"
    }
   },
   "outputs": [
    {
     "name": "stdout",
     "output_type": "stream",
     "text": [
      "[이폭: 1] 검증 오차: 0.69 | 검증 정확도:49.82\n",
      "[이폭: 2] 검증 오차: 0.68 | 검증 정확도:56.56\n",
      "[이폭: 3] 검증 오차: 0.65 | 검증 정확도:62.52\n",
      "[이폭: 4] 검증 오차: 0.38 | 검증 정확도:83.46\n",
      "[이폭: 5] 검증 오차: 0.34 | 검증 정확도:85.92\n",
      "[이폭: 6] 검증 오차: 0.42 | 검증 정확도:84.98\n",
      "[이폭: 7] 검증 오차: 0.42 | 검증 정확도:86.10\n",
      "[이폭: 8] 검증 오차: 0.44 | 검증 정확도:84.76\n",
      "[이폭: 9] 검증 오차: 0.44 | 검증 정확도:85.78\n",
      "[이폭: 10] 검증 오차: 0.50 | 검증 정확도:86.26\n",
      "[이폭: 11] 검증 오차: 0.51 | 검증 정확도:85.22\n",
      "[이폭: 12] 검증 오차: 0.56 | 검증 정확도:85.30\n",
      "[이폭: 13] 검증 오차: 0.54 | 검증 정확도:86.02\n",
      "[이폭: 14] 검증 오차: 0.58 | 검증 정확도:85.94\n",
      "[이폭: 15] 검증 오차: 0.57 | 검증 정확도:85.66\n",
      "[이폭: 16] 검증 오차: 0.62 | 검증 정확도:85.76\n",
      "[이폭: 17] 검증 오차: 0.59 | 검증 정확도:85.46\n",
      "[이폭: 18] 검증 오차: 0.63 | 검증 정확도:85.92\n",
      "[이폭: 19] 검증 오차: 0.66 | 검증 정확도:85.22\n",
      "[이폭: 20] 검증 오차: 0.62 | 검증 정확도:86.00\n",
      "[이폭: 21] 검증 오차: 0.63 | 검증 정확도:85.22\n",
      "[이폭: 22] 검증 오차: 0.63 | 검증 정확도:85.82\n",
      "[이폭: 23] 검증 오차: 0.70 | 검증 정확도:85.44\n",
      "[이폭: 24] 검증 오차: 0.72 | 검증 정확도:85.96\n",
      "[이폭: 25] 검증 오차: 0.76 | 검증 정확도:86.14\n",
      "[이폭: 26] 검증 오차: 0.78 | 검증 정확도:85.96\n",
      "[이폭: 27] 검증 오차: 0.80 | 검증 정확도:86.00\n",
      "[이폭: 28] 검증 오차: 0.83 | 검증 정확도:85.94\n",
      "[이폭: 29] 검증 오차: 0.85 | 검증 정확도:86.04\n",
      "[이폭: 30] 검증 오차: 0.86 | 검증 정확도:86.20\n",
      "[이폭: 31] 검증 오차: 0.88 | 검증 정확도:86.18\n",
      "[이폭: 32] 검증 오차: 0.89 | 검증 정확도:86.18\n",
      "[이폭: 33] 검증 오차: 0.90 | 검증 정확도:86.14\n",
      "[이폭: 34] 검증 오차: 0.91 | 검증 정확도:86.18\n",
      "[이폭: 35] 검증 오차: 0.92 | 검증 정확도:86.30\n",
      "[이폭: 36] 검증 오차: 0.94 | 검증 정확도:86.26\n",
      "[이폭: 37] 검증 오차: 0.95 | 검증 정확도:86.34\n",
      "[이폭: 38] 검증 오차: 0.97 | 검증 정확도:86.34\n",
      "[이폭: 39] 검증 오차: 1.00 | 검증 정확도:86.24\n",
      "[이폭: 40] 검증 오차: 0.99 | 검증 정확도:86.36\n"
     ]
    }
   ],
   "source": [
    "best_val_loss = None\n",
    "for e in range(1, EPOCHS+1):\n",
    "    train(model, optimizer, train_iter)\n",
    "    val_loss, val_accuracy = evaluate(model, val_iter)\n",
    "    \n",
    "    print(\"[이폭: %d] 검증 오차:%5.2f | 검증 정확도:%5.2f\" %\n",
    "         (e, val_loss, val_accuracy))"
   ]
  },
  {
   "cell_type": "code",
   "execution_count": 21,
   "id": "22fa1d73",
   "metadata": {
    "ExecuteTime": {
     "end_time": "2023-02-05T06:21:56.770408Z",
     "start_time": "2023-02-05T06:21:56.699088Z"
    }
   },
   "outputs": [],
   "source": [
    "# 검증오차가 가장 적은 최적의 모델을 저장\n",
    "if not best_val_loss or val_loss < best_val_loss:\n",
    "    if not os.path.isdir(\"snapshot\"):\n",
    "        os.makedirs(\"snapshot\")\n",
    "    torch.save(model.state_dict(), './snapshot/txtclassification.pt')\n",
    "    best_val_loss = val_loss"
   ]
  },
  {
   "cell_type": "code",
   "execution_count": 22,
   "id": "9d514bed",
   "metadata": {
    "ExecuteTime": {
     "end_time": "2023-02-05T06:22:01.418042Z",
     "start_time": "2023-02-05T06:21:57.254159Z"
    }
   },
   "outputs": [
    {
     "name": "stdout",
     "output_type": "stream",
     "text": [
      "테스트 오차: 0.87 | 테스트 정확도:85.67\n"
     ]
    }
   ],
   "source": [
    "model.load_state_dict(torch.load('./snapshot/txtclassification.pt'))\n",
    "test_loss, test_acc = evaluate(model, test_iter)\n",
    "print('테스트 오차:%5.2f | 테스트 정확도:%5.2f' % (test_loss, test_acc))"
   ]
  },
  {
   "cell_type": "markdown",
   "id": "2d2384c3",
   "metadata": {},
   "source": [
    "## Seq2Seq 기계 번역"
   ]
  },
  {
   "cell_type": "code",
   "execution_count": 23,
   "id": "c0654679",
   "metadata": {
    "ExecuteTime": {
     "end_time": "2023-02-05T06:22:07.012141Z",
     "start_time": "2023-02-05T06:22:06.267984Z"
    }
   },
   "outputs": [],
   "source": [
    "import torch\n",
    "import torch.nn as nn\n",
    "import random\n",
    "import matplotlib.pyplot as plt"
   ]
  },
  {
   "cell_type": "code",
   "execution_count": null,
   "id": "a75ea50a",
   "metadata": {
    "ExecuteTime": {
     "end_time": "2023-02-05T06:22:07.075089Z",
     "start_time": "2023-02-05T06:22:07.075089Z"
    }
   },
   "outputs": [],
   "source": [
    "vocab_size = 256 # 총 아스키 코드 개수"
   ]
  },
  {
   "cell_type": "code",
   "execution_count": 24,
   "id": "04e8435d",
   "metadata": {
    "ExecuteTime": {
     "end_time": "2023-02-05T06:22:07.183079Z",
     "start_time": "2023-02-05T06:22:07.173078Z"
    }
   },
   "outputs": [],
   "source": [
    "x_ = list(map(ord, \"hello\"))\n",
    "y_ = list(map(ord, \"hola\"))\n",
    "x = torch.LongTensor(x_)\n",
    "y = torch.LongTensor(y_)"
   ]
  },
  {
   "cell_type": "code",
   "execution_count": 54,
   "id": "0d57a48c",
   "metadata": {
    "ExecuteTime": {
     "end_time": "2023-02-05T06:29:02.135752Z",
     "start_time": "2023-02-05T06:29:02.124994Z"
    }
   },
   "outputs": [],
   "source": [
    "class Seq2Seq(nn.Module):\n",
    "    def __init__(self, vocab_size, hidden_size):\n",
    "        super(Seq2Seq, self).__init__()\n",
    "        self.n_layers = 1\n",
    "        self.hidden_size = hidden_size\n",
    "        self.embedding = nn.Embedding(vocab_size, hidden_size)\n",
    "        self.encoder = nn.GRU(hidden_size, hidden_size)\n",
    "        self.decoder = nn.GRU(hidden_size, hidden_size)\n",
    "        self.project = nn.Linear(hidden_size, vocab_size)\n",
    "\n",
    "    def forward(self, inputs, targets):\n",
    "        # 인코더에 들어갈 입력\n",
    "        initial_state = self._init_state()\n",
    "        embedding = self.embedding(inputs).unsqueeze(1)\n",
    "        # embedding = [seq_len, batch_size, embedding_size]\n",
    "        \n",
    "        # 인코더 (Encoder)\n",
    "        encoder_output, encoder_state = self.encoder(embedding, initial_state)\n",
    "        # encoder_output = [seq_len, batch_size, hidden_size]\n",
    "        # encoder_state  = [n_layers, seq_len, hidden_size]\n",
    "\n",
    "        # 디코더에 들어갈 입력\n",
    "        decoder_state = encoder_state\n",
    "        decoder_input = torch.LongTensor([0])\n",
    "        \n",
    "        # 디코더 (Decoder)\n",
    "        outputs = []\n",
    "        \n",
    "        for i in range(targets.size()[0]):\n",
    "            decoder_input = self.embedding(decoder_input).unsqueeze(1)\n",
    "            decoder_output, decoder_state = self.decoder(decoder_input, decoder_state)\n",
    "            projection = self.project(decoder_output)\n",
    "            outputs.append(projection)\n",
    "            \n",
    "            #티처 포싱(Teacher Forcing) 사용\n",
    "            decoder_input = torch.LongTensor([targets[i]])\n",
    "\n",
    "        outputs = torch.stack(outputs).squeeze()\n",
    "        return outputs\n",
    "    \n",
    "    def _init_state(self, batch_size=1):\n",
    "        weight = next(self.parameters()).data\n",
    "        return weight.new(self.n_layers, batch_size, self.hidden_size).zero_()"
   ]
  },
  {
   "cell_type": "code",
   "execution_count": 55,
   "id": "9d57ee50",
   "metadata": {
    "ExecuteTime": {
     "end_time": "2023-02-05T06:29:03.212936Z",
     "start_time": "2023-02-05T06:29:03.185021Z"
    }
   },
   "outputs": [],
   "source": [
    "seq2seq = Seq2Seq(vocab_size, 16)\n",
    "criterion = nn.CrossEntropyLoss()\n",
    "optimizer = torch.optim.Adam(seq2seq.parameters(), lr=1e-3)"
   ]
  },
  {
   "cell_type": "code",
   "execution_count": 56,
   "id": "4788b6c7",
   "metadata": {
    "ExecuteTime": {
     "end_time": "2023-02-05T06:29:30.781945Z",
     "start_time": "2023-02-05T06:29:03.459494Z"
    }
   },
   "outputs": [
    {
     "name": "stdout",
     "output_type": "stream",
     "text": [
      "\n",
      " 반복:0 오차: 10.839789390563965\n",
      "['됽', '䐗', '낫', '蝀']\n",
      "\n",
      " 반복:100 오차: 6.463189125061035\n",
      "['h', 'h', 'h', 'o']\n",
      "\n",
      " 반복:200 오차: 2.671907424926758\n",
      "['h', 'h', 'h', 'a']\n",
      "\n",
      " 반복:300 오차: 1.1441028118133545\n",
      "['h', 'l', 'l', 'a']\n",
      "\n",
      " 반복:400 오차: 0.7974412441253662\n",
      "['h', 'l', 'l', 'a']\n",
      "\n",
      " 반복:500 오차: 0.6793394684791565\n",
      "['h', 'l', 'l', 'a']\n",
      "\n",
      " 반복:600 오차: 0.6111288666725159\n",
      "['h', 'l', 'l', 'a']\n",
      "\n",
      " 반복:700 오차: 0.4535644054412842\n",
      "['h', 'o', 'l', 'a']\n",
      "\n",
      " 반복:800 오차: 0.34339526295661926\n",
      "['h', 'o', 'l', 'a']\n",
      "\n",
      " 반복:900 오차: 0.24392031133174896\n",
      "['h', 'o', 'l', 'a']\n"
     ]
    }
   ],
   "source": [
    "# 학습\n",
    "log = []\n",
    "for i in range(1000):\n",
    "    prediction = seq2seq(x, y)\n",
    "    loss = criterion(prediction, y)\n",
    "    optimizer.zero_grad()\n",
    "    loss.backward()\n",
    "    optimizer.step()\n",
    "    loss_val = loss.data\n",
    "    log.append(loss_val)\n",
    "    if i % 100 == 0:\n",
    "        print(\"\\n 반복:%d 오차: %s\" % (i, loss_val.item()))\n",
    "        _, top1 = prediction.data.topk(1, 1)\n",
    "        print([chr(c) for c in top1.squeeze().numpy().tolist()])"
   ]
  },
  {
   "cell_type": "code",
   "execution_count": null,
   "id": "aa6b68b3",
   "metadata": {},
   "outputs": [],
   "source": []
  }
 ],
 "metadata": {
  "hide_input": false,
  "kernelspec": {
   "display_name": "Python 3 (ipykernel)",
   "language": "python",
   "name": "python3"
  },
  "language_info": {
   "codemirror_mode": {
    "name": "ipython",
    "version": 3
   },
   "file_extension": ".py",
   "mimetype": "text/x-python",
   "name": "python",
   "nbconvert_exporter": "python",
   "pygments_lexer": "ipython3",
   "version": "3.9.13"
  },
  "toc": {
   "base_numbering": 1,
   "nav_menu": {},
   "number_sections": true,
   "sideBar": true,
   "skip_h1_title": false,
   "title_cell": "Table of Contents",
   "title_sidebar": "Contents",
   "toc_cell": false,
   "toc_position": {},
   "toc_section_display": true,
   "toc_window_display": false
  },
  "varInspector": {
   "cols": {
    "lenName": 16,
    "lenType": 16,
    "lenVar": 40
   },
   "kernels_config": {
    "python": {
     "delete_cmd_postfix": "",
     "delete_cmd_prefix": "del ",
     "library": "var_list.py",
     "varRefreshCmd": "print(var_dic_list())"
    },
    "r": {
     "delete_cmd_postfix": ") ",
     "delete_cmd_prefix": "rm(",
     "library": "var_list.r",
     "varRefreshCmd": "cat(var_dic_list()) "
    }
   },
   "types_to_exclude": [
    "module",
    "function",
    "builtin_function_or_method",
    "instance",
    "_Feature"
   ],
   "window_display": false
  }
 },
 "nbformat": 4,
 "nbformat_minor": 5
}
