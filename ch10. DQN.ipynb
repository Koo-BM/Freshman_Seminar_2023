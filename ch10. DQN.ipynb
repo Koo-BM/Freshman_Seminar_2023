{
 "cells": [
  {
   "cell_type": "markdown",
   "id": "13ca0973",
   "metadata": {},
   "source": [
    "### 필수 모듈 임포트"
   ]
  },
  {
   "cell_type": "code",
   "execution_count": 2,
   "id": "579fabb5",
   "metadata": {
    "ExecuteTime": {
     "end_time": "2023-03-01T07:51:20.005298Z",
     "start_time": "2023-03-01T07:51:03.991962Z"
    },
    "scrolled": true
   },
   "outputs": [
    {
     "name": "stdout",
     "output_type": "stream",
     "text": [
      "Collecting gym\n",
      "  Downloading gym-0.26.2.tar.gz (721 kB)\n",
      "     -------------------------------------- 721.7/721.7 kB 6.5 MB/s eta 0:00:00\n",
      "  Installing build dependencies: started\n",
      "  Installing build dependencies: finished with status 'done'\n",
      "  Getting requirements to build wheel: started\n",
      "  Getting requirements to build wheel: finished with status 'done'\n",
      "  Preparing metadata (pyproject.toml): started\n",
      "  Preparing metadata (pyproject.toml): finished with status 'done'\n",
      "Requirement already satisfied: numpy>=1.18.0 in c:\\users\\user\\anaconda3\\lib\\site-packages (from gym) (1.21.6)\n",
      "Requirement already satisfied: importlib-metadata>=4.8.0 in c:\\users\\user\\anaconda3\\lib\\site-packages (from gym) (4.11.3)\n",
      "Collecting gym-notices>=0.0.4\n",
      "  Downloading gym_notices-0.0.8-py3-none-any.whl (3.0 kB)\n",
      "Requirement already satisfied: cloudpickle>=1.2.0 in c:\\users\\user\\anaconda3\\lib\\site-packages (from gym) (2.0.0)\n",
      "Requirement already satisfied: zipp>=0.5 in c:\\users\\user\\anaconda3\\lib\\site-packages (from importlib-metadata>=4.8.0->gym) (3.8.0)\n",
      "Building wheels for collected packages: gym\n",
      "  Building wheel for gym (pyproject.toml): started\n",
      "  Building wheel for gym (pyproject.toml): finished with status 'done'\n",
      "  Created wheel for gym: filename=gym-0.26.2-py3-none-any.whl size=827643 sha256=f4460c3a67cb91a5203f447e99aadb4737693b84ae1d5e63f1ad198d1e6a9cc1\n",
      "  Stored in directory: c:\\users\\user\\appdata\\local\\pip\\cache\\wheels\\af\\2b\\30\\5e78b8b9599f2a2286a582b8da80594f654bf0e18d825a4405\n",
      "Successfully built gym\n",
      "Installing collected packages: gym-notices, gym\n",
      "Successfully installed gym-0.26.2 gym-notices-0.0.8\n"
     ]
    }
   ],
   "source": [
    "#!pip install gym"
   ]
  },
  {
   "cell_type": "code",
   "execution_count": 97,
   "id": "674c627b",
   "metadata": {
    "ExecuteTime": {
     "end_time": "2023-03-01T09:03:50.110292Z",
     "start_time": "2023-03-01T09:03:50.102878Z"
    }
   },
   "outputs": [],
   "source": [
    "import gym\n",
    "import random\n",
    "import math\n",
    "import torch\n",
    "import torch.nn as nn\n",
    "import torch.optim as optim\n",
    "import torch.nn.functional as F\n",
    "from collections import deque\n",
    "import matplotlib.pyplot as plt\n",
    "\n",
    "from IPython import display\n",
    "%matplotlib inline"
   ]
  },
  {
   "cell_type": "markdown",
   "id": "a79a2448",
   "metadata": {},
   "source": [
    "### 하이퍼파라미터"
   ]
  },
  {
   "cell_type": "code",
   "execution_count": 45,
   "id": "801bf203",
   "metadata": {
    "ExecuteTime": {
     "end_time": "2023-03-01T08:42:45.235294Z",
     "start_time": "2023-03-01T08:42:45.217183Z"
    }
   },
   "outputs": [],
   "source": [
    "# 하이퍼파라미터\n",
    "EPISODES = 50  # 에피소드 반복 횟수\n",
    "EPS_START = 0.9  # 학습 시작 시 에이전트가 무작위로 행동할 확률\n",
    "EPS_END = 0.05  # 학습 막바지에 에이전트가 무작위로 행동할 확률\n",
    "EPS_DECAY = 200  # 학습 진행 시 에이전트가 무작위로 행동할 확률을 감소시키는 값\n",
    "GAMMA = 0.8  # 할인계수\n",
    "LR = 0.001  # 학습률\n",
    "BATCH_SIZE = 64  # 배치 크기"
   ]
  },
  {
   "cell_type": "markdown",
   "id": "de0dcd41",
   "metadata": {},
   "source": [
    "### DQN 에이전트"
   ]
  },
  {
   "cell_type": "code",
   "execution_count": 93,
   "id": "6174bd81",
   "metadata": {
    "ExecuteTime": {
     "end_time": "2023-03-01T09:03:05.151777Z",
     "start_time": "2023-03-01T09:03:05.138436Z"
    }
   },
   "outputs": [],
   "source": [
    "# 카트 위치, 카트 속도, 막대기 각도, 막대기 속 --> 왼쪽, 오른쪽\n",
    "class DQNAgent:\n",
    "    def __init__(self):\n",
    "        self.model = nn.Sequential(\n",
    "            nn.Linear(4, 256),\n",
    "            nn.ReLU(),\n",
    "            nn.Linear(256, 2)\n",
    "        )\n",
    "        \n",
    "        self.optimizer = optim.Adam(self.model.parameters(), LR)\n",
    "        self.steps_done = 0\n",
    "        \n",
    "        # 이전 경험 기억하기\n",
    "        ## self.memory = [(상태, 행동, 보상, 다음 상태)...]\n",
    "        self.memory = deque(maxlen=10000)\n",
    "        \n",
    "    # 새로운 경험 덧붙이는 함수\n",
    "    def memorize(self, state, action, reward, next_state):\n",
    "        self.memory.append((state,\n",
    "                            action,\n",
    "                            torch.FloatTensor([reward]),\n",
    "                            torch.FloatTensor([next_state])))\n",
    "    \n",
    "    # 행동하기 --> Epsilon-greedy algorithm\n",
    "    def act(self, state):\n",
    "        eps_threshold = EPS_END + (EPS_START - EPS_END) * math.exp(-1. * self.steps_done / EPS_DECAY)\n",
    "        self.steps_done += 1\n",
    "        if random.random() > eps_threshold:\n",
    "            return self.model(state).data.max(1)[1].view(1, 1)\n",
    "        else:\n",
    "            return torch.LongTensor([[random.randrange(2)]])\n",
    "        \n",
    "    # 경험으로부터 배우기 --> experience replay\n",
    "    def learn(self):\n",
    "        if len(self.memory) < BATCH_SIZE:\n",
    "            return\n",
    "        batch = random.sample(self.memory, BATCH_SIZE)\n",
    "        states, actions, rewards, next_states = zip(*batch)\n",
    "        \n",
    "        states = torch.cat(states)\n",
    "        actions = torch.cat(actions)\n",
    "        rewards = torch.cat(rewards)\n",
    "        next_states = torch.cat(next_states)\n",
    "        \n",
    "        current_q = self.model(states).gather(1, actions)\n",
    "        \n",
    "        # 할인된 미래 가치로 누적된 보상을 극대화하는 방향으로 학습\n",
    "        max_next_q = self.model(next_states).detach().max(1)[0]\n",
    "        expected_q = rewards + (GAMMA * max_next_q)\n",
    "        \n",
    "        loss = F.mse_loss(current_q.squeeze(), expected_q)\n",
    "        self.optimizer.zero_grad()\n",
    "        loss.backward()\n",
    "        self.optimizer.step()"
   ]
  },
  {
   "cell_type": "markdown",
   "id": "c6dec953",
   "metadata": {},
   "source": [
    "### 학습 시작"
   ]
  },
  {
   "cell_type": "code",
   "execution_count": 108,
   "id": "805f5b29",
   "metadata": {
    "ExecuteTime": {
     "end_time": "2023-03-01T09:06:20.583015Z",
     "start_time": "2023-03-01T09:06:20.541382Z"
    }
   },
   "outputs": [],
   "source": [
    "env = gym.make('CartPole-v0')\n",
    "agent = DQNAgent()\n",
    "score_history = []"
   ]
  },
  {
   "cell_type": "code",
   "execution_count": 109,
   "id": "3a34c6b9",
   "metadata": {
    "ExecuteTime": {
     "end_time": "2023-03-01T09:06:26.664264Z",
     "start_time": "2023-03-01T09:06:21.200033Z"
    }
   },
   "outputs": [
    {
     "name": "stdout",
     "output_type": "stream",
     "text": [
      "에피소드:1 점수: 12\n",
      "에피소드:2 점수: 26\n",
      "에피소드:3 점수: 10\n",
      "에피소드:4 점수: 9\n",
      "에피소드:5 점수: 28\n",
      "에피소드:6 점수: 29\n",
      "에피소드:7 점수: 12\n",
      "에피소드:8 점수: 9\n",
      "에피소드:9 점수: 18\n",
      "에피소드:10 점수: 10\n",
      "에피소드:11 점수: 9\n",
      "에피소드:12 점수: 14\n",
      "에피소드:13 점수: 10\n",
      "에피소드:14 점수: 10\n",
      "에피소드:15 점수: 11\n",
      "에피소드:16 점수: 13\n",
      "에피소드:17 점수: 13\n",
      "에피소드:18 점수: 9\n",
      "에피소드:19 점수: 10\n",
      "에피소드:20 점수: 12\n",
      "에피소드:21 점수: 11\n",
      "에피소드:22 점수: 31\n",
      "에피소드:23 점수: 30\n",
      "에피소드:24 점수: 51\n",
      "에피소드:25 점수: 66\n",
      "에피소드:26 점수: 67\n",
      "에피소드:27 점수: 88\n",
      "에피소드:28 점수: 99\n",
      "에피소드:29 점수: 108\n",
      "에피소드:30 점수: 75\n",
      "에피소드:31 점수: 121\n",
      "에피소드:32 점수: 129\n",
      "에피소드:33 점수: 132\n",
      "에피소드:34 점수: 101\n",
      "에피소드:35 점수: 131\n",
      "에피소드:36 점수: 175\n",
      "에피소드:37 점수: 157\n",
      "에피소드:38 점수: 186\n",
      "에피소드:39 점수: 121\n",
      "에피소드:40 점수: 150\n",
      "에피소드:41 점수: 169\n",
      "에피소드:42 점수: 110\n",
      "에피소드:43 점수: 181\n",
      "에피소드:44 점수: 133\n",
      "에피소드:45 점수: 144\n",
      "에피소드:46 점수: 138\n",
      "에피소드:47 점수: 147\n",
      "에피소드:48 점수: 164\n",
      "에피소드:49 점수: 196\n",
      "에피소드:50 점수: 181\n"
     ]
    }
   ],
   "source": [
    "for e in range(1, EPISODES+1):\n",
    "    state, _ = env.reset()\n",
    "    steps = 0\n",
    "    while True:\n",
    "        env.render()\n",
    "        state = torch.FloatTensor([state])\n",
    "        action = agent.act(state)\n",
    "        next_state, reward, done, _, _ = env.step(action.item())\n",
    "\n",
    "        # 게임이 끝났을 경우 마이너스 보상주기\n",
    "        if done:\n",
    "            reward = -1\n",
    "\n",
    "        agent.memorize(state, action, reward, next_state)\n",
    "        agent.learn()\n",
    "\n",
    "        state = next_state\n",
    "        steps += 1\n",
    "\n",
    "        if done:\n",
    "            print(\"에피소드:{0} 점수: {1}\".format(e, steps))\n",
    "            score_history.append(steps)\n",
    "            break"
   ]
  },
  {
   "cell_type": "code",
   "execution_count": 110,
   "id": "7748bad6",
   "metadata": {
    "ExecuteTime": {
     "end_time": "2023-03-01T09:06:27.847809Z",
     "start_time": "2023-03-01T09:06:27.731138Z"
    }
   },
   "outputs": [
    {
     "data": {
      "image/png": "[encoded data removed]",
      "text/plain": [
       "<Figure size 640x480 with 1 Axes>"
      ]
     },
     "metadata": {},
     "output_type": "display_data"
    }
   ],
   "source": [
    "plt.plot(score_history)\n",
    "plt.ylabel('score')\n",
    "plt.show()"
   ]
  }
 ],
 "metadata": {
  "hide_input": false,
  "kernelspec": {
   "display_name": "Python 3 (ipykernel)",
   "language": "python",
   "name": "python3"
  },
  "language_info": {
   "codemirror_mode": {
    "name": "ipython",
    "version": 3
   },
   "file_extension": ".py",
   "mimetype": "text/x-python",
   "name": "python",
   "nbconvert_exporter": "python",
   "pygments_lexer": "ipython3",
   "version": "3.9.13"
  },
  "toc": {
   "base_numbering": 1,
   "nav_menu": {},
   "number_sections": true,
   "sideBar": true,
   "skip_h1_title": false,
   "title_cell": "Table of Contents",
   "title_sidebar": "Contents",
   "toc_cell": false,
   "toc_position": {},
   "toc_section_display": true,
   "toc_window_display": false
  },
  "varInspector": {
   "cols": {
    "lenName": 16,
    "lenType": 16,
    "lenVar": 40
   },
   "kernels_config": {
    "python": {
     "delete_cmd_postfix": "",
     "delete_cmd_prefix": "del ",
     "library": "var_list.py",
     "varRefreshCmd": "print(var_dic_list())"
    },
    "r": {
     "delete_cmd_postfix": ") ",
     "delete_cmd_prefix": "rm(",
     "library": "var_list.r",
     "varRefreshCmd": "cat(var_dic_list()) "
    }
   },
   "types_to_exclude": [
    "module",
    "function",
    "builtin_function_or_method",
    "instance",
    "_Feature"
   ],
   "window_display": false
  }
 },
 "nbformat": 4,
 "nbformat_minor": 5
}
