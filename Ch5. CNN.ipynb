{
 "cells": [
  {
   "cell_type": "markdown",
   "metadata": {},
   "source": [
    "# Ch5. CNN"
   ]
  },
  {
   "cell_type": "markdown",
   "metadata": {},
   "source": [
    "#### 패키지 import"
   ]
  },
  {
   "cell_type": "code",
   "execution_count": 1,
   "metadata": {},
   "outputs": [],
   "source": [
    "import torch\n",
    "import torch.nn as nn\n",
    "import torch.optim as optim\n",
    "import torch.nn.functional as F\n",
    "from torchvision import transforms, datasets"
   ]
  },
  {
   "cell_type": "markdown",
   "metadata": {},
   "source": [
    "#### CUDA 사용 가능여부"
   ]
  },
  {
   "cell_type": "code",
   "execution_count": 2,
   "metadata": {},
   "outputs": [
    {
     "name": "stdout",
     "output_type": "stream",
     "text": [
      "cuda\n"
     ]
    }
   ],
   "source": [
    "USE_CUDA = torch.cuda.is_available()\n",
    "DEVICE = torch.device(\"cuda\" if USE_CUDA else \"cpu\")\n",
    "print(DEVICE)"
   ]
  },
  {
   "cell_type": "markdown",
   "metadata": {},
   "source": [
    "#### 에폭, 배치사이즈"
   ]
  },
  {
   "cell_type": "code",
   "execution_count": 3,
   "metadata": {},
   "outputs": [],
   "source": [
    "EPOCH = 40\n",
    "BATCH_SIZE = 64"
   ]
  },
  {
   "cell_type": "markdown",
   "metadata": {},
   "source": [
    "## 데이터 불러오기 : Fashion MNIST"
   ]
  },
  {
   "cell_type": "code",
   "execution_count": 4,
   "metadata": {},
   "outputs": [
    {
     "name": "stdout",
     "output_type": "stream",
     "text": [
      "Downloading http://fashion-mnist.s3-website.eu-central-1.amazonaws.com/train-images-idx3-ubyte.gz to ./.data\\FashionMNIST\\raw\\train-images-idx3-ubyte.gz\n"
     ]
    },
    {
     "data": {
      "application/vnd.jupyter.widget-view+json": {
       "model_id": "c0669754b1ae4f4cb64df4265d128e50",
       "version_major": 2,
       "version_minor": 0
      },
      "text/plain": [
       "HBox(children=(FloatProgress(value=0.0, max=26421880.0), HTML(value='')))"
      ]
     },
     "metadata": {},
     "output_type": "display_data"
    },
    {
     "name": "stdout",
     "output_type": "stream",
     "text": [
      "\n",
      "Extracting ./.data\\FashionMNIST\\raw\\train-images-idx3-ubyte.gz to ./.data\\FashionMNIST\\raw\n",
      "Downloading http://fashion-mnist.s3-website.eu-central-1.amazonaws.com/train-labels-idx1-ubyte.gz to ./.data\\FashionMNIST\\raw\\train-labels-idx1-ubyte.gz\n"
     ]
    },
    {
     "data": {
      "application/vnd.jupyter.widget-view+json": {
       "model_id": "49d4a798b3d2404d91b8ac1bbcada828",
       "version_major": 2,
       "version_minor": 0
      },
      "text/plain": [
       "HBox(children=(FloatProgress(value=0.0, max=29515.0), HTML(value='')))"
      ]
     },
     "metadata": {},
     "output_type": "display_data"
    },
    {
     "name": "stdout",
     "output_type": "stream",
     "text": [
      "\n",
      "Extracting ./.data\\FashionMNIST\\raw\\train-labels-idx1-ubyte.gz to ./.data\\FashionMNIST\\raw\n",
      "Downloading http://fashion-mnist.s3-website.eu-central-1.amazonaws.com/t10k-images-idx3-ubyte.gz to ./.data\\FashionMNIST\\raw\\t10k-images-idx3-ubyte.gz\n"
     ]
    },
    {
     "data": {
      "application/vnd.jupyter.widget-view+json": {
       "model_id": "71ae453d756f47c0a4cdf1ec6bb53616",
       "version_major": 2,
       "version_minor": 0
      },
      "text/plain": [
       "HBox(children=(FloatProgress(value=0.0, max=4422102.0), HTML(value='')))"
      ]
     },
     "metadata": {},
     "output_type": "display_data"
    },
    {
     "name": "stdout",
     "output_type": "stream",
     "text": [
      "\n",
      "Extracting ./.data\\FashionMNIST\\raw\\t10k-images-idx3-ubyte.gz to ./.data\\FashionMNIST\\raw\n",
      "Downloading http://fashion-mnist.s3-website.eu-central-1.amazonaws.com/t10k-labels-idx1-ubyte.gz to ./.data\\FashionMNIST\\raw\\t10k-labels-idx1-ubyte.gz\n"
     ]
    },
    {
     "data": {
      "application/vnd.jupyter.widget-view+json": {
       "model_id": "dbce476553db489aa90a884c89b2b2de",
       "version_major": 2,
       "version_minor": 0
      },
      "text/plain": [
       "HBox(children=(FloatProgress(value=0.0, max=5148.0), HTML(value='')))"
      ]
     },
     "metadata": {},
     "output_type": "display_data"
    },
    {
     "name": "stdout",
     "output_type": "stream",
     "text": [
      "\n",
      "Extracting ./.data\\FashionMNIST\\raw\\t10k-labels-idx1-ubyte.gz to ./.data\\FashionMNIST\\raw\n",
      "Processing...\n",
      "Done!\n"
     ]
    },
    {
     "name": "stderr",
     "output_type": "stream",
     "text": [
      "C:\\Users\\user\\anaconda3\\lib\\site-packages\\torchvision\\datasets\\mnist.py:479: UserWarning: The given NumPy array is not writeable, and PyTorch does not support non-writeable tensors. This means you can write to the underlying (supposedly non-writeable) NumPy array using the tensor. You may want to copy the array to protect its data or make it writeable before converting it to a tensor. This type of warning will be suppressed for the rest of this program. (Triggered internally at  ..\\torch\\csrc\\utils\\tensor_numpy.cpp:143.)\n",
      "  return torch.from_numpy(parsed.astype(m[2], copy=False)).view(*s)\n"
     ]
    }
   ],
   "source": [
    "train_loader = torch.utils.data.DataLoader(\n",
    "    datasets.FashionMNIST('./.data',\n",
    "                         train=True,\n",
    "                         download=True,\n",
    "                         transform=transforms.Compose([\n",
    "                             transforms.ToTensor(),\n",
    "                             transforms.Normalize((0.1307,), (0.3081,))\n",
    "                         ])),\n",
    "    batch_size=BATCH_SIZE, shuffle=True)\n",
    "\n",
    "test_loader = torch.utils.data.DataLoader(\n",
    "    datasets.FashionMNIST('./.data',\n",
    "                         train=False,\n",
    "                         transform=transforms.Compose([\n",
    "                             transforms.ToTensor(),\n",
    "                             transforms.Normalize((0.1307,), (0.3081,))\n",
    "                         ])),\n",
    "    batch_size=BATCH_SIZE, shuffle=True)"
   ]
  },
  {
   "cell_type": "markdown",
   "metadata": {},
   "source": [
    "#### CNN 클래스"
   ]
  },
  {
   "cell_type": "code",
   "execution_count": 5,
   "metadata": {},
   "outputs": [],
   "source": [
    "class CNN(nn.Module):\n",
    "    def __init__(self):\n",
    "        super(CNN, self).__init__()\n",
    "        self.conv1 = nn.Conv2d(1, 10, kernel_size=5)\n",
    "        self.conv2 = nn.Conv2d(10, 20, kernel_size=5)\n",
    "        \n",
    "        self.drop = nn.Dropout2d()\n",
    "        \n",
    "        self.fc1 = nn.Linear(320, 50)\n",
    "        self.fc2 = nn.Linear(50, 10)\n",
    "    \n",
    "    def forward(self, x):\n",
    "        x = F.relu(F.max_pool2d(self.conv1(x), 2))\n",
    "        x = F.relu(F.max_pool2d(self.conv2(x), 2))\n",
    "        \n",
    "        x = x.view(-1, 320)\n",
    "        \n",
    "        x = F.relu(self.fc1(x))\n",
    "        x = self.drop(x)\n",
    "        x= self.fc2(x)\n",
    "        \n",
    "        return x"
   ]
  },
  {
   "cell_type": "markdown",
   "metadata": {},
   "source": [
    "#### Model과 Optimizer 설정"
   ]
  },
  {
   "cell_type": "code",
   "execution_count": 6,
   "metadata": {},
   "outputs": [],
   "source": [
    "model = CNN().to(DEVICE)\n",
    "optimizer = optim.SGD(model.parameters(), lr=0.01, momentum=0.5)"
   ]
  },
  {
   "cell_type": "markdown",
   "metadata": {},
   "source": [
    "## 학습"
   ]
  },
  {
   "cell_type": "code",
   "execution_count": 7,
   "metadata": {},
   "outputs": [],
   "source": [
    "def train(model, train_loader, optimizer, epoch):\n",
    "    model.train()\n",
    "    \n",
    "    for batch_idx, (data, target) in enumerate(train_loader):\n",
    "        data, target = data.to(DEVICE), target.to(DEVICE)\n",
    "        optimizer.zero_grad()\n",
    "        output = model(data)\n",
    "        loss = F.cross_entropy(output, target)\n",
    "        loss.backward()\n",
    "        optimizer.step()\n",
    "        \n",
    "        if batch_idx % 200 == 0:\n",
    "            print('Train Epoch: {} [{}/{} ({:.0f}%)]\\tLoss:{:.6f}'.format(epoch, batch_idx * len(data),\n",
    "                                                                         len(train_loader.dataset),\n",
    "                                                                         100. * batch_idx / len(train_loader),\n",
    "                                                                         loss.item()))"
   ]
  },
  {
   "cell_type": "markdown",
   "metadata": {},
   "source": [
    "## 평가"
   ]
  },
  {
   "cell_type": "code",
   "execution_count": 9,
   "metadata": {},
   "outputs": [],
   "source": [
    "def evaluate(model, test_loader):\n",
    "    model.eval()\n",
    "    test_loss = 0\n",
    "    correct = 0\n",
    "    with torch.no_grad():\n",
    "        for data, target in test_loader:\n",
    "            data, target = data.to(DEVICE), target.to(DEVICE)\n",
    "            output = model(data)\n",
    "            \n",
    "            # 배치 오차를 합산\n",
    "            test_loss += F.cross_entropy(output, target,\n",
    "                                        reduction='sum').item()\n",
    "            \n",
    "            # 가장 높은 값을 가진 인덱스가 바로 예측값\n",
    "            pred = output.max(1, keepdim=True)[1]\n",
    "            correct += pred.eq(target.view_as(pred)).sum().item()\n",
    "        \n",
    "        test_loss /= len(test_loader.dataset)\n",
    "        test_accuracy = 100. * correct / len(test_loader.dataset)\n",
    "        \n",
    "        return test_loss, test_accuracy"
   ]
  },
  {
   "cell_type": "code",
   "execution_count": 13,
   "metadata": {},
   "outputs": [
    {
     "name": "stdout",
     "output_type": "stream",
     "text": [
      "Train Epoch: 1 [0/60000 (0%)]\tLoss:0.847991\n",
      "Train Epoch: 1 [12800/60000 (21%)]\tLoss:0.549969\n",
      "Train Epoch: 1 [25600/60000 (43%)]\tLoss:0.777340\n",
      "Train Epoch: 1 [38400/60000 (64%)]\tLoss:0.524913\n",
      "Train Epoch: 1 [51200/60000 (85%)]\tLoss:0.635507\n",
      "[1] Test Loss: 0.5327, Accuracy: 79.13%\n",
      "Train Epoch: 2 [0/60000 (0%)]\tLoss:0.909547\n",
      "Train Epoch: 2 [12800/60000 (21%)]\tLoss:0.573917\n",
      "Train Epoch: 2 [25600/60000 (43%)]\tLoss:0.865054\n",
      "Train Epoch: 2 [38400/60000 (64%)]\tLoss:0.576435\n",
      "Train Epoch: 2 [51200/60000 (85%)]\tLoss:0.514963\n",
      "[2] Test Loss: 0.5117, Accuracy: 80.14%\n",
      "Train Epoch: 3 [0/60000 (0%)]\tLoss:0.633918\n",
      "Train Epoch: 3 [12800/60000 (21%)]\tLoss:0.648740\n",
      "Train Epoch: 3 [25600/60000 (43%)]\tLoss:0.249874\n",
      "Train Epoch: 3 [38400/60000 (64%)]\tLoss:0.444799\n",
      "Train Epoch: 3 [51200/60000 (85%)]\tLoss:0.530011\n",
      "[3] Test Loss: 0.4461, Accuracy: 83.98%\n",
      "Train Epoch: 4 [0/60000 (0%)]\tLoss:0.678140\n",
      "Train Epoch: 4 [12800/60000 (21%)]\tLoss:0.536541\n",
      "Train Epoch: 4 [25600/60000 (43%)]\tLoss:0.459108\n",
      "Train Epoch: 4 [38400/60000 (64%)]\tLoss:0.391125\n",
      "Train Epoch: 4 [51200/60000 (85%)]\tLoss:0.642647\n",
      "[4] Test Loss: 0.4275, Accuracy: 84.64%\n",
      "Train Epoch: 5 [0/60000 (0%)]\tLoss:0.441688\n",
      "Train Epoch: 5 [12800/60000 (21%)]\tLoss:0.543426\n",
      "Train Epoch: 5 [25600/60000 (43%)]\tLoss:0.592028\n",
      "Train Epoch: 5 [38400/60000 (64%)]\tLoss:0.489957\n",
      "Train Epoch: 5 [51200/60000 (85%)]\tLoss:0.534011\n",
      "[5] Test Loss: 0.4252, Accuracy: 84.48%\n",
      "Train Epoch: 6 [0/60000 (0%)]\tLoss:0.341015\n",
      "Train Epoch: 6 [12800/60000 (21%)]\tLoss:0.463720\n",
      "Train Epoch: 6 [25600/60000 (43%)]\tLoss:0.376643\n",
      "Train Epoch: 6 [38400/60000 (64%)]\tLoss:0.506959\n",
      "Train Epoch: 6 [51200/60000 (85%)]\tLoss:0.593332\n",
      "[6] Test Loss: 0.3979, Accuracy: 85.10%\n",
      "Train Epoch: 7 [0/60000 (0%)]\tLoss:0.331588\n",
      "Train Epoch: 7 [12800/60000 (21%)]\tLoss:0.592391\n",
      "Train Epoch: 7 [25600/60000 (43%)]\tLoss:0.719567\n",
      "Train Epoch: 7 [38400/60000 (64%)]\tLoss:0.373316\n",
      "Train Epoch: 7 [51200/60000 (85%)]\tLoss:0.334780\n",
      "[7] Test Loss: 0.3792, Accuracy: 85.60%\n",
      "Train Epoch: 8 [0/60000 (0%)]\tLoss:0.375506\n",
      "Train Epoch: 8 [12800/60000 (21%)]\tLoss:0.266162\n",
      "Train Epoch: 8 [25600/60000 (43%)]\tLoss:0.208037\n",
      "Train Epoch: 8 [38400/60000 (64%)]\tLoss:0.569239\n",
      "Train Epoch: 8 [51200/60000 (85%)]\tLoss:0.542315\n",
      "[8] Test Loss: 0.3654, Accuracy: 86.40%\n",
      "Train Epoch: 9 [0/60000 (0%)]\tLoss:0.477597\n",
      "Train Epoch: 9 [12800/60000 (21%)]\tLoss:0.449691\n",
      "Train Epoch: 9 [25600/60000 (43%)]\tLoss:0.504602\n",
      "Train Epoch: 9 [38400/60000 (64%)]\tLoss:0.384382\n",
      "Train Epoch: 9 [51200/60000 (85%)]\tLoss:0.318803\n",
      "[9] Test Loss: 0.3615, Accuracy: 86.77%\n",
      "Train Epoch: 10 [0/60000 (0%)]\tLoss:0.307409\n",
      "Train Epoch: 10 [12800/60000 (21%)]\tLoss:0.591122\n",
      "Train Epoch: 10 [25600/60000 (43%)]\tLoss:0.421125\n",
      "Train Epoch: 10 [38400/60000 (64%)]\tLoss:0.444024\n",
      "Train Epoch: 10 [51200/60000 (85%)]\tLoss:0.321174\n",
      "[10] Test Loss: 0.3526, Accuracy: 86.81%\n",
      "Train Epoch: 11 [0/60000 (0%)]\tLoss:0.255812\n",
      "Train Epoch: 11 [12800/60000 (21%)]\tLoss:0.442718\n",
      "Train Epoch: 11 [25600/60000 (43%)]\tLoss:0.396881\n",
      "Train Epoch: 11 [38400/60000 (64%)]\tLoss:0.262336\n",
      "Train Epoch: 11 [51200/60000 (85%)]\tLoss:0.622796\n",
      "[11] Test Loss: 0.3497, Accuracy: 86.87%\n",
      "Train Epoch: 12 [0/60000 (0%)]\tLoss:0.449136\n",
      "Train Epoch: 12 [12800/60000 (21%)]\tLoss:0.341964\n",
      "Train Epoch: 12 [25600/60000 (43%)]\tLoss:0.267893\n",
      "Train Epoch: 12 [38400/60000 (64%)]\tLoss:0.268214\n",
      "Train Epoch: 12 [51200/60000 (85%)]\tLoss:0.473994\n",
      "[12] Test Loss: 0.3456, Accuracy: 87.30%\n",
      "Train Epoch: 13 [0/60000 (0%)]\tLoss:0.385316\n",
      "Train Epoch: 13 [12800/60000 (21%)]\tLoss:0.419511\n",
      "Train Epoch: 13 [25600/60000 (43%)]\tLoss:0.376791\n",
      "Train Epoch: 13 [38400/60000 (64%)]\tLoss:0.424895\n",
      "Train Epoch: 13 [51200/60000 (85%)]\tLoss:0.448742\n",
      "[13] Test Loss: 0.3414, Accuracy: 87.50%\n",
      "Train Epoch: 14 [0/60000 (0%)]\tLoss:0.511473\n",
      "Train Epoch: 14 [12800/60000 (21%)]\tLoss:0.577804\n",
      "Train Epoch: 14 [25600/60000 (43%)]\tLoss:0.237960\n",
      "Train Epoch: 14 [38400/60000 (64%)]\tLoss:0.289715\n",
      "Train Epoch: 14 [51200/60000 (85%)]\tLoss:0.625458\n",
      "[14] Test Loss: 0.3270, Accuracy: 87.84%\n",
      "Train Epoch: 15 [0/60000 (0%)]\tLoss:0.426984\n",
      "Train Epoch: 15 [12800/60000 (21%)]\tLoss:0.413264\n",
      "Train Epoch: 15 [25600/60000 (43%)]\tLoss:0.414921\n",
      "Train Epoch: 15 [38400/60000 (64%)]\tLoss:0.427058\n",
      "Train Epoch: 15 [51200/60000 (85%)]\tLoss:0.334038\n",
      "[15] Test Loss: 0.3243, Accuracy: 88.05%\n",
      "Train Epoch: 16 [0/60000 (0%)]\tLoss:0.442343\n",
      "Train Epoch: 16 [12800/60000 (21%)]\tLoss:0.313546\n",
      "Train Epoch: 16 [25600/60000 (43%)]\tLoss:0.310699\n",
      "Train Epoch: 16 [38400/60000 (64%)]\tLoss:0.263827\n",
      "Train Epoch: 16 [51200/60000 (85%)]\tLoss:0.321166\n",
      "[16] Test Loss: 0.3314, Accuracy: 87.56%\n",
      "Train Epoch: 17 [0/60000 (0%)]\tLoss:0.375014\n",
      "Train Epoch: 17 [12800/60000 (21%)]\tLoss:0.251267\n",
      "Train Epoch: 17 [25600/60000 (43%)]\tLoss:0.539237\n",
      "Train Epoch: 17 [38400/60000 (64%)]\tLoss:0.295425\n",
      "Train Epoch: 17 [51200/60000 (85%)]\tLoss:0.337826\n",
      "[17] Test Loss: 0.3280, Accuracy: 88.11%\n",
      "Train Epoch: 18 [0/60000 (0%)]\tLoss:0.254730\n",
      "Train Epoch: 18 [12800/60000 (21%)]\tLoss:0.462179\n",
      "Train Epoch: 18 [25600/60000 (43%)]\tLoss:0.166105\n",
      "Train Epoch: 18 [38400/60000 (64%)]\tLoss:0.972098\n",
      "Train Epoch: 18 [51200/60000 (85%)]\tLoss:0.450983\n",
      "[18] Test Loss: 0.3178, Accuracy: 88.34%\n",
      "Train Epoch: 19 [0/60000 (0%)]\tLoss:0.399793\n",
      "Train Epoch: 19 [12800/60000 (21%)]\tLoss:0.296433\n",
      "Train Epoch: 19 [25600/60000 (43%)]\tLoss:0.379880\n",
      "Train Epoch: 19 [38400/60000 (64%)]\tLoss:0.338717\n",
      "Train Epoch: 19 [51200/60000 (85%)]\tLoss:0.289165\n",
      "[19] Test Loss: 0.3141, Accuracy: 88.74%\n",
      "Train Epoch: 20 [0/60000 (0%)]\tLoss:0.330379\n",
      "Train Epoch: 20 [12800/60000 (21%)]\tLoss:0.413184\n",
      "Train Epoch: 20 [25600/60000 (43%)]\tLoss:0.299868\n",
      "Train Epoch: 20 [38400/60000 (64%)]\tLoss:0.420481\n",
      "Train Epoch: 20 [51200/60000 (85%)]\tLoss:0.191109\n",
      "[20] Test Loss: 0.3177, Accuracy: 88.44%\n",
      "Train Epoch: 21 [0/60000 (0%)]\tLoss:0.348632\n",
      "Train Epoch: 21 [12800/60000 (21%)]\tLoss:0.417704\n",
      "Train Epoch: 21 [25600/60000 (43%)]\tLoss:0.254918\n",
      "Train Epoch: 21 [38400/60000 (64%)]\tLoss:0.287232\n",
      "Train Epoch: 21 [51200/60000 (85%)]\tLoss:0.246228\n",
      "[21] Test Loss: 0.3067, Accuracy: 88.63%\n",
      "Train Epoch: 22 [0/60000 (0%)]\tLoss:0.324265\n",
      "Train Epoch: 22 [12800/60000 (21%)]\tLoss:0.378306\n",
      "Train Epoch: 22 [25600/60000 (43%)]\tLoss:0.223006\n",
      "Train Epoch: 22 [38400/60000 (64%)]\tLoss:0.345803\n",
      "Train Epoch: 22 [51200/60000 (85%)]\tLoss:0.358061\n",
      "[22] Test Loss: 0.3062, Accuracy: 88.82%\n",
      "Train Epoch: 23 [0/60000 (0%)]\tLoss:0.351742\n",
      "Train Epoch: 23 [12800/60000 (21%)]\tLoss:0.311427\n",
      "Train Epoch: 23 [25600/60000 (43%)]\tLoss:0.206747\n",
      "Train Epoch: 23 [38400/60000 (64%)]\tLoss:0.360575\n",
      "Train Epoch: 23 [51200/60000 (85%)]\tLoss:0.246026\n",
      "[23] Test Loss: 0.3100, Accuracy: 88.84%\n",
      "Train Epoch: 24 [0/60000 (0%)]\tLoss:0.355308\n",
      "Train Epoch: 24 [12800/60000 (21%)]\tLoss:0.255974\n",
      "Train Epoch: 24 [25600/60000 (43%)]\tLoss:0.323828\n",
      "Train Epoch: 24 [38400/60000 (64%)]\tLoss:0.276349\n",
      "Train Epoch: 24 [51200/60000 (85%)]\tLoss:0.512252\n",
      "[24] Test Loss: 0.3049, Accuracy: 88.88%\n",
      "Train Epoch: 25 [0/60000 (0%)]\tLoss:0.295301\n",
      "Train Epoch: 25 [12800/60000 (21%)]\tLoss:0.199239\n",
      "Train Epoch: 25 [25600/60000 (43%)]\tLoss:0.274265\n",
      "Train Epoch: 25 [38400/60000 (64%)]\tLoss:0.387435\n",
      "Train Epoch: 25 [51200/60000 (85%)]\tLoss:0.242780\n",
      "[25] Test Loss: 0.3050, Accuracy: 88.69%\n",
      "Train Epoch: 26 [0/60000 (0%)]\tLoss:0.276631\n",
      "Train Epoch: 26 [12800/60000 (21%)]\tLoss:0.356377\n",
      "Train Epoch: 26 [25600/60000 (43%)]\tLoss:0.349374\n",
      "Train Epoch: 26 [38400/60000 (64%)]\tLoss:0.413628\n",
      "Train Epoch: 26 [51200/60000 (85%)]\tLoss:0.388646\n",
      "[26] Test Loss: 0.2997, Accuracy: 89.18%\n",
      "Train Epoch: 27 [0/60000 (0%)]\tLoss:0.349579\n",
      "Train Epoch: 27 [12800/60000 (21%)]\tLoss:0.313861\n",
      "Train Epoch: 27 [25600/60000 (43%)]\tLoss:0.365648\n",
      "Train Epoch: 27 [38400/60000 (64%)]\tLoss:0.362162\n",
      "Train Epoch: 27 [51200/60000 (85%)]\tLoss:0.308442\n",
      "[27] Test Loss: 0.3028, Accuracy: 89.08%\n",
      "Train Epoch: 28 [0/60000 (0%)]\tLoss:0.425967\n",
      "Train Epoch: 28 [12800/60000 (21%)]\tLoss:0.360222\n",
      "Train Epoch: 28 [25600/60000 (43%)]\tLoss:0.499085\n",
      "Train Epoch: 28 [38400/60000 (64%)]\tLoss:0.257550\n",
      "Train Epoch: 28 [51200/60000 (85%)]\tLoss:0.509706\n",
      "[28] Test Loss: 0.3030, Accuracy: 89.05%\n",
      "Train Epoch: 29 [0/60000 (0%)]\tLoss:0.442147\n",
      "Train Epoch: 29 [12800/60000 (21%)]\tLoss:0.431194\n",
      "Train Epoch: 29 [25600/60000 (43%)]\tLoss:0.338312\n",
      "Train Epoch: 29 [38400/60000 (64%)]\tLoss:0.367943\n",
      "Train Epoch: 29 [51200/60000 (85%)]\tLoss:0.464206\n",
      "[29] Test Loss: 0.3247, Accuracy: 88.16%\n",
      "Train Epoch: 30 [0/60000 (0%)]\tLoss:0.196414\n",
      "Train Epoch: 30 [12800/60000 (21%)]\tLoss:0.366793\n",
      "Train Epoch: 30 [25600/60000 (43%)]\tLoss:0.203712\n",
      "Train Epoch: 30 [38400/60000 (64%)]\tLoss:0.188778\n",
      "Train Epoch: 30 [51200/60000 (85%)]\tLoss:0.320538\n",
      "[30] Test Loss: 0.2976, Accuracy: 89.20%\n",
      "Train Epoch: 31 [0/60000 (0%)]\tLoss:0.378390\n",
      "Train Epoch: 31 [12800/60000 (21%)]\tLoss:0.220095\n",
      "Train Epoch: 31 [25600/60000 (43%)]\tLoss:0.339363\n",
      "Train Epoch: 31 [38400/60000 (64%)]\tLoss:0.269470\n",
      "Train Epoch: 31 [51200/60000 (85%)]\tLoss:0.200297\n",
      "[31] Test Loss: 0.2951, Accuracy: 89.63%\n",
      "Train Epoch: 32 [0/60000 (0%)]\tLoss:0.265741\n",
      "Train Epoch: 32 [12800/60000 (21%)]\tLoss:0.406719\n",
      "Train Epoch: 32 [25600/60000 (43%)]\tLoss:0.354726\n",
      "Train Epoch: 32 [38400/60000 (64%)]\tLoss:0.214237\n",
      "Train Epoch: 32 [51200/60000 (85%)]\tLoss:0.343944\n",
      "[32] Test Loss: 0.3006, Accuracy: 89.33%\n",
      "Train Epoch: 33 [0/60000 (0%)]\tLoss:0.159942\n",
      "Train Epoch: 33 [12800/60000 (21%)]\tLoss:0.329421\n",
      "Train Epoch: 33 [25600/60000 (43%)]\tLoss:0.219794\n",
      "Train Epoch: 33 [38400/60000 (64%)]\tLoss:0.358136\n",
      "Train Epoch: 33 [51200/60000 (85%)]\tLoss:0.211449\n",
      "[33] Test Loss: 0.2934, Accuracy: 89.15%\n",
      "Train Epoch: 34 [0/60000 (0%)]\tLoss:0.296778\n",
      "Train Epoch: 34 [12800/60000 (21%)]\tLoss:0.401300\n",
      "Train Epoch: 34 [25600/60000 (43%)]\tLoss:0.474950\n",
      "Train Epoch: 34 [38400/60000 (64%)]\tLoss:0.495590\n",
      "Train Epoch: 34 [51200/60000 (85%)]\tLoss:0.162737\n",
      "[34] Test Loss: 0.3064, Accuracy: 88.89%\n",
      "Train Epoch: 35 [0/60000 (0%)]\tLoss:0.279418\n",
      "Train Epoch: 35 [12800/60000 (21%)]\tLoss:0.322071\n",
      "Train Epoch: 35 [25600/60000 (43%)]\tLoss:0.220210\n",
      "Train Epoch: 35 [38400/60000 (64%)]\tLoss:0.247648\n",
      "Train Epoch: 35 [51200/60000 (85%)]\tLoss:0.316358\n",
      "[35] Test Loss: 0.3028, Accuracy: 89.04%\n",
      "Train Epoch: 36 [0/60000 (0%)]\tLoss:0.249970\n",
      "Train Epoch: 36 [12800/60000 (21%)]\tLoss:0.247837\n",
      "Train Epoch: 36 [25600/60000 (43%)]\tLoss:0.240624\n",
      "Train Epoch: 36 [38400/60000 (64%)]\tLoss:0.297323\n",
      "Train Epoch: 36 [51200/60000 (85%)]\tLoss:0.410950\n",
      "[36] Test Loss: 0.3187, Accuracy: 88.31%\n",
      "Train Epoch: 37 [0/60000 (0%)]\tLoss:0.162615\n",
      "Train Epoch: 37 [12800/60000 (21%)]\tLoss:0.307609\n",
      "Train Epoch: 37 [25600/60000 (43%)]\tLoss:0.263219\n",
      "Train Epoch: 37 [38400/60000 (64%)]\tLoss:0.332585\n",
      "Train Epoch: 37 [51200/60000 (85%)]\tLoss:0.412794\n",
      "[37] Test Loss: 0.2924, Accuracy: 89.44%\n",
      "Train Epoch: 38 [0/60000 (0%)]\tLoss:0.173295\n",
      "Train Epoch: 38 [12800/60000 (21%)]\tLoss:0.462953\n",
      "Train Epoch: 38 [25600/60000 (43%)]\tLoss:0.247354\n",
      "Train Epoch: 38 [38400/60000 (64%)]\tLoss:0.117543\n",
      "Train Epoch: 38 [51200/60000 (85%)]\tLoss:0.203595\n",
      "[38] Test Loss: 0.3021, Accuracy: 89.11%\n",
      "Train Epoch: 39 [0/60000 (0%)]\tLoss:0.525152\n",
      "Train Epoch: 39 [12800/60000 (21%)]\tLoss:0.241133\n",
      "Train Epoch: 39 [25600/60000 (43%)]\tLoss:0.325121\n",
      "Train Epoch: 39 [38400/60000 (64%)]\tLoss:0.848970\n",
      "Train Epoch: 39 [51200/60000 (85%)]\tLoss:0.401137\n",
      "[39] Test Loss: 0.2903, Accuracy: 89.50%\n",
      "Train Epoch: 40 [0/60000 (0%)]\tLoss:0.329932\n",
      "Train Epoch: 40 [12800/60000 (21%)]\tLoss:0.359535\n",
      "Train Epoch: 40 [25600/60000 (43%)]\tLoss:0.318537\n",
      "Train Epoch: 40 [38400/60000 (64%)]\tLoss:0.275873\n",
      "Train Epoch: 40 [51200/60000 (85%)]\tLoss:0.310640\n",
      "[40] Test Loss: 0.3002, Accuracy: 89.22%\n"
     ]
    }
   ],
   "source": [
    "for epoch in range(1, EPOCH + 1):\n",
    "    train(model, train_loader, optimizer, epoch)\n",
    "    test_loss, test_accuracy = evaluate(model, test_loader)\n",
    "    \n",
    "    print('[{}] Test Loss: {:.4f}, Accuracy: {:.2f}%'.format(epoch, test_loss, test_accuracy))"
   ]
  },
  {
   "cell_type": "markdown",
   "metadata": {},
   "source": [
    "## ResNet"
   ]
  },
  {
   "cell_type": "markdown",
   "metadata": {},
   "source": [
    "#### 에폭, 배치사이즈"
   ]
  },
  {
   "cell_type": "code",
   "execution_count": 14,
   "metadata": {},
   "outputs": [],
   "source": [
    "EPOCHS = 300\n",
    "BATCH_SIZE = 128"
   ]
  },
  {
   "cell_type": "markdown",
   "metadata": {},
   "source": [
    "## 데이터 불러오기 : Cifar-10"
   ]
  },
  {
   "cell_type": "code",
   "execution_count": 16,
   "metadata": {},
   "outputs": [
    {
     "name": "stdout",
     "output_type": "stream",
     "text": [
      "Downloading https://www.cs.toronto.edu/~kriz/cifar-10-python.tar.gz to ./.data\\cifar-10-python.tar.gz\n"
     ]
    },
    {
     "data": {
      "application/vnd.jupyter.widget-view+json": {
       "model_id": "4000140461674267b4f836d139b63e9f",
       "version_major": 2,
       "version_minor": 0
      },
      "text/plain": [
       "HBox(children=(FloatProgress(value=0.0, max=170498071.0), HTML(value='')))"
      ]
     },
     "metadata": {},
     "output_type": "display_data"
    },
    {
     "name": "stdout",
     "output_type": "stream",
     "text": [
      "\n",
      "Extracting ./.data\\cifar-10-python.tar.gz to ./.data\n"
     ]
    }
   ],
   "source": [
    "train_loader = torch.utils.data.DataLoader(\n",
    "    datasets.CIFAR10('./.data',\n",
    "                         train=True,\n",
    "                         download=True,\n",
    "                         transform=transforms.Compose([\n",
    "                             transforms.RandomCrop(32, padding=4),\n",
    "                             transforms.RandomHorizontalFlip(),\n",
    "                             transforms.ToTensor(),\n",
    "                             transforms.Normalize((0.5, 0.5, 0.5), (0.5, 0.5, 0.5))\n",
    "                         ])),\n",
    "    batch_size=BATCH_SIZE, shuffle=True)\n",
    "\n",
    "test_loader = torch.utils.data.DataLoader(\n",
    "    datasets.CIFAR10('./.data',\n",
    "                         train=False,\n",
    "                         transform=transforms.Compose([\n",
    "                             transforms.ToTensor(),\n",
    "                             transforms.Normalize((0.5, 0.5, 0.5), (0.5, 0.5, 0.5))\n",
    "                         ])),\n",
    "    batch_size=BATCH_SIZE, shuffle=True)"
   ]
  },
  {
   "cell_type": "markdown",
   "metadata": {},
   "source": [
    "#### BasicBlock 클래스"
   ]
  },
  {
   "cell_type": "code",
   "execution_count": 17,
   "metadata": {},
   "outputs": [],
   "source": [
    "class BasicBlock(nn.Module):\n",
    "    def __init__(self, in_planes, planes, stride=1):\n",
    "        super(BasicBlock, self).__init__()\n",
    "        self.conv1 = nn.Conv2d(in_planes, planes, kernel_size=3,\n",
    "                              stride=stride, padding=1, bias=False)\n",
    "        self.bn1 = nn.BatchNorm2d(planes)\n",
    "        self.conv2 = nn.Conv2d(planes, planes, kernel_size=3,\n",
    "                              stride=1, padding=1, bias=False)\n",
    "        self.bn2 = nn.BatchNorm2d(planes)\n",
    "        \n",
    "        self.shortcut = nn.Sequential()\n",
    "        if stride !=1 or in_planes != planes:\n",
    "            self.shortcut = nn.Sequential(\n",
    "                nn.Conv2d(in_planes, planes,\n",
    "                         kernel_size=1, stride=stride, bias=False),\n",
    "                nn.BatchNorm2d(planes)\n",
    "            )\n",
    "    \n",
    "    def forward(self, x):\n",
    "        out = F.relu(self.bn1(self.conv1(x)))\n",
    "        out = self.bn2(self.conv2(out))\n",
    "        out += self.shortcut(x)\n",
    "        out = F.relu(out)\n",
    "        return out"
   ]
  },
  {
   "cell_type": "markdown",
   "metadata": {},
   "source": [
    "#### RestNet 클래스"
   ]
  },
  {
   "cell_type": "code",
   "execution_count": 26,
   "metadata": {},
   "outputs": [],
   "source": [
    "class ResNet(nn.Module):\n",
    "    def __init__(self, num_classes=10):\n",
    "        super(ResNet, self).__init__()\n",
    "        self.in_planes = 16\n",
    "        \n",
    "        self.conv1 = nn.Conv2d(3, 16, kernel_size=3,\n",
    "                             stride=1, padding=1, bias=False)\n",
    "        self.bn1 = nn.BatchNorm2d(16)\n",
    "        self.layer1 = self._make_layer(16, 2, stride=1)\n",
    "        self.layer2 = self._make_layer(32, 2, stride=2)\n",
    "        self.layer3 = self._make_layer(64, 2, stride=2)\n",
    "        self.linear = nn.Linear(64, num_classes)\n",
    "        \n",
    "    def _make_layer(self, planes, num_blocks, stride):\n",
    "        strides = [stride] + [1]*(num_blocks-1)\n",
    "        layers = []\n",
    "        for stride in strides:\n",
    "            layers.append(BasicBlock(self.in_planes, planes, stride))\n",
    "            self.in_planes = planes\n",
    "        return nn.Sequential(*layers)\n",
    "    \n",
    "    def forward(self, x):\n",
    "        out = F.relu(self.bn1(self.conv1(x)))\n",
    "        out = self.layer1(out)\n",
    "        out = self.layer2(out)\n",
    "        out = self.layer3(out)\n",
    "        out = F.avg_pool2d(out, 8)\n",
    "        out = out.view(out.size(0), -1)\n",
    "        out = self.linear(out)\n",
    "        return out"
   ]
  },
  {
   "cell_type": "markdown",
   "metadata": {},
   "source": [
    "#### Model과 Optimizer 설정"
   ]
  },
  {
   "cell_type": "code",
   "execution_count": 27,
   "metadata": {},
   "outputs": [],
   "source": [
    "model = ResNet().to(DEVICE)\n",
    "optimizer = optim.SGD(model.parameters(), lr=0.1,\n",
    "                     momentum=0.9, weight_decay=0.0005)\n",
    "scheduler = optim.lr_scheduler.StepLR(optimizer, step_size=50,\n",
    "                                     gamma=0.1)"
   ]
  },
  {
   "cell_type": "code",
   "execution_count": 28,
   "metadata": {},
   "outputs": [
    {
     "name": "stdout",
     "output_type": "stream",
     "text": [
      "ResNet(\n",
      "  (conv1): Conv2d(3, 16, kernel_size=(3, 3), stride=(1, 1), padding=(1, 1), bias=False)\n",
      "  (bn1): BatchNorm2d(16, eps=1e-05, momentum=0.1, affine=True, track_running_stats=True)\n",
      "  (layer1): Sequential(\n",
      "    (0): BasicBlock(\n",
      "      (conv1): Conv2d(16, 16, kernel_size=(3, 3), stride=(1, 1), padding=(1, 1), bias=False)\n",
      "      (bn1): BatchNorm2d(16, eps=1e-05, momentum=0.1, affine=True, track_running_stats=True)\n",
      "      (conv2): Conv2d(16, 16, kernel_size=(3, 3), stride=(1, 1), padding=(1, 1), bias=False)\n",
      "      (bn2): BatchNorm2d(16, eps=1e-05, momentum=0.1, affine=True, track_running_stats=True)\n",
      "      (shortcut): Sequential()\n",
      "    )\n",
      "    (1): BasicBlock(\n",
      "      (conv1): Conv2d(16, 16, kernel_size=(3, 3), stride=(1, 1), padding=(1, 1), bias=False)\n",
      "      (bn1): BatchNorm2d(16, eps=1e-05, momentum=0.1, affine=True, track_running_stats=True)\n",
      "      (conv2): Conv2d(16, 16, kernel_size=(3, 3), stride=(1, 1), padding=(1, 1), bias=False)\n",
      "      (bn2): BatchNorm2d(16, eps=1e-05, momentum=0.1, affine=True, track_running_stats=True)\n",
      "      (shortcut): Sequential()\n",
      "    )\n",
      "  )\n",
      "  (layer2): Sequential(\n",
      "    (0): BasicBlock(\n",
      "      (conv1): Conv2d(16, 32, kernel_size=(3, 3), stride=(2, 2), padding=(1, 1), bias=False)\n",
      "      (bn1): BatchNorm2d(32, eps=1e-05, momentum=0.1, affine=True, track_running_stats=True)\n",
      "      (conv2): Conv2d(32, 32, kernel_size=(3, 3), stride=(1, 1), padding=(1, 1), bias=False)\n",
      "      (bn2): BatchNorm2d(32, eps=1e-05, momentum=0.1, affine=True, track_running_stats=True)\n",
      "      (shortcut): Sequential(\n",
      "        (0): Conv2d(16, 32, kernel_size=(1, 1), stride=(2, 2), bias=False)\n",
      "        (1): BatchNorm2d(32, eps=1e-05, momentum=0.1, affine=True, track_running_stats=True)\n",
      "      )\n",
      "    )\n",
      "    (1): BasicBlock(\n",
      "      (conv1): Conv2d(32, 32, kernel_size=(3, 3), stride=(1, 1), padding=(1, 1), bias=False)\n",
      "      (bn1): BatchNorm2d(32, eps=1e-05, momentum=0.1, affine=True, track_running_stats=True)\n",
      "      (conv2): Conv2d(32, 32, kernel_size=(3, 3), stride=(1, 1), padding=(1, 1), bias=False)\n",
      "      (bn2): BatchNorm2d(32, eps=1e-05, momentum=0.1, affine=True, track_running_stats=True)\n",
      "      (shortcut): Sequential()\n",
      "    )\n",
      "  )\n",
      "  (layer3): Sequential(\n",
      "    (0): BasicBlock(\n",
      "      (conv1): Conv2d(32, 64, kernel_size=(3, 3), stride=(2, 2), padding=(1, 1), bias=False)\n",
      "      (bn1): BatchNorm2d(64, eps=1e-05, momentum=0.1, affine=True, track_running_stats=True)\n",
      "      (conv2): Conv2d(64, 64, kernel_size=(3, 3), stride=(1, 1), padding=(1, 1), bias=False)\n",
      "      (bn2): BatchNorm2d(64, eps=1e-05, momentum=0.1, affine=True, track_running_stats=True)\n",
      "      (shortcut): Sequential(\n",
      "        (0): Conv2d(32, 64, kernel_size=(1, 1), stride=(2, 2), bias=False)\n",
      "        (1): BatchNorm2d(64, eps=1e-05, momentum=0.1, affine=True, track_running_stats=True)\n",
      "      )\n",
      "    )\n",
      "    (1): BasicBlock(\n",
      "      (conv1): Conv2d(64, 64, kernel_size=(3, 3), stride=(1, 1), padding=(1, 1), bias=False)\n",
      "      (bn1): BatchNorm2d(64, eps=1e-05, momentum=0.1, affine=True, track_running_stats=True)\n",
      "      (conv2): Conv2d(64, 64, kernel_size=(3, 3), stride=(1, 1), padding=(1, 1), bias=False)\n",
      "      (bn2): BatchNorm2d(64, eps=1e-05, momentum=0.1, affine=True, track_running_stats=True)\n",
      "      (shortcut): Sequential()\n",
      "    )\n",
      "  )\n",
      "  (linear): Linear(in_features=64, out_features=10, bias=True)\n",
      ")\n"
     ]
    }
   ],
   "source": [
    "print(model)"
   ]
  },
  {
   "cell_type": "markdown",
   "metadata": {},
   "source": [
    "## 학습"
   ]
  },
  {
   "cell_type": "code",
   "execution_count": 29,
   "metadata": {},
   "outputs": [],
   "source": [
    "def train(model, train_loader, optimizer, epoch):\n",
    "    model.train()\n",
    "    \n",
    "    for batch_idx, (data, target) in enumerate(train_loader):\n",
    "        data, target = data.to(DEVICE), target.to(DEVICE)\n",
    "        optimizer.zero_grad()\n",
    "        output = model(data)\n",
    "        loss = F.cross_entropy(output, target)\n",
    "        loss.backward()\n",
    "        optimizer.step()\n",
    "        \n",
    "        if batch_idx % 200 == 0:\n",
    "            print('Train Epoch: {} [{}/{} ({:.0f}%)]\\tLoss:{:.6f}'.format(epoch, batch_idx * len(data),\n",
    "                                                                         len(train_loader.dataset),\n",
    "                                                                         100. * batch_idx / len(train_loader),\n",
    "                                                                         loss.item()))"
   ]
  },
  {
   "cell_type": "markdown",
   "metadata": {},
   "source": [
    "## 평가"
   ]
  },
  {
   "cell_type": "code",
   "execution_count": 30,
   "metadata": {},
   "outputs": [],
   "source": [
    "def evaluate(model, test_loader):\n",
    "    model.eval()\n",
    "    test_loss = 0\n",
    "    correct = 0\n",
    "    with torch.no_grad():\n",
    "        for data, target in test_loader:\n",
    "            data, target = data.to(DEVICE), target.to(DEVICE)\n",
    "            output = model(data)\n",
    "            \n",
    "            # 배치 오차를 합산\n",
    "            test_loss += F.cross_entropy(output, target,\n",
    "                                        reduction='sum').item()\n",
    "            \n",
    "            # 가장 높은 값을 가진 인덱스가 바로 예측값\n",
    "            pred = output.max(1, keepdim=True)[1]\n",
    "            correct += pred.eq(target.view_as(pred)).sum().item()\n",
    "        \n",
    "        test_loss /= len(test_loader.dataset)\n",
    "        test_accuracy = 100. * correct / len(test_loader.dataset)\n",
    "        \n",
    "        return test_loss, test_accuracy"
   ]
  },
  {
   "cell_type": "code",
   "execution_count": 33,
   "metadata": {},
   "outputs": [],
   "source": [
    "from tqdm import tqdm"
   ]
  },
  {
   "cell_type": "code",
   "execution_count": 34,
   "metadata": {},
   "outputs": [
    {
     "name": "stderr",
     "output_type": "stream",
     "text": [
      "  0%|                                                                                          | 0/300 [00:00<?, ?it/s]"
     ]
    },
    {
     "name": "stdout",
     "output_type": "stream",
     "text": [
      "Train Epoch: 1 [0/50000 (0%)]\tLoss:0.603099\n",
      "Train Epoch: 1 [25600/50000 (51%)]\tLoss:0.483212\n"
     ]
    },
    {
     "name": "stderr",
     "output_type": "stream",
     "text": [
      "  0%|▎                                                                               | 1/300 [00:16<1:21:50, 16.42s/it]"
     ]
    },
    {
     "name": "stdout",
     "output_type": "stream",
     "text": [
      "[1] Test Loss: 0.7438, Accuracy: 74.55%\n",
      "Train Epoch: 2 [0/50000 (0%)]\tLoss:0.472833\n",
      "Train Epoch: 2 [25600/50000 (51%)]\tLoss:0.466262\n"
     ]
    },
    {
     "name": "stderr",
     "output_type": "stream",
     "text": [
      "  1%|▌                                                                               | 2/300 [00:33<1:22:19, 16.58s/it]"
     ]
    },
    {
     "name": "stdout",
     "output_type": "stream",
     "text": [
      "[2] Test Loss: 0.6414, Accuracy: 78.93%\n",
      "Train Epoch: 3 [0/50000 (0%)]\tLoss:0.390696\n",
      "Train Epoch: 3 [25600/50000 (51%)]\tLoss:0.457569\n"
     ]
    },
    {
     "name": "stderr",
     "output_type": "stream",
     "text": [
      "  1%|▊                                                                               | 3/300 [00:50<1:23:34, 16.88s/it]"
     ]
    },
    {
     "name": "stdout",
     "output_type": "stream",
     "text": [
      "[3] Test Loss: 0.6903, Accuracy: 77.75%\n",
      "Train Epoch: 4 [0/50000 (0%)]\tLoss:0.337332\n",
      "Train Epoch: 4 [25600/50000 (51%)]\tLoss:0.470512\n"
     ]
    },
    {
     "name": "stderr",
     "output_type": "stream",
     "text": [
      "  1%|█                                                                               | 4/300 [01:07<1:22:55, 16.81s/it]"
     ]
    },
    {
     "name": "stdout",
     "output_type": "stream",
     "text": [
      "[4] Test Loss: 0.5997, Accuracy: 79.58%\n",
      "Train Epoch: 5 [0/50000 (0%)]\tLoss:0.452068\n",
      "Train Epoch: 5 [25600/50000 (51%)]\tLoss:0.352088\n"
     ]
    },
    {
     "name": "stderr",
     "output_type": "stream",
     "text": [
      "  2%|█▎                                                                              | 5/300 [01:24<1:22:06, 16.70s/it]"
     ]
    },
    {
     "name": "stdout",
     "output_type": "stream",
     "text": [
      "[5] Test Loss: 0.7252, Accuracy: 76.96%\n",
      "Train Epoch: 6 [0/50000 (0%)]\tLoss:0.469860\n",
      "Train Epoch: 6 [25600/50000 (51%)]\tLoss:0.315356\n"
     ]
    },
    {
     "name": "stderr",
     "output_type": "stream",
     "text": [
      "  2%|█▌                                                                              | 6/300 [01:40<1:21:25, 16.62s/it]"
     ]
    },
    {
     "name": "stdout",
     "output_type": "stream",
     "text": [
      "[6] Test Loss: 0.3483, Accuracy: 88.43%\n",
      "Train Epoch: 7 [0/50000 (0%)]\tLoss:0.291013\n",
      "Train Epoch: 7 [25600/50000 (51%)]\tLoss:0.211480\n"
     ]
    },
    {
     "name": "stderr",
     "output_type": "stream",
     "text": [
      "  2%|█▊                                                                              | 7/300 [01:58<1:22:32, 16.90s/it]"
     ]
    },
    {
     "name": "stdout",
     "output_type": "stream",
     "text": [
      "[7] Test Loss: 0.3394, Accuracy: 88.63%\n",
      "Train Epoch: 8 [0/50000 (0%)]\tLoss:0.225862\n",
      "Train Epoch: 8 [25600/50000 (51%)]\tLoss:0.210952\n"
     ]
    },
    {
     "name": "stderr",
     "output_type": "stream",
     "text": [
      "  3%|██▏                                                                             | 8/300 [02:15<1:23:01, 17.06s/it]"
     ]
    },
    {
     "name": "stdout",
     "output_type": "stream",
     "text": [
      "[8] Test Loss: 0.3294, Accuracy: 88.83%\n",
      "Train Epoch: 9 [0/50000 (0%)]\tLoss:0.293689\n",
      "Train Epoch: 9 [25600/50000 (51%)]\tLoss:0.288152\n"
     ]
    },
    {
     "name": "stderr",
     "output_type": "stream",
     "text": [
      "  3%|██▍                                                                             | 9/300 [02:32<1:23:06, 17.14s/it]"
     ]
    },
    {
     "name": "stdout",
     "output_type": "stream",
     "text": [
      "[9] Test Loss: 0.3255, Accuracy: 89.23%\n",
      "Train Epoch: 10 [0/50000 (0%)]\tLoss:0.289970\n",
      "Train Epoch: 10 [25600/50000 (51%)]\tLoss:0.261122\n"
     ]
    },
    {
     "name": "stderr",
     "output_type": "stream",
     "text": [
      "  3%|██▋                                                                            | 10/300 [02:50<1:23:06, 17.20s/it]"
     ]
    },
    {
     "name": "stdout",
     "output_type": "stream",
     "text": [
      "[10] Test Loss: 0.3312, Accuracy: 88.89%\n",
      "Train Epoch: 11 [0/50000 (0%)]\tLoss:0.291146\n",
      "Train Epoch: 11 [25600/50000 (51%)]\tLoss:0.236248\n"
     ]
    },
    {
     "name": "stderr",
     "output_type": "stream",
     "text": [
      "  4%|██▉                                                                            | 11/300 [03:07<1:22:58, 17.23s/it]"
     ]
    },
    {
     "name": "stdout",
     "output_type": "stream",
     "text": [
      "[11] Test Loss: 0.3307, Accuracy: 88.98%\n",
      "Train Epoch: 12 [0/50000 (0%)]\tLoss:0.315303\n",
      "Train Epoch: 12 [25600/50000 (51%)]\tLoss:0.224683\n"
     ]
    },
    {
     "name": "stderr",
     "output_type": "stream",
     "text": [
      "  4%|███▏                                                                           | 12/300 [03:24<1:22:58, 17.29s/it]"
     ]
    },
    {
     "name": "stdout",
     "output_type": "stream",
     "text": [
      "[12] Test Loss: 0.3144, Accuracy: 89.29%\n",
      "Train Epoch: 13 [0/50000 (0%)]\tLoss:0.345748\n",
      "Train Epoch: 13 [25600/50000 (51%)]\tLoss:0.164211\n"
     ]
    },
    {
     "name": "stderr",
     "output_type": "stream",
     "text": [
      "  4%|███▍                                                                           | 13/300 [03:43<1:24:20, 17.63s/it]"
     ]
    },
    {
     "name": "stdout",
     "output_type": "stream",
     "text": [
      "[13] Test Loss: 0.3108, Accuracy: 89.84%\n",
      "Train Epoch: 14 [0/50000 (0%)]\tLoss:0.248303\n",
      "Train Epoch: 14 [25600/50000 (51%)]\tLoss:0.185234\n"
     ]
    },
    {
     "name": "stderr",
     "output_type": "stream",
     "text": [
      "  5%|███▋                                                                           | 14/300 [04:00<1:23:56, 17.61s/it]"
     ]
    },
    {
     "name": "stdout",
     "output_type": "stream",
     "text": [
      "[14] Test Loss: 0.3273, Accuracy: 89.30%\n",
      "Train Epoch: 15 [0/50000 (0%)]\tLoss:0.314788\n",
      "Train Epoch: 15 [25600/50000 (51%)]\tLoss:0.235621\n"
     ]
    },
    {
     "name": "stderr",
     "output_type": "stream",
     "text": [
      "  5%|███▉                                                                           | 15/300 [04:18<1:23:27, 17.57s/it]"
     ]
    },
    {
     "name": "stdout",
     "output_type": "stream",
     "text": [
      "[15] Test Loss: 0.3249, Accuracy: 89.24%\n",
      "Train Epoch: 16 [0/50000 (0%)]\tLoss:0.248904\n",
      "Train Epoch: 16 [25600/50000 (51%)]\tLoss:0.323902\n"
     ]
    },
    {
     "name": "stderr",
     "output_type": "stream",
     "text": [
      "  5%|████▏                                                                          | 16/300 [04:35<1:22:36, 17.45s/it]"
     ]
    },
    {
     "name": "stdout",
     "output_type": "stream",
     "text": [
      "[16] Test Loss: 0.3191, Accuracy: 89.15%\n",
      "Train Epoch: 17 [0/50000 (0%)]\tLoss:0.151154\n",
      "Train Epoch: 17 [25600/50000 (51%)]\tLoss:0.193408\n"
     ]
    },
    {
     "name": "stderr",
     "output_type": "stream",
     "text": [
      "  6%|████▍                                                                          | 17/300 [04:53<1:22:41, 17.53s/it]"
     ]
    },
    {
     "name": "stdout",
     "output_type": "stream",
     "text": [
      "[17] Test Loss: 0.3196, Accuracy: 89.12%\n",
      "Train Epoch: 18 [0/50000 (0%)]\tLoss:0.273974\n",
      "Train Epoch: 18 [25600/50000 (51%)]\tLoss:0.191375\n"
     ]
    },
    {
     "name": "stderr",
     "output_type": "stream",
     "text": [
      "  6%|████▋                                                                          | 18/300 [05:10<1:22:20, 17.52s/it]"
     ]
    },
    {
     "name": "stdout",
     "output_type": "stream",
     "text": [
      "[18] Test Loss: 0.3346, Accuracy: 88.94%\n",
      "Train Epoch: 19 [0/50000 (0%)]\tLoss:0.203026\n",
      "Train Epoch: 19 [25600/50000 (51%)]\tLoss:0.180346\n"
     ]
    },
    {
     "name": "stderr",
     "output_type": "stream",
     "text": [
      "  6%|█████                                                                          | 19/300 [05:28<1:22:07, 17.54s/it]"
     ]
    },
    {
     "name": "stdout",
     "output_type": "stream",
     "text": [
      "[19] Test Loss: 0.3319, Accuracy: 89.00%\n",
      "Train Epoch: 20 [0/50000 (0%)]\tLoss:0.184285\n",
      "Train Epoch: 20 [25600/50000 (51%)]\tLoss:0.168186\n"
     ]
    },
    {
     "name": "stderr",
     "output_type": "stream",
     "text": [
      "  7%|█████▎                                                                         | 20/300 [05:45<1:21:45, 17.52s/it]"
     ]
    },
    {
     "name": "stdout",
     "output_type": "stream",
     "text": [
      "[20] Test Loss: 0.3532, Accuracy: 88.36%\n",
      "Train Epoch: 21 [0/50000 (0%)]\tLoss:0.144506\n",
      "Train Epoch: 21 [25600/50000 (51%)]\tLoss:0.205577\n"
     ]
    },
    {
     "name": "stderr",
     "output_type": "stream",
     "text": [
      "  7%|█████▌                                                                         | 21/300 [06:03<1:21:33, 17.54s/it]"
     ]
    },
    {
     "name": "stdout",
     "output_type": "stream",
     "text": [
      "[21] Test Loss: 0.3299, Accuracy: 89.15%\n",
      "Train Epoch: 22 [0/50000 (0%)]\tLoss:0.198915\n",
      "Train Epoch: 22 [25600/50000 (51%)]\tLoss:0.243723\n"
     ]
    },
    {
     "name": "stderr",
     "output_type": "stream",
     "text": [
      "  7%|█████▊                                                                         | 22/300 [06:20<1:21:11, 17.52s/it]"
     ]
    },
    {
     "name": "stdout",
     "output_type": "stream",
     "text": [
      "[22] Test Loss: 0.3525, Accuracy: 88.29%\n",
      "Train Epoch: 23 [0/50000 (0%)]\tLoss:0.306987\n",
      "Train Epoch: 23 [25600/50000 (51%)]\tLoss:0.171783\n"
     ]
    },
    {
     "name": "stderr",
     "output_type": "stream",
     "text": [
      "  8%|██████                                                                         | 23/300 [06:38<1:21:03, 17.56s/it]"
     ]
    },
    {
     "name": "stdout",
     "output_type": "stream",
     "text": [
      "[23] Test Loss: 0.3497, Accuracy: 88.52%\n",
      "Train Epoch: 24 [0/50000 (0%)]\tLoss:0.200403\n",
      "Train Epoch: 24 [25600/50000 (51%)]\tLoss:0.264917\n"
     ]
    },
    {
     "name": "stderr",
     "output_type": "stream",
     "text": [
      "  8%|██████▎                                                                        | 24/300 [06:56<1:20:50, 17.57s/it]"
     ]
    },
    {
     "name": "stdout",
     "output_type": "stream",
     "text": [
      "[24] Test Loss: 0.3663, Accuracy: 87.64%\n",
      "Train Epoch: 25 [0/50000 (0%)]\tLoss:0.198699\n",
      "Train Epoch: 25 [25600/50000 (51%)]\tLoss:0.260075\n"
     ]
    },
    {
     "name": "stderr",
     "output_type": "stream",
     "text": [
      "  8%|██████▌                                                                        | 25/300 [07:13<1:20:46, 17.62s/it]"
     ]
    },
    {
     "name": "stdout",
     "output_type": "stream",
     "text": [
      "[25] Test Loss: 0.3400, Accuracy: 88.91%\n",
      "Train Epoch: 26 [0/50000 (0%)]\tLoss:0.178817\n",
      "Train Epoch: 26 [25600/50000 (51%)]\tLoss:0.243953\n"
     ]
    },
    {
     "name": "stderr",
     "output_type": "stream",
     "text": [
      "  9%|██████▊                                                                        | 26/300 [07:31<1:20:17, 17.58s/it]"
     ]
    },
    {
     "name": "stdout",
     "output_type": "stream",
     "text": [
      "[26] Test Loss: 0.3554, Accuracy: 88.54%\n",
      "Train Epoch: 27 [0/50000 (0%)]\tLoss:0.196250\n",
      "Train Epoch: 27 [25600/50000 (51%)]\tLoss:0.238447\n"
     ]
    },
    {
     "name": "stderr",
     "output_type": "stream",
     "text": [
      "  9%|███████                                                                        | 27/300 [07:48<1:20:00, 17.58s/it]"
     ]
    },
    {
     "name": "stdout",
     "output_type": "stream",
     "text": [
      "[27] Test Loss: 0.3676, Accuracy: 88.50%\n",
      "Train Epoch: 28 [0/50000 (0%)]\tLoss:0.216517\n",
      "Train Epoch: 28 [25600/50000 (51%)]\tLoss:0.182995\n"
     ]
    },
    {
     "name": "stderr",
     "output_type": "stream",
     "text": [
      "  9%|███████▎                                                                       | 28/300 [08:06<1:19:43, 17.58s/it]"
     ]
    },
    {
     "name": "stdout",
     "output_type": "stream",
     "text": [
      "[28] Test Loss: 0.3649, Accuracy: 88.57%\n",
      "Train Epoch: 29 [0/50000 (0%)]\tLoss:0.239796\n",
      "Train Epoch: 29 [25600/50000 (51%)]\tLoss:0.204011\n"
     ]
    },
    {
     "name": "stderr",
     "output_type": "stream",
     "text": [
      " 10%|███████▋                                                                       | 29/300 [08:24<1:19:26, 17.59s/it]"
     ]
    },
    {
     "name": "stdout",
     "output_type": "stream",
     "text": [
      "[29] Test Loss: 0.3536, Accuracy: 88.73%\n",
      "Train Epoch: 30 [0/50000 (0%)]\tLoss:0.184665\n",
      "Train Epoch: 30 [25600/50000 (51%)]\tLoss:0.153920\n"
     ]
    },
    {
     "name": "stderr",
     "output_type": "stream",
     "text": [
      " 10%|███████▉                                                                       | 30/300 [08:41<1:19:04, 17.57s/it]"
     ]
    },
    {
     "name": "stdout",
     "output_type": "stream",
     "text": [
      "[30] Test Loss: 0.3767, Accuracy: 88.01%\n",
      "Train Epoch: 31 [0/50000 (0%)]\tLoss:0.185829\n",
      "Train Epoch: 31 [25600/50000 (51%)]\tLoss:0.312095\n"
     ]
    },
    {
     "name": "stderr",
     "output_type": "stream",
     "text": [
      " 10%|████████▏                                                                      | 31/300 [08:59<1:18:45, 17.57s/it]"
     ]
    },
    {
     "name": "stdout",
     "output_type": "stream",
     "text": [
      "[31] Test Loss: 0.3535, Accuracy: 88.72%\n",
      "Train Epoch: 32 [0/50000 (0%)]\tLoss:0.129995\n",
      "Train Epoch: 32 [25600/50000 (51%)]\tLoss:0.154106\n"
     ]
    },
    {
     "name": "stderr",
     "output_type": "stream",
     "text": [
      " 11%|████████▍                                                                      | 32/300 [09:16<1:18:34, 17.59s/it]"
     ]
    },
    {
     "name": "stdout",
     "output_type": "stream",
     "text": [
      "[32] Test Loss: 0.3723, Accuracy: 87.98%\n",
      "Train Epoch: 33 [0/50000 (0%)]\tLoss:0.181866\n",
      "Train Epoch: 33 [25600/50000 (51%)]\tLoss:0.177359\n"
     ]
    },
    {
     "name": "stderr",
     "output_type": "stream",
     "text": [
      " 11%|████████▋                                                                      | 33/300 [09:34<1:18:11, 17.57s/it]"
     ]
    },
    {
     "name": "stdout",
     "output_type": "stream",
     "text": [
      "[33] Test Loss: 0.3534, Accuracy: 88.72%\n",
      "Train Epoch: 34 [0/50000 (0%)]\tLoss:0.192011\n",
      "Train Epoch: 34 [25600/50000 (51%)]\tLoss:0.247597\n"
     ]
    },
    {
     "name": "stderr",
     "output_type": "stream",
     "text": [
      " 11%|████████▉                                                                      | 34/300 [09:51<1:18:00, 17.60s/it]"
     ]
    },
    {
     "name": "stdout",
     "output_type": "stream",
     "text": [
      "[34] Test Loss: 0.3651, Accuracy: 88.70%\n",
      "Train Epoch: 35 [0/50000 (0%)]\tLoss:0.191872\n",
      "Train Epoch: 35 [25600/50000 (51%)]\tLoss:0.261427\n"
     ]
    },
    {
     "name": "stderr",
     "output_type": "stream",
     "text": [
      " 12%|█████████▏                                                                     | 35/300 [10:09<1:17:43, 17.60s/it]"
     ]
    },
    {
     "name": "stdout",
     "output_type": "stream",
     "text": [
      "[35] Test Loss: 0.3656, Accuracy: 88.41%\n",
      "Train Epoch: 36 [0/50000 (0%)]\tLoss:0.220185\n",
      "Train Epoch: 36 [25600/50000 (51%)]\tLoss:0.238483\n"
     ]
    },
    {
     "name": "stderr",
     "output_type": "stream",
     "text": [
      " 12%|█████████▍                                                                     | 36/300 [10:27<1:17:28, 17.61s/it]"
     ]
    },
    {
     "name": "stdout",
     "output_type": "stream",
     "text": [
      "[36] Test Loss: 0.3730, Accuracy: 87.80%\n",
      "Train Epoch: 37 [0/50000 (0%)]\tLoss:0.145318\n",
      "Train Epoch: 37 [25600/50000 (51%)]\tLoss:0.137228\n"
     ]
    },
    {
     "name": "stderr",
     "output_type": "stream",
     "text": [
      " 12%|█████████▋                                                                     | 37/300 [10:44<1:17:02, 17.58s/it]"
     ]
    },
    {
     "name": "stdout",
     "output_type": "stream",
     "text": [
      "[37] Test Loss: 0.3481, Accuracy: 88.57%\n",
      "Train Epoch: 38 [0/50000 (0%)]\tLoss:0.118356\n",
      "Train Epoch: 38 [25600/50000 (51%)]\tLoss:0.260327\n"
     ]
    },
    {
     "name": "stderr",
     "output_type": "stream",
     "text": [
      " 13%|██████████                                                                     | 38/300 [11:02<1:16:58, 17.63s/it]"
     ]
    },
    {
     "name": "stdout",
     "output_type": "stream",
     "text": [
      "[38] Test Loss: 0.3861, Accuracy: 87.99%\n",
      "Train Epoch: 39 [0/50000 (0%)]\tLoss:0.125151\n",
      "Train Epoch: 39 [25600/50000 (51%)]\tLoss:0.190914\n"
     ]
    },
    {
     "name": "stderr",
     "output_type": "stream",
     "text": [
      " 13%|██████████▎                                                                    | 39/300 [11:20<1:16:39, 17.62s/it]"
     ]
    },
    {
     "name": "stdout",
     "output_type": "stream",
     "text": [
      "[39] Test Loss: 0.3960, Accuracy: 87.57%\n",
      "Train Epoch: 40 [0/50000 (0%)]\tLoss:0.123053\n",
      "Train Epoch: 40 [25600/50000 (51%)]\tLoss:0.184528\n"
     ]
    },
    {
     "name": "stderr",
     "output_type": "stream",
     "text": [
      " 13%|██████████▌                                                                    | 40/300 [11:37<1:16:12, 17.59s/it]"
     ]
    },
    {
     "name": "stdout",
     "output_type": "stream",
     "text": [
      "[40] Test Loss: 0.3777, Accuracy: 87.93%\n",
      "Train Epoch: 41 [0/50000 (0%)]\tLoss:0.146215\n",
      "Train Epoch: 41 [25600/50000 (51%)]\tLoss:0.160684\n"
     ]
    },
    {
     "name": "stderr",
     "output_type": "stream",
     "text": [
      " 14%|██████████▊                                                                    | 41/300 [11:55<1:15:52, 17.58s/it]"
     ]
    },
    {
     "name": "stdout",
     "output_type": "stream",
     "text": [
      "[41] Test Loss: 0.3580, Accuracy: 88.69%\n",
      "Train Epoch: 42 [0/50000 (0%)]\tLoss:0.140059\n",
      "Train Epoch: 42 [25600/50000 (51%)]\tLoss:0.156274\n"
     ]
    },
    {
     "name": "stderr",
     "output_type": "stream",
     "text": [
      " 14%|███████████                                                                    | 42/300 [12:12<1:15:37, 17.59s/it]"
     ]
    },
    {
     "name": "stdout",
     "output_type": "stream",
     "text": [
      "[42] Test Loss: 0.3740, Accuracy: 88.58%\n",
      "Train Epoch: 43 [0/50000 (0%)]\tLoss:0.167486\n",
      "Train Epoch: 43 [25600/50000 (51%)]\tLoss:0.189064\n"
     ]
    },
    {
     "name": "stderr",
     "output_type": "stream",
     "text": [
      " 14%|███████████▎                                                                   | 43/300 [12:30<1:15:24, 17.60s/it]"
     ]
    },
    {
     "name": "stdout",
     "output_type": "stream",
     "text": [
      "[43] Test Loss: 0.4033, Accuracy: 87.40%\n",
      "Train Epoch: 44 [0/50000 (0%)]\tLoss:0.202544\n",
      "Train Epoch: 44 [25600/50000 (51%)]\tLoss:0.168184\n"
     ]
    },
    {
     "name": "stderr",
     "output_type": "stream",
     "text": [
      " 15%|███████████▌                                                                   | 44/300 [12:47<1:15:01, 17.58s/it]"
     ]
    },
    {
     "name": "stdout",
     "output_type": "stream",
     "text": [
      "[44] Test Loss: 0.3811, Accuracy: 87.86%\n",
      "Train Epoch: 45 [0/50000 (0%)]\tLoss:0.179802\n",
      "Train Epoch: 45 [25600/50000 (51%)]\tLoss:0.105305\n"
     ]
    },
    {
     "name": "stderr",
     "output_type": "stream",
     "text": [
      " 15%|███████████▊                                                                   | 45/300 [13:05<1:14:41, 17.57s/it]"
     ]
    },
    {
     "name": "stdout",
     "output_type": "stream",
     "text": [
      "[45] Test Loss: 0.3912, Accuracy: 87.55%\n",
      "Train Epoch: 46 [0/50000 (0%)]\tLoss:0.193793\n",
      "Train Epoch: 46 [25600/50000 (51%)]\tLoss:0.183005\n"
     ]
    },
    {
     "name": "stderr",
     "output_type": "stream",
     "text": [
      " 15%|████████████                                                                   | 46/300 [13:22<1:14:14, 17.54s/it]"
     ]
    },
    {
     "name": "stdout",
     "output_type": "stream",
     "text": [
      "[46] Test Loss: 0.3626, Accuracy: 88.36%\n",
      "Train Epoch: 47 [0/50000 (0%)]\tLoss:0.246367\n",
      "Train Epoch: 47 [25600/50000 (51%)]\tLoss:0.186565\n"
     ]
    },
    {
     "name": "stderr",
     "output_type": "stream",
     "text": [
      " 16%|████████████▍                                                                  | 47/300 [13:40<1:14:01, 17.56s/it]"
     ]
    },
    {
     "name": "stdout",
     "output_type": "stream",
     "text": [
      "[47] Test Loss: 0.3664, Accuracy: 88.40%\n",
      "Train Epoch: 48 [0/50000 (0%)]\tLoss:0.182704\n",
      "Train Epoch: 48 [25600/50000 (51%)]\tLoss:0.097492\n"
     ]
    },
    {
     "name": "stderr",
     "output_type": "stream",
     "text": [
      " 16%|████████████▋                                                                  | 48/300 [13:58<1:13:48, 17.58s/it]"
     ]
    },
    {
     "name": "stdout",
     "output_type": "stream",
     "text": [
      "[48] Test Loss: 0.3717, Accuracy: 88.09%\n",
      "Train Epoch: 49 [0/50000 (0%)]\tLoss:0.147839\n",
      "Train Epoch: 49 [25600/50000 (51%)]\tLoss:0.144917\n"
     ]
    },
    {
     "name": "stderr",
     "output_type": "stream",
     "text": [
      " 16%|████████████▉                                                                  | 49/300 [14:15<1:13:26, 17.56s/it]"
     ]
    },
    {
     "name": "stdout",
     "output_type": "stream",
     "text": [
      "[49] Test Loss: 0.3663, Accuracy: 88.16%\n",
      "Train Epoch: 50 [0/50000 (0%)]\tLoss:0.152428\n",
      "Train Epoch: 50 [25600/50000 (51%)]\tLoss:0.137710\n"
     ]
    },
    {
     "name": "stderr",
     "output_type": "stream",
     "text": [
      " 17%|█████████████▏                                                                 | 50/300 [14:33<1:13:07, 17.55s/it]"
     ]
    },
    {
     "name": "stdout",
     "output_type": "stream",
     "text": [
      "[50] Test Loss: 0.4494, Accuracy: 85.86%\n",
      "Train Epoch: 51 [0/50000 (0%)]\tLoss:0.183309\n",
      "Train Epoch: 51 [25600/50000 (51%)]\tLoss:0.188586\n"
     ]
    },
    {
     "name": "stderr",
     "output_type": "stream",
     "text": [
      " 17%|█████████████▍                                                                 | 51/300 [14:50<1:12:25, 17.45s/it]"
     ]
    },
    {
     "name": "stdout",
     "output_type": "stream",
     "text": [
      "[51] Test Loss: 0.3843, Accuracy: 87.98%\n",
      "Train Epoch: 52 [0/50000 (0%)]\tLoss:0.171536\n",
      "Train Epoch: 52 [25600/50000 (51%)]\tLoss:0.080088\n"
     ]
    },
    {
     "name": "stderr",
     "output_type": "stream",
     "text": [
      " 17%|█████████████▋                                                                 | 52/300 [15:07<1:11:44, 17.36s/it]"
     ]
    },
    {
     "name": "stdout",
     "output_type": "stream",
     "text": [
      "[52] Test Loss: 0.3603, Accuracy: 88.82%\n",
      "Train Epoch: 53 [0/50000 (0%)]\tLoss:0.176103\n",
      "Train Epoch: 53 [25600/50000 (51%)]\tLoss:0.316571\n"
     ]
    },
    {
     "name": "stderr",
     "output_type": "stream",
     "text": [
      " 18%|█████████████▉                                                                 | 53/300 [15:25<1:11:38, 17.40s/it]"
     ]
    },
    {
     "name": "stdout",
     "output_type": "stream",
     "text": [
      "[53] Test Loss: 0.4135, Accuracy: 87.04%\n",
      "Train Epoch: 54 [0/50000 (0%)]\tLoss:0.248451\n",
      "Train Epoch: 54 [25600/50000 (51%)]\tLoss:0.203471\n"
     ]
    },
    {
     "name": "stderr",
     "output_type": "stream",
     "text": [
      " 18%|██████████████▏                                                                | 54/300 [15:42<1:11:24, 17.42s/it]"
     ]
    },
    {
     "name": "stdout",
     "output_type": "stream",
     "text": [
      "[54] Test Loss: 0.3787, Accuracy: 87.97%\n",
      "Train Epoch: 55 [0/50000 (0%)]\tLoss:0.198100\n",
      "Train Epoch: 55 [25600/50000 (51%)]\tLoss:0.203040\n"
     ]
    },
    {
     "name": "stderr",
     "output_type": "stream",
     "text": [
      " 18%|██████████████▍                                                                | 55/300 [16:00<1:11:44, 17.57s/it]"
     ]
    },
    {
     "name": "stdout",
     "output_type": "stream",
     "text": [
      "[55] Test Loss: 0.3466, Accuracy: 88.86%\n",
      "Train Epoch: 56 [0/50000 (0%)]\tLoss:0.233035\n",
      "Train Epoch: 56 [25600/50000 (51%)]\tLoss:0.119974\n"
     ]
    },
    {
     "name": "stderr",
     "output_type": "stream",
     "text": [
      " 19%|██████████████▋                                                                | 56/300 [16:19<1:12:42, 17.88s/it]"
     ]
    },
    {
     "name": "stdout",
     "output_type": "stream",
     "text": [
      "[56] Test Loss: 0.2965, Accuracy: 90.43%\n",
      "Train Epoch: 57 [0/50000 (0%)]\tLoss:0.168149\n",
      "Train Epoch: 57 [25600/50000 (51%)]\tLoss:0.133484\n"
     ]
    },
    {
     "name": "stderr",
     "output_type": "stream",
     "text": [
      " 19%|███████████████                                                                | 57/300 [16:36<1:12:07, 17.81s/it]"
     ]
    },
    {
     "name": "stdout",
     "output_type": "stream",
     "text": [
      "[57] Test Loss: 0.2906, Accuracy: 90.50%\n",
      "Train Epoch: 58 [0/50000 (0%)]\tLoss:0.073066\n",
      "Train Epoch: 58 [25600/50000 (51%)]\tLoss:0.097289\n"
     ]
    },
    {
     "name": "stderr",
     "output_type": "stream",
     "text": [
      " 19%|███████████████▎                                                               | 58/300 [16:54<1:11:36, 17.75s/it]"
     ]
    },
    {
     "name": "stdout",
     "output_type": "stream",
     "text": [
      "[58] Test Loss: 0.2885, Accuracy: 90.80%\n",
      "Train Epoch: 59 [0/50000 (0%)]\tLoss:0.080117\n",
      "Train Epoch: 59 [25600/50000 (51%)]\tLoss:0.114731\n"
     ]
    },
    {
     "name": "stderr",
     "output_type": "stream",
     "text": [
      " 20%|███████████████▌                                                               | 59/300 [17:11<1:11:05, 17.70s/it]"
     ]
    },
    {
     "name": "stdout",
     "output_type": "stream",
     "text": [
      "[59] Test Loss: 0.2854, Accuracy: 90.77%\n",
      "Train Epoch: 60 [0/50000 (0%)]\tLoss:0.088877\n",
      "Train Epoch: 60 [25600/50000 (51%)]\tLoss:0.083882\n"
     ]
    },
    {
     "name": "stderr",
     "output_type": "stream",
     "text": [
      " 20%|███████████████▊                                                               | 60/300 [17:29<1:10:36, 17.65s/it]"
     ]
    },
    {
     "name": "stdout",
     "output_type": "stream",
     "text": [
      "[60] Test Loss: 0.2905, Accuracy: 90.80%\n",
      "Train Epoch: 61 [0/50000 (0%)]\tLoss:0.123732\n",
      "Train Epoch: 61 [25600/50000 (51%)]\tLoss:0.086687\n"
     ]
    },
    {
     "name": "stderr",
     "output_type": "stream",
     "text": [
      " 20%|████████████████                                                               | 61/300 [17:47<1:10:21, 17.66s/it]"
     ]
    },
    {
     "name": "stdout",
     "output_type": "stream",
     "text": [
      "[61] Test Loss: 0.2887, Accuracy: 90.61%\n",
      "Train Epoch: 62 [0/50000 (0%)]\tLoss:0.065025\n",
      "Train Epoch: 62 [25600/50000 (51%)]\tLoss:0.097756\n"
     ]
    },
    {
     "name": "stderr",
     "output_type": "stream",
     "text": [
      " 21%|████████████████▎                                                              | 62/300 [18:04<1:09:55, 17.63s/it]"
     ]
    },
    {
     "name": "stdout",
     "output_type": "stream",
     "text": [
      "[62] Test Loss: 0.2898, Accuracy: 90.82%\n",
      "Train Epoch: 63 [0/50000 (0%)]\tLoss:0.080596\n",
      "Train Epoch: 63 [25600/50000 (51%)]\tLoss:0.090727\n"
     ]
    },
    {
     "name": "stderr",
     "output_type": "stream",
     "text": [
      " 21%|████████████████▌                                                              | 63/300 [18:22<1:09:31, 17.60s/it]"
     ]
    },
    {
     "name": "stdout",
     "output_type": "stream",
     "text": [
      "[63] Test Loss: 0.2884, Accuracy: 90.64%\n",
      "Train Epoch: 64 [0/50000 (0%)]\tLoss:0.085879\n",
      "Train Epoch: 64 [25600/50000 (51%)]\tLoss:0.078714\n"
     ]
    },
    {
     "name": "stderr",
     "output_type": "stream",
     "text": [
      " 21%|████████████████▊                                                              | 64/300 [18:39<1:09:05, 17.56s/it]"
     ]
    },
    {
     "name": "stdout",
     "output_type": "stream",
     "text": [
      "[64] Test Loss: 0.2882, Accuracy: 90.73%\n",
      "Train Epoch: 65 [0/50000 (0%)]\tLoss:0.121935\n",
      "Train Epoch: 65 [25600/50000 (51%)]\tLoss:0.083180\n"
     ]
    },
    {
     "name": "stderr",
     "output_type": "stream",
     "text": [
      " 22%|█████████████████                                                              | 65/300 [18:57<1:08:53, 17.59s/it]"
     ]
    },
    {
     "name": "stdout",
     "output_type": "stream",
     "text": [
      "[65] Test Loss: 0.2900, Accuracy: 90.80%\n",
      "Train Epoch: 66 [0/50000 (0%)]\tLoss:0.141171\n",
      "Train Epoch: 66 [25600/50000 (51%)]\tLoss:0.132692\n"
     ]
    },
    {
     "name": "stderr",
     "output_type": "stream",
     "text": [
      " 22%|█████████████████▍                                                             | 66/300 [19:14<1:08:42, 17.62s/it]"
     ]
    },
    {
     "name": "stdout",
     "output_type": "stream",
     "text": [
      "[66] Test Loss: 0.2912, Accuracy: 90.86%\n",
      "Train Epoch: 67 [0/50000 (0%)]\tLoss:0.091196\n",
      "Train Epoch: 67 [25600/50000 (51%)]\tLoss:0.138307\n"
     ]
    },
    {
     "name": "stderr",
     "output_type": "stream",
     "text": [
      " 22%|█████████████████▋                                                             | 67/300 [19:32<1:08:24, 17.61s/it]"
     ]
    },
    {
     "name": "stdout",
     "output_type": "stream",
     "text": [
      "[67] Test Loss: 0.2885, Accuracy: 90.74%\n",
      "Train Epoch: 68 [0/50000 (0%)]\tLoss:0.103652\n",
      "Train Epoch: 68 [25600/50000 (51%)]\tLoss:0.106707\n"
     ]
    },
    {
     "name": "stderr",
     "output_type": "stream",
     "text": [
      " 23%|█████████████████▉                                                             | 68/300 [19:50<1:08:00, 17.59s/it]"
     ]
    },
    {
     "name": "stdout",
     "output_type": "stream",
     "text": [
      "[68] Test Loss: 0.2929, Accuracy: 90.96%\n",
      "Train Epoch: 69 [0/50000 (0%)]\tLoss:0.077602\n",
      "Train Epoch: 69 [25600/50000 (51%)]\tLoss:0.071305\n"
     ]
    },
    {
     "name": "stderr",
     "output_type": "stream",
     "text": [
      " 23%|██████████████████▏                                                            | 69/300 [20:08<1:08:34, 17.81s/it]"
     ]
    },
    {
     "name": "stdout",
     "output_type": "stream",
     "text": [
      "[69] Test Loss: 0.2919, Accuracy: 90.90%\n",
      "Train Epoch: 70 [0/50000 (0%)]\tLoss:0.110675\n",
      "Train Epoch: 70 [25600/50000 (51%)]\tLoss:0.069702\n"
     ]
    },
    {
     "name": "stderr",
     "output_type": "stream",
     "text": [
      " 23%|██████████████████▍                                                            | 70/300 [20:26<1:08:45, 17.94s/it]"
     ]
    },
    {
     "name": "stdout",
     "output_type": "stream",
     "text": [
      "[70] Test Loss: 0.2888, Accuracy: 90.90%\n",
      "Train Epoch: 71 [0/50000 (0%)]\tLoss:0.072704\n",
      "Train Epoch: 71 [25600/50000 (51%)]\tLoss:0.040885\n"
     ]
    },
    {
     "name": "stderr",
     "output_type": "stream",
     "text": [
      " 24%|██████████████████▋                                                            | 71/300 [20:44<1:08:11, 17.87s/it]"
     ]
    },
    {
     "name": "stdout",
     "output_type": "stream",
     "text": [
      "[71] Test Loss: 0.2911, Accuracy: 90.99%\n",
      "Train Epoch: 72 [0/50000 (0%)]\tLoss:0.073533\n",
      "Train Epoch: 72 [25600/50000 (51%)]\tLoss:0.051407\n"
     ]
    },
    {
     "name": "stderr",
     "output_type": "stream",
     "text": [
      " 24%|██████████████████▉                                                            | 72/300 [21:02<1:08:07, 17.93s/it]"
     ]
    },
    {
     "name": "stdout",
     "output_type": "stream",
     "text": [
      "[72] Test Loss: 0.2921, Accuracy: 90.98%\n",
      "Train Epoch: 73 [0/50000 (0%)]\tLoss:0.109602\n",
      "Train Epoch: 73 [25600/50000 (51%)]\tLoss:0.086173\n"
     ]
    },
    {
     "name": "stderr",
     "output_type": "stream",
     "text": [
      " 24%|███████████████████▏                                                           | 73/300 [21:20<1:07:55, 17.95s/it]"
     ]
    },
    {
     "name": "stdout",
     "output_type": "stream",
     "text": [
      "[73] Test Loss: 0.2928, Accuracy: 90.85%\n",
      "Train Epoch: 74 [0/50000 (0%)]\tLoss:0.053555\n",
      "Train Epoch: 74 [25600/50000 (51%)]\tLoss:0.063353\n"
     ]
    },
    {
     "name": "stderr",
     "output_type": "stream",
     "text": [
      " 25%|███████████████████▍                                                           | 74/300 [21:38<1:07:08, 17.83s/it]"
     ]
    },
    {
     "name": "stdout",
     "output_type": "stream",
     "text": [
      "[74] Test Loss: 0.2920, Accuracy: 90.85%\n",
      "Train Epoch: 75 [0/50000 (0%)]\tLoss:0.103970\n",
      "Train Epoch: 75 [25600/50000 (51%)]\tLoss:0.065212\n"
     ]
    },
    {
     "name": "stderr",
     "output_type": "stream",
     "text": [
      " 25%|███████████████████▊                                                           | 75/300 [21:55<1:06:27, 17.72s/it]"
     ]
    },
    {
     "name": "stdout",
     "output_type": "stream",
     "text": [
      "[75] Test Loss: 0.2984, Accuracy: 90.82%\n",
      "Train Epoch: 76 [0/50000 (0%)]\tLoss:0.062764\n",
      "Train Epoch: 76 [25600/50000 (51%)]\tLoss:0.101747\n"
     ]
    },
    {
     "name": "stderr",
     "output_type": "stream",
     "text": [
      " 25%|████████████████████                                                           | 76/300 [22:13<1:06:00, 17.68s/it]"
     ]
    },
    {
     "name": "stdout",
     "output_type": "stream",
     "text": [
      "[76] Test Loss: 0.2936, Accuracy: 90.68%\n",
      "Train Epoch: 77 [0/50000 (0%)]\tLoss:0.132544\n",
      "Train Epoch: 77 [25600/50000 (51%)]\tLoss:0.102619\n"
     ]
    },
    {
     "name": "stderr",
     "output_type": "stream",
     "text": [
      " 26%|████████████████████▎                                                          | 77/300 [22:30<1:05:48, 17.71s/it]"
     ]
    },
    {
     "name": "stdout",
     "output_type": "stream",
     "text": [
      "[77] Test Loss: 0.2955, Accuracy: 90.94%\n",
      "Train Epoch: 78 [0/50000 (0%)]\tLoss:0.092255\n",
      "Train Epoch: 78 [25600/50000 (51%)]\tLoss:0.100980\n"
     ]
    },
    {
     "name": "stderr",
     "output_type": "stream",
     "text": [
      " 26%|████████████████████▌                                                          | 78/300 [22:48<1:05:04, 17.59s/it]"
     ]
    },
    {
     "name": "stdout",
     "output_type": "stream",
     "text": [
      "[78] Test Loss: 0.2927, Accuracy: 90.78%\n",
      "Train Epoch: 79 [0/50000 (0%)]\tLoss:0.074120\n",
      "Train Epoch: 79 [25600/50000 (51%)]\tLoss:0.061372\n"
     ]
    },
    {
     "name": "stderr",
     "output_type": "stream",
     "text": [
      " 26%|████████████████████▊                                                          | 79/300 [23:04<1:03:29, 17.24s/it]"
     ]
    },
    {
     "name": "stdout",
     "output_type": "stream",
     "text": [
      "[79] Test Loss: 0.2945, Accuracy: 91.05%\n",
      "Train Epoch: 80 [0/50000 (0%)]\tLoss:0.106069\n",
      "Train Epoch: 80 [25600/50000 (51%)]\tLoss:0.178388\n"
     ]
    },
    {
     "name": "stderr",
     "output_type": "stream",
     "text": [
      " 27%|█████████████████████                                                          | 80/300 [23:20<1:02:17, 16.99s/it]"
     ]
    },
    {
     "name": "stdout",
     "output_type": "stream",
     "text": [
      "[80] Test Loss: 0.2947, Accuracy: 90.83%\n",
      "Train Epoch: 81 [0/50000 (0%)]\tLoss:0.062002\n",
      "Train Epoch: 81 [25600/50000 (51%)]\tLoss:0.111924\n"
     ]
    },
    {
     "name": "stderr",
     "output_type": "stream",
     "text": [
      " 27%|█████████████████████▎                                                         | 81/300 [23:37<1:01:19, 16.80s/it]"
     ]
    },
    {
     "name": "stdout",
     "output_type": "stream",
     "text": [
      "[81] Test Loss: 0.2917, Accuracy: 90.88%\n",
      "Train Epoch: 82 [0/50000 (0%)]\tLoss:0.078375\n",
      "Train Epoch: 82 [25600/50000 (51%)]\tLoss:0.082603\n"
     ]
    },
    {
     "name": "stderr",
     "output_type": "stream",
     "text": [
      " 27%|█████████████████████▌                                                         | 82/300 [23:53<1:00:34, 16.67s/it]"
     ]
    },
    {
     "name": "stdout",
     "output_type": "stream",
     "text": [
      "[82] Test Loss: 0.2950, Accuracy: 90.92%\n",
      "Train Epoch: 83 [0/50000 (0%)]\tLoss:0.059788\n",
      "Train Epoch: 83 [25600/50000 (51%)]\tLoss:0.072889\n"
     ]
    },
    {
     "name": "stderr",
     "output_type": "stream",
     "text": [
      " 28%|█████████████████████▊                                                         | 83/300 [24:10<1:00:21, 16.69s/it]"
     ]
    },
    {
     "name": "stdout",
     "output_type": "stream",
     "text": [
      "[83] Test Loss: 0.2995, Accuracy: 90.67%\n",
      "Train Epoch: 84 [0/50000 (0%)]\tLoss:0.075415\n",
      "Train Epoch: 84 [25600/50000 (51%)]\tLoss:0.102738\n"
     ]
    },
    {
     "name": "stderr",
     "output_type": "stream",
     "text": [
      " 28%|██████████████████████                                                         | 84/300 [24:27<1:00:23, 16.78s/it]"
     ]
    },
    {
     "name": "stdout",
     "output_type": "stream",
     "text": [
      "[84] Test Loss: 0.2955, Accuracy: 90.72%\n",
      "Train Epoch: 85 [0/50000 (0%)]\tLoss:0.071146\n",
      "Train Epoch: 85 [25600/50000 (51%)]\tLoss:0.066839\n"
     ]
    },
    {
     "name": "stderr",
     "output_type": "stream",
     "text": [
      " 28%|██████████████████████▉                                                          | 85/300 [24:43<59:42, 16.66s/it]"
     ]
    },
    {
     "name": "stdout",
     "output_type": "stream",
     "text": [
      "[85] Test Loss: 0.2970, Accuracy: 90.92%\n",
      "Train Epoch: 86 [0/50000 (0%)]\tLoss:0.092211\n",
      "Train Epoch: 86 [25600/50000 (51%)]\tLoss:0.048749\n"
     ]
    },
    {
     "name": "stderr",
     "output_type": "stream",
     "text": [
      " 29%|███████████████████████▏                                                         | 86/300 [25:00<59:03, 16.56s/it]"
     ]
    },
    {
     "name": "stdout",
     "output_type": "stream",
     "text": [
      "[86] Test Loss: 0.3008, Accuracy: 90.68%\n",
      "Train Epoch: 87 [0/50000 (0%)]\tLoss:0.093021\n",
      "Train Epoch: 87 [25600/50000 (51%)]\tLoss:0.073834\n"
     ]
    },
    {
     "name": "stderr",
     "output_type": "stream",
     "text": [
      " 29%|███████████████████████▍                                                         | 87/300 [25:16<58:40, 16.53s/it]"
     ]
    },
    {
     "name": "stdout",
     "output_type": "stream",
     "text": [
      "[87] Test Loss: 0.3014, Accuracy: 90.90%\n",
      "Train Epoch: 88 [0/50000 (0%)]\tLoss:0.057979\n",
      "Train Epoch: 88 [25600/50000 (51%)]\tLoss:0.078768\n"
     ]
    },
    {
     "name": "stderr",
     "output_type": "stream",
     "text": [
      " 29%|███████████████████████▊                                                         | 88/300 [25:33<58:21, 16.52s/it]"
     ]
    },
    {
     "name": "stdout",
     "output_type": "stream",
     "text": [
      "[88] Test Loss: 0.2966, Accuracy: 90.78%\n",
      "Train Epoch: 89 [0/50000 (0%)]\tLoss:0.058310\n",
      "Train Epoch: 89 [25600/50000 (51%)]\tLoss:0.124323\n"
     ]
    },
    {
     "name": "stderr",
     "output_type": "stream",
     "text": [
      " 30%|████████████████████████                                                         | 89/300 [25:49<58:02, 16.51s/it]"
     ]
    },
    {
     "name": "stdout",
     "output_type": "stream",
     "text": [
      "[89] Test Loss: 0.2977, Accuracy: 90.96%\n",
      "Train Epoch: 90 [0/50000 (0%)]\tLoss:0.099163\n",
      "Train Epoch: 90 [25600/50000 (51%)]\tLoss:0.071304\n"
     ]
    },
    {
     "name": "stderr",
     "output_type": "stream",
     "text": [
      " 30%|████████████████████████▎                                                        | 90/300 [26:06<57:45, 16.50s/it]"
     ]
    },
    {
     "name": "stdout",
     "output_type": "stream",
     "text": [
      "[90] Test Loss: 0.2960, Accuracy: 90.89%\n",
      "Train Epoch: 91 [0/50000 (0%)]\tLoss:0.041149\n",
      "Train Epoch: 91 [25600/50000 (51%)]\tLoss:0.056496\n"
     ]
    },
    {
     "name": "stderr",
     "output_type": "stream",
     "text": [
      " 30%|████████████████████████▌                                                        | 91/300 [26:22<57:16, 16.44s/it]"
     ]
    },
    {
     "name": "stdout",
     "output_type": "stream",
     "text": [
      "[91] Test Loss: 0.2983, Accuracy: 90.82%\n",
      "Train Epoch: 92 [0/50000 (0%)]\tLoss:0.138846\n",
      "Train Epoch: 92 [25600/50000 (51%)]\tLoss:0.066166\n"
     ]
    },
    {
     "name": "stderr",
     "output_type": "stream",
     "text": [
      " 31%|████████████████████████▊                                                        | 92/300 [26:38<56:52, 16.41s/it]"
     ]
    },
    {
     "name": "stdout",
     "output_type": "stream",
     "text": [
      "[92] Test Loss: 0.2987, Accuracy: 90.96%\n",
      "Train Epoch: 93 [0/50000 (0%)]\tLoss:0.117614\n",
      "Train Epoch: 93 [25600/50000 (51%)]\tLoss:0.056995\n"
     ]
    },
    {
     "name": "stderr",
     "output_type": "stream",
     "text": [
      " 31%|█████████████████████████                                                        | 93/300 [26:55<56:34, 16.40s/it]"
     ]
    },
    {
     "name": "stdout",
     "output_type": "stream",
     "text": [
      "[93] Test Loss: 0.2960, Accuracy: 90.92%\n",
      "Train Epoch: 94 [0/50000 (0%)]\tLoss:0.052313\n",
      "Train Epoch: 94 [25600/50000 (51%)]\tLoss:0.077446\n"
     ]
    },
    {
     "name": "stderr",
     "output_type": "stream",
     "text": [
      " 31%|█████████████████████████▍                                                       | 94/300 [27:11<56:19, 16.40s/it]"
     ]
    },
    {
     "name": "stdout",
     "output_type": "stream",
     "text": [
      "[94] Test Loss: 0.2971, Accuracy: 90.97%\n",
      "Train Epoch: 95 [0/50000 (0%)]\tLoss:0.128583\n",
      "Train Epoch: 95 [25600/50000 (51%)]\tLoss:0.037650\n"
     ]
    },
    {
     "name": "stderr",
     "output_type": "stream",
     "text": [
      " 32%|█████████████████████████▋                                                       | 95/300 [27:27<55:59, 16.39s/it]"
     ]
    },
    {
     "name": "stdout",
     "output_type": "stream",
     "text": [
      "[95] Test Loss: 0.2971, Accuracy: 90.99%\n",
      "Train Epoch: 96 [0/50000 (0%)]\tLoss:0.104692\n",
      "Train Epoch: 96 [25600/50000 (51%)]\tLoss:0.103901\n"
     ]
    },
    {
     "name": "stderr",
     "output_type": "stream",
     "text": [
      " 32%|█████████████████████████▉                                                       | 96/300 [27:44<55:43, 16.39s/it]"
     ]
    },
    {
     "name": "stdout",
     "output_type": "stream",
     "text": [
      "[96] Test Loss: 0.2982, Accuracy: 91.02%\n",
      "Train Epoch: 97 [0/50000 (0%)]\tLoss:0.069429\n",
      "Train Epoch: 97 [25600/50000 (51%)]\tLoss:0.081196\n"
     ]
    },
    {
     "name": "stderr",
     "output_type": "stream",
     "text": [
      " 32%|██████████████████████████▏                                                      | 97/300 [28:00<55:32, 16.42s/it]"
     ]
    },
    {
     "name": "stdout",
     "output_type": "stream",
     "text": [
      "[97] Test Loss: 0.3028, Accuracy: 90.90%\n",
      "Train Epoch: 98 [0/50000 (0%)]\tLoss:0.100165\n",
      "Train Epoch: 98 [25600/50000 (51%)]\tLoss:0.067306\n"
     ]
    },
    {
     "name": "stderr",
     "output_type": "stream",
     "text": [
      " 33%|██████████████████████████▍                                                      | 98/300 [28:17<55:12, 16.40s/it]"
     ]
    },
    {
     "name": "stdout",
     "output_type": "stream",
     "text": [
      "[98] Test Loss: 0.3020, Accuracy: 90.93%\n",
      "Train Epoch: 99 [0/50000 (0%)]\tLoss:0.044980\n",
      "Train Epoch: 99 [25600/50000 (51%)]\tLoss:0.062842\n"
     ]
    },
    {
     "name": "stderr",
     "output_type": "stream",
     "text": [
      " 33%|██████████████████████████▋                                                      | 99/300 [28:33<54:51, 16.38s/it]"
     ]
    },
    {
     "name": "stdout",
     "output_type": "stream",
     "text": [
      "[99] Test Loss: 0.3038, Accuracy: 90.73%\n",
      "Train Epoch: 100 [0/50000 (0%)]\tLoss:0.092684\n",
      "Train Epoch: 100 [25600/50000 (51%)]\tLoss:0.111062\n"
     ]
    },
    {
     "name": "stderr",
     "output_type": "stream",
     "text": [
      " 33%|██████████████████████████▋                                                     | 100/300 [28:49<54:34, 16.37s/it]"
     ]
    },
    {
     "name": "stdout",
     "output_type": "stream",
     "text": [
      "[100] Test Loss: 0.3021, Accuracy: 90.78%\n",
      "Train Epoch: 101 [0/50000 (0%)]\tLoss:0.034760\n",
      "Train Epoch: 101 [25600/50000 (51%)]\tLoss:0.045336\n"
     ]
    },
    {
     "name": "stderr",
     "output_type": "stream",
     "text": [
      " 34%|██████████████████████████▉                                                     | 101/300 [29:06<54:17, 16.37s/it]"
     ]
    },
    {
     "name": "stdout",
     "output_type": "stream",
     "text": [
      "[101] Test Loss: 0.3086, Accuracy: 90.68%\n",
      "Train Epoch: 102 [0/50000 (0%)]\tLoss:0.103111\n",
      "Train Epoch: 102 [25600/50000 (51%)]\tLoss:0.075748\n"
     ]
    },
    {
     "name": "stderr",
     "output_type": "stream",
     "text": [
      " 34%|███████████████████████████▏                                                    | 102/300 [29:22<53:58, 16.36s/it]"
     ]
    },
    {
     "name": "stdout",
     "output_type": "stream",
     "text": [
      "[102] Test Loss: 0.3085, Accuracy: 90.79%\n",
      "Train Epoch: 103 [0/50000 (0%)]\tLoss:0.074928\n",
      "Train Epoch: 103 [25600/50000 (51%)]\tLoss:0.094656\n"
     ]
    },
    {
     "name": "stderr",
     "output_type": "stream",
     "text": [
      " 34%|███████████████████████████▍                                                    | 103/300 [29:38<53:39, 16.34s/it]"
     ]
    },
    {
     "name": "stdout",
     "output_type": "stream",
     "text": [
      "[103] Test Loss: 0.3043, Accuracy: 90.85%\n",
      "Train Epoch: 104 [0/50000 (0%)]\tLoss:0.090780\n",
      "Train Epoch: 104 [25600/50000 (51%)]\tLoss:0.027025\n"
     ]
    },
    {
     "name": "stderr",
     "output_type": "stream",
     "text": [
      " 35%|███████████████████████████▋                                                    | 104/300 [29:55<53:21, 16.33s/it]"
     ]
    },
    {
     "name": "stdout",
     "output_type": "stream",
     "text": [
      "[104] Test Loss: 0.3028, Accuracy: 90.90%\n",
      "Train Epoch: 105 [0/50000 (0%)]\tLoss:0.060827\n",
      "Train Epoch: 105 [25600/50000 (51%)]\tLoss:0.049430\n"
     ]
    },
    {
     "name": "stderr",
     "output_type": "stream",
     "text": [
      " 35%|████████████████████████████                                                    | 105/300 [30:11<53:03, 16.32s/it]"
     ]
    },
    {
     "name": "stdout",
     "output_type": "stream",
     "text": [
      "[105] Test Loss: 0.3053, Accuracy: 90.83%\n",
      "Train Epoch: 106 [0/50000 (0%)]\tLoss:0.082918\n",
      "Train Epoch: 106 [25600/50000 (51%)]\tLoss:0.050234\n"
     ]
    },
    {
     "name": "stderr",
     "output_type": "stream",
     "text": [
      " 35%|████████████████████████████▎                                                   | 106/300 [30:27<52:46, 16.32s/it]"
     ]
    },
    {
     "name": "stdout",
     "output_type": "stream",
     "text": [
      "[106] Test Loss: 0.3039, Accuracy: 90.81%\n",
      "Train Epoch: 107 [0/50000 (0%)]\tLoss:0.037103\n",
      "Train Epoch: 107 [25600/50000 (51%)]\tLoss:0.090368\n"
     ]
    },
    {
     "name": "stderr",
     "output_type": "stream",
     "text": [
      " 36%|████████████████████████████▌                                                   | 107/300 [30:43<52:29, 16.32s/it]"
     ]
    },
    {
     "name": "stdout",
     "output_type": "stream",
     "text": [
      "[107] Test Loss: 0.2997, Accuracy: 90.92%\n",
      "Train Epoch: 108 [0/50000 (0%)]\tLoss:0.067678\n",
      "Train Epoch: 108 [25600/50000 (51%)]\tLoss:0.065977\n"
     ]
    },
    {
     "name": "stderr",
     "output_type": "stream",
     "text": [
      " 36%|████████████████████████████▊                                                   | 108/300 [31:00<52:16, 16.33s/it]"
     ]
    },
    {
     "name": "stdout",
     "output_type": "stream",
     "text": [
      "[108] Test Loss: 0.2987, Accuracy: 91.13%\n",
      "Train Epoch: 109 [0/50000 (0%)]\tLoss:0.072328\n",
      "Train Epoch: 109 [25600/50000 (51%)]\tLoss:0.080685\n"
     ]
    },
    {
     "name": "stderr",
     "output_type": "stream",
     "text": [
      " 36%|█████████████████████████████                                                   | 109/300 [31:16<51:59, 16.33s/it]"
     ]
    },
    {
     "name": "stdout",
     "output_type": "stream",
     "text": [
      "[109] Test Loss: 0.2974, Accuracy: 91.03%\n",
      "Train Epoch: 110 [0/50000 (0%)]\tLoss:0.046285\n",
      "Train Epoch: 110 [25600/50000 (51%)]\tLoss:0.050379\n"
     ]
    },
    {
     "name": "stderr",
     "output_type": "stream",
     "text": [
      " 37%|█████████████████████████████▎                                                  | 110/300 [31:33<51:58, 16.42s/it]"
     ]
    },
    {
     "name": "stdout",
     "output_type": "stream",
     "text": [
      "[110] Test Loss: 0.2975, Accuracy: 91.00%\n",
      "Train Epoch: 111 [0/50000 (0%)]\tLoss:0.063880\n",
      "Train Epoch: 111 [25600/50000 (51%)]\tLoss:0.081777\n"
     ]
    },
    {
     "name": "stderr",
     "output_type": "stream",
     "text": [
      " 37%|█████████████████████████████▌                                                  | 111/300 [31:49<51:36, 16.38s/it]"
     ]
    },
    {
     "name": "stdout",
     "output_type": "stream",
     "text": [
      "[111] Test Loss: 0.3002, Accuracy: 90.95%\n",
      "Train Epoch: 112 [0/50000 (0%)]\tLoss:0.081659\n",
      "Train Epoch: 112 [25600/50000 (51%)]\tLoss:0.107787\n"
     ]
    },
    {
     "name": "stderr",
     "output_type": "stream",
     "text": [
      " 37%|█████████████████████████████▊                                                  | 112/300 [32:05<51:18, 16.38s/it]"
     ]
    },
    {
     "name": "stdout",
     "output_type": "stream",
     "text": [
      "[112] Test Loss: 0.2987, Accuracy: 90.95%\n",
      "Train Epoch: 113 [0/50000 (0%)]\tLoss:0.060157\n",
      "Train Epoch: 113 [25600/50000 (51%)]\tLoss:0.047822\n"
     ]
    },
    {
     "name": "stderr",
     "output_type": "stream",
     "text": [
      " 38%|██████████████████████████████▏                                                 | 113/300 [32:22<50:58, 16.35s/it]"
     ]
    },
    {
     "name": "stdout",
     "output_type": "stream",
     "text": [
      "[113] Test Loss: 0.2999, Accuracy: 91.03%\n",
      "Train Epoch: 114 [0/50000 (0%)]\tLoss:0.068951\n",
      "Train Epoch: 114 [25600/50000 (51%)]\tLoss:0.076245\n"
     ]
    },
    {
     "name": "stderr",
     "output_type": "stream",
     "text": [
      " 38%|██████████████████████████████▍                                                 | 114/300 [32:38<50:42, 16.36s/it]"
     ]
    },
    {
     "name": "stdout",
     "output_type": "stream",
     "text": [
      "[114] Test Loss: 0.2988, Accuracy: 91.03%\n",
      "Train Epoch: 115 [0/50000 (0%)]\tLoss:0.099328\n",
      "Train Epoch: 115 [25600/50000 (51%)]\tLoss:0.048052\n"
     ]
    },
    {
     "name": "stderr",
     "output_type": "stream",
     "text": [
      " 38%|██████████████████████████████▋                                                 | 115/300 [32:55<50:27, 16.37s/it]"
     ]
    },
    {
     "name": "stdout",
     "output_type": "stream",
     "text": [
      "[115] Test Loss: 0.3018, Accuracy: 90.98%\n",
      "Train Epoch: 116 [0/50000 (0%)]\tLoss:0.071983\n",
      "Train Epoch: 116 [25600/50000 (51%)]\tLoss:0.064093\n"
     ]
    },
    {
     "name": "stderr",
     "output_type": "stream",
     "text": [
      " 39%|██████████████████████████████▉                                                 | 116/300 [33:11<50:10, 16.36s/it]"
     ]
    },
    {
     "name": "stdout",
     "output_type": "stream",
     "text": [
      "[116] Test Loss: 0.3000, Accuracy: 90.90%\n",
      "Train Epoch: 117 [0/50000 (0%)]\tLoss:0.086581\n",
      "Train Epoch: 117 [25600/50000 (51%)]\tLoss:0.047638\n"
     ]
    },
    {
     "name": "stderr",
     "output_type": "stream",
     "text": [
      " 39%|███████████████████████████████▏                                                | 117/300 [33:27<49:51, 16.35s/it]"
     ]
    },
    {
     "name": "stdout",
     "output_type": "stream",
     "text": [
      "[117] Test Loss: 0.2991, Accuracy: 90.95%\n",
      "Train Epoch: 118 [0/50000 (0%)]\tLoss:0.025991\n",
      "Train Epoch: 118 [25600/50000 (51%)]\tLoss:0.026177\n"
     ]
    },
    {
     "name": "stderr",
     "output_type": "stream",
     "text": [
      " 39%|███████████████████████████████▍                                                | 118/300 [33:44<49:35, 16.35s/it]"
     ]
    },
    {
     "name": "stdout",
     "output_type": "stream",
     "text": [
      "[118] Test Loss: 0.3017, Accuracy: 90.91%\n",
      "Train Epoch: 119 [0/50000 (0%)]\tLoss:0.083027\n",
      "Train Epoch: 119 [25600/50000 (51%)]\tLoss:0.075473\n"
     ]
    },
    {
     "name": "stderr",
     "output_type": "stream",
     "text": [
      " 40%|███████████████████████████████▋                                                | 119/300 [34:00<49:16, 16.33s/it]"
     ]
    },
    {
     "name": "stdout",
     "output_type": "stream",
     "text": [
      "[119] Test Loss: 0.3018, Accuracy: 90.92%\n",
      "Train Epoch: 120 [0/50000 (0%)]\tLoss:0.080374\n",
      "Train Epoch: 120 [25600/50000 (51%)]\tLoss:0.048517\n"
     ]
    },
    {
     "name": "stderr",
     "output_type": "stream",
     "text": [
      " 40%|████████████████████████████████                                                | 120/300 [34:16<48:57, 16.32s/it]"
     ]
    },
    {
     "name": "stdout",
     "output_type": "stream",
     "text": [
      "[120] Test Loss: 0.2996, Accuracy: 90.98%\n",
      "Train Epoch: 121 [0/50000 (0%)]\tLoss:0.046520\n",
      "Train Epoch: 121 [25600/50000 (51%)]\tLoss:0.066468\n"
     ]
    },
    {
     "name": "stderr",
     "output_type": "stream",
     "text": [
      " 40%|████████████████████████████████▎                                               | 121/300 [34:32<48:39, 16.31s/it]"
     ]
    },
    {
     "name": "stdout",
     "output_type": "stream",
     "text": [
      "[121] Test Loss: 0.3005, Accuracy: 90.99%\n",
      "Train Epoch: 122 [0/50000 (0%)]\tLoss:0.049987\n",
      "Train Epoch: 122 [25600/50000 (51%)]\tLoss:0.120475\n"
     ]
    },
    {
     "name": "stderr",
     "output_type": "stream",
     "text": [
      " 41%|████████████████████████████████▌                                               | 122/300 [34:49<48:23, 16.31s/it]"
     ]
    },
    {
     "name": "stdout",
     "output_type": "stream",
     "text": [
      "[122] Test Loss: 0.2998, Accuracy: 90.96%\n",
      "Train Epoch: 123 [0/50000 (0%)]\tLoss:0.058448\n",
      "Train Epoch: 123 [25600/50000 (51%)]\tLoss:0.106465\n"
     ]
    },
    {
     "name": "stderr",
     "output_type": "stream",
     "text": [
      " 41%|████████████████████████████████▊                                               | 123/300 [35:05<48:09, 16.32s/it]"
     ]
    },
    {
     "name": "stdout",
     "output_type": "stream",
     "text": [
      "[123] Test Loss: 0.3029, Accuracy: 90.83%\n",
      "Train Epoch: 124 [0/50000 (0%)]\tLoss:0.124732\n",
      "Train Epoch: 124 [25600/50000 (51%)]\tLoss:0.055541\n"
     ]
    },
    {
     "name": "stderr",
     "output_type": "stream",
     "text": [
      " 41%|█████████████████████████████████                                               | 124/300 [35:22<48:05, 16.40s/it]"
     ]
    },
    {
     "name": "stdout",
     "output_type": "stream",
     "text": [
      "[124] Test Loss: 0.3028, Accuracy: 90.87%\n",
      "Train Epoch: 125 [0/50000 (0%)]\tLoss:0.067723\n",
      "Train Epoch: 125 [25600/50000 (51%)]\tLoss:0.064981\n"
     ]
    },
    {
     "name": "stderr",
     "output_type": "stream",
     "text": [
      " 42%|█████████████████████████████████▎                                              | 125/300 [35:38<47:52, 16.42s/it]"
     ]
    },
    {
     "name": "stdout",
     "output_type": "stream",
     "text": [
      "[125] Test Loss: 0.3006, Accuracy: 91.14%\n",
      "Train Epoch: 126 [0/50000 (0%)]\tLoss:0.070808\n",
      "Train Epoch: 126 [25600/50000 (51%)]\tLoss:0.096864\n"
     ]
    },
    {
     "name": "stderr",
     "output_type": "stream",
     "text": [
      " 42%|█████████████████████████████████▌                                              | 126/300 [35:54<47:28, 16.37s/it]"
     ]
    },
    {
     "name": "stdout",
     "output_type": "stream",
     "text": [
      "[126] Test Loss: 0.3015, Accuracy: 91.03%\n",
      "Train Epoch: 127 [0/50000 (0%)]\tLoss:0.038101\n",
      "Train Epoch: 127 [25600/50000 (51%)]\tLoss:0.031865\n"
     ]
    },
    {
     "name": "stderr",
     "output_type": "stream",
     "text": [
      " 42%|█████████████████████████████████▊                                              | 127/300 [36:11<47:20, 16.42s/it]"
     ]
    },
    {
     "name": "stdout",
     "output_type": "stream",
     "text": [
      "[127] Test Loss: 0.2995, Accuracy: 91.12%\n",
      "Train Epoch: 128 [0/50000 (0%)]\tLoss:0.066322\n",
      "Train Epoch: 128 [25600/50000 (51%)]\tLoss:0.089325\n"
     ]
    },
    {
     "name": "stderr",
     "output_type": "stream",
     "text": [
      " 43%|██████████████████████████████████▏                                             | 128/300 [36:28<47:15, 16.48s/it]"
     ]
    },
    {
     "name": "stdout",
     "output_type": "stream",
     "text": [
      "[128] Test Loss: 0.3028, Accuracy: 90.93%\n",
      "Train Epoch: 129 [0/50000 (0%)]\tLoss:0.050242\n",
      "Train Epoch: 129 [25600/50000 (51%)]\tLoss:0.065503\n"
     ]
    },
    {
     "name": "stderr",
     "output_type": "stream",
     "text": [
      " 43%|██████████████████████████████████▍                                             | 129/300 [36:45<47:31, 16.68s/it]"
     ]
    },
    {
     "name": "stdout",
     "output_type": "stream",
     "text": [
      "[129] Test Loss: 0.2999, Accuracy: 91.02%\n",
      "Train Epoch: 130 [0/50000 (0%)]\tLoss:0.066476\n",
      "Train Epoch: 130 [25600/50000 (51%)]\tLoss:0.071388\n"
     ]
    },
    {
     "name": "stderr",
     "output_type": "stream",
     "text": [
      " 43%|██████████████████████████████████▋                                             | 130/300 [37:01<47:21, 16.72s/it]"
     ]
    },
    {
     "name": "stdout",
     "output_type": "stream",
     "text": [
      "[130] Test Loss: 0.3009, Accuracy: 91.18%\n",
      "Train Epoch: 131 [0/50000 (0%)]\tLoss:0.073081\n",
      "Train Epoch: 131 [25600/50000 (51%)]\tLoss:0.038031\n"
     ]
    },
    {
     "name": "stderr",
     "output_type": "stream",
     "text": [
      " 44%|██████████████████████████████████▉                                             | 131/300 [37:18<47:07, 16.73s/it]"
     ]
    },
    {
     "name": "stdout",
     "output_type": "stream",
     "text": [
      "[131] Test Loss: 0.3016, Accuracy: 90.99%\n",
      "Train Epoch: 132 [0/50000 (0%)]\tLoss:0.046641\n",
      "Train Epoch: 132 [25600/50000 (51%)]\tLoss:0.038441\n"
     ]
    },
    {
     "name": "stderr",
     "output_type": "stream",
     "text": [
      " 44%|███████████████████████████████████▏                                            | 132/300 [37:35<46:37, 16.65s/it]"
     ]
    },
    {
     "name": "stdout",
     "output_type": "stream",
     "text": [
      "[132] Test Loss: 0.3033, Accuracy: 91.08%\n",
      "Train Epoch: 133 [0/50000 (0%)]\tLoss:0.052819\n",
      "Train Epoch: 133 [25600/50000 (51%)]\tLoss:0.056007\n"
     ]
    },
    {
     "name": "stderr",
     "output_type": "stream",
     "text": [
      " 44%|███████████████████████████████████▍                                            | 133/300 [37:51<46:12, 16.60s/it]"
     ]
    },
    {
     "name": "stdout",
     "output_type": "stream",
     "text": [
      "[133] Test Loss: 0.3027, Accuracy: 91.05%\n",
      "Train Epoch: 134 [0/50000 (0%)]\tLoss:0.111709\n",
      "Train Epoch: 134 [25600/50000 (51%)]\tLoss:0.041261\n"
     ]
    },
    {
     "name": "stderr",
     "output_type": "stream",
     "text": [
      " 45%|███████████████████████████████████▋                                            | 134/300 [38:08<45:59, 16.62s/it]"
     ]
    },
    {
     "name": "stdout",
     "output_type": "stream",
     "text": [
      "[134] Test Loss: 0.3024, Accuracy: 90.97%\n",
      "Train Epoch: 135 [0/50000 (0%)]\tLoss:0.076537\n",
      "Train Epoch: 135 [25600/50000 (51%)]\tLoss:0.035687\n"
     ]
    },
    {
     "name": "stderr",
     "output_type": "stream",
     "text": [
      " 45%|████████████████████████████████████                                            | 135/300 [38:24<45:38, 16.60s/it]"
     ]
    },
    {
     "name": "stdout",
     "output_type": "stream",
     "text": [
      "[135] Test Loss: 0.3017, Accuracy: 91.06%\n",
      "Train Epoch: 136 [0/50000 (0%)]\tLoss:0.050080\n",
      "Train Epoch: 136 [25600/50000 (51%)]\tLoss:0.058578\n"
     ]
    },
    {
     "name": "stderr",
     "output_type": "stream",
     "text": [
      " 45%|████████████████████████████████████▎                                           | 136/300 [38:41<45:27, 16.63s/it]"
     ]
    },
    {
     "name": "stdout",
     "output_type": "stream",
     "text": [
      "[136] Test Loss: 0.3020, Accuracy: 91.11%\n",
      "Train Epoch: 137 [0/50000 (0%)]\tLoss:0.048135\n",
      "Train Epoch: 137 [25600/50000 (51%)]\tLoss:0.070616\n"
     ]
    },
    {
     "name": "stderr",
     "output_type": "stream",
     "text": [
      " 46%|████████████████████████████████████▌                                           | 137/300 [38:58<45:07, 16.61s/it]"
     ]
    },
    {
     "name": "stdout",
     "output_type": "stream",
     "text": [
      "[137] Test Loss: 0.3011, Accuracy: 90.91%\n",
      "Train Epoch: 138 [0/50000 (0%)]\tLoss:0.040688\n",
      "Train Epoch: 138 [25600/50000 (51%)]\tLoss:0.052671\n"
     ]
    },
    {
     "name": "stderr",
     "output_type": "stream",
     "text": [
      " 46%|████████████████████████████████████▊                                           | 138/300 [39:14<44:36, 16.52s/it]"
     ]
    },
    {
     "name": "stdout",
     "output_type": "stream",
     "text": [
      "[138] Test Loss: 0.3016, Accuracy: 90.99%\n",
      "Train Epoch: 139 [0/50000 (0%)]\tLoss:0.067624\n",
      "Train Epoch: 139 [25600/50000 (51%)]\tLoss:0.091729\n"
     ]
    },
    {
     "name": "stderr",
     "output_type": "stream",
     "text": [
      " 46%|█████████████████████████████████████                                           | 139/300 [39:30<44:16, 16.50s/it]"
     ]
    },
    {
     "name": "stdout",
     "output_type": "stream",
     "text": [
      "[139] Test Loss: 0.3027, Accuracy: 90.98%\n",
      "Train Epoch: 140 [0/50000 (0%)]\tLoss:0.106822\n",
      "Train Epoch: 140 [25600/50000 (51%)]\tLoss:0.039111\n"
     ]
    },
    {
     "name": "stderr",
     "output_type": "stream",
     "text": [
      " 47%|█████████████████████████████████████▎                                          | 140/300 [39:47<44:06, 16.54s/it]"
     ]
    },
    {
     "name": "stdout",
     "output_type": "stream",
     "text": [
      "[140] Test Loss: 0.3040, Accuracy: 90.97%\n",
      "Train Epoch: 141 [0/50000 (0%)]\tLoss:0.064376\n",
      "Train Epoch: 141 [25600/50000 (51%)]\tLoss:0.117083\n"
     ]
    },
    {
     "name": "stderr",
     "output_type": "stream",
     "text": [
      " 47%|█████████████████████████████████████▌                                          | 141/300 [40:03<43:40, 16.48s/it]"
     ]
    },
    {
     "name": "stdout",
     "output_type": "stream",
     "text": [
      "[141] Test Loss: 0.3035, Accuracy: 90.99%\n",
      "Train Epoch: 142 [0/50000 (0%)]\tLoss:0.099575\n",
      "Train Epoch: 142 [25600/50000 (51%)]\tLoss:0.069953\n"
     ]
    },
    {
     "name": "stderr",
     "output_type": "stream",
     "text": [
      " 47%|█████████████████████████████████████▊                                          | 142/300 [40:20<43:15, 16.43s/it]"
     ]
    },
    {
     "name": "stdout",
     "output_type": "stream",
     "text": [
      "[142] Test Loss: 0.3024, Accuracy: 91.10%\n",
      "Train Epoch: 143 [0/50000 (0%)]\tLoss:0.068876\n",
      "Train Epoch: 143 [25600/50000 (51%)]\tLoss:0.045744\n"
     ]
    },
    {
     "name": "stderr",
     "output_type": "stream",
     "text": [
      " 48%|██████████████████████████████████████▏                                         | 143/300 [40:36<42:53, 16.39s/it]"
     ]
    },
    {
     "name": "stdout",
     "output_type": "stream",
     "text": [
      "[143] Test Loss: 0.3026, Accuracy: 90.99%\n",
      "Train Epoch: 144 [0/50000 (0%)]\tLoss:0.055809\n",
      "Train Epoch: 144 [25600/50000 (51%)]\tLoss:0.059386\n"
     ]
    },
    {
     "name": "stderr",
     "output_type": "stream",
     "text": [
      " 48%|██████████████████████████████████████▍                                         | 144/300 [40:52<42:33, 16.37s/it]"
     ]
    },
    {
     "name": "stdout",
     "output_type": "stream",
     "text": [
      "[144] Test Loss: 0.3048, Accuracy: 91.04%\n",
      "Train Epoch: 145 [0/50000 (0%)]\tLoss:0.091248\n",
      "Train Epoch: 145 [25600/50000 (51%)]\tLoss:0.048475\n"
     ]
    },
    {
     "name": "stderr",
     "output_type": "stream",
     "text": [
      " 48%|██████████████████████████████████████▋                                         | 145/300 [41:09<42:15, 16.36s/it]"
     ]
    },
    {
     "name": "stdout",
     "output_type": "stream",
     "text": [
      "[145] Test Loss: 0.3016, Accuracy: 91.00%\n",
      "Train Epoch: 146 [0/50000 (0%)]\tLoss:0.082420\n",
      "Train Epoch: 146 [25600/50000 (51%)]\tLoss:0.052434\n"
     ]
    },
    {
     "name": "stderr",
     "output_type": "stream",
     "text": [
      " 49%|██████████████████████████████████████▉                                         | 146/300 [41:25<41:57, 16.34s/it]"
     ]
    },
    {
     "name": "stdout",
     "output_type": "stream",
     "text": [
      "[146] Test Loss: 0.3026, Accuracy: 91.09%\n",
      "Train Epoch: 147 [0/50000 (0%)]\tLoss:0.036914\n",
      "Train Epoch: 147 [25600/50000 (51%)]\tLoss:0.054419\n"
     ]
    },
    {
     "name": "stderr",
     "output_type": "stream",
     "text": [
      " 49%|███████████████████████████████████████▏                                        | 147/300 [41:41<41:38, 16.33s/it]"
     ]
    },
    {
     "name": "stdout",
     "output_type": "stream",
     "text": [
      "[147] Test Loss: 0.3006, Accuracy: 91.22%\n",
      "Train Epoch: 148 [0/50000 (0%)]\tLoss:0.093840\n",
      "Train Epoch: 148 [25600/50000 (51%)]\tLoss:0.043171\n"
     ]
    },
    {
     "name": "stderr",
     "output_type": "stream",
     "text": [
      " 49%|███████████████████████████████████████▍                                        | 148/300 [41:58<41:22, 16.33s/it]"
     ]
    },
    {
     "name": "stdout",
     "output_type": "stream",
     "text": [
      "[148] Test Loss: 0.3033, Accuracy: 91.03%\n",
      "Train Epoch: 149 [0/50000 (0%)]\tLoss:0.047575\n",
      "Train Epoch: 149 [25600/50000 (51%)]\tLoss:0.056450\n"
     ]
    },
    {
     "name": "stderr",
     "output_type": "stream",
     "text": [
      " 50%|███████████████████████████████████████▋                                        | 149/300 [42:14<41:04, 16.32s/it]"
     ]
    },
    {
     "name": "stdout",
     "output_type": "stream",
     "text": [
      "[149] Test Loss: 0.3014, Accuracy: 91.12%\n",
      "Train Epoch: 150 [0/50000 (0%)]\tLoss:0.077543\n",
      "Train Epoch: 150 [25600/50000 (51%)]\tLoss:0.070289\n"
     ]
    },
    {
     "name": "stderr",
     "output_type": "stream",
     "text": [
      " 50%|████████████████████████████████████████                                        | 150/300 [42:30<40:52, 16.35s/it]"
     ]
    },
    {
     "name": "stdout",
     "output_type": "stream",
     "text": [
      "[150] Test Loss: 0.3028, Accuracy: 91.11%\n",
      "Train Epoch: 151 [0/50000 (0%)]\tLoss:0.088356\n",
      "Train Epoch: 151 [25600/50000 (51%)]\tLoss:0.088699\n"
     ]
    },
    {
     "name": "stderr",
     "output_type": "stream",
     "text": [
      " 50%|████████████████████████████████████████▎                                       | 151/300 [42:47<40:37, 16.36s/it]"
     ]
    },
    {
     "name": "stdout",
     "output_type": "stream",
     "text": [
      "[151] Test Loss: 0.3004, Accuracy: 91.02%\n",
      "Train Epoch: 152 [0/50000 (0%)]\tLoss:0.092089\n",
      "Train Epoch: 152 [25600/50000 (51%)]\tLoss:0.037378\n"
     ]
    },
    {
     "name": "stderr",
     "output_type": "stream",
     "text": [
      " 51%|████████████████████████████████████████▌                                       | 152/300 [43:03<40:21, 16.36s/it]"
     ]
    },
    {
     "name": "stdout",
     "output_type": "stream",
     "text": [
      "[152] Test Loss: 0.3024, Accuracy: 91.11%\n",
      "Train Epoch: 153 [0/50000 (0%)]\tLoss:0.038088\n",
      "Train Epoch: 153 [25600/50000 (51%)]\tLoss:0.112644\n"
     ]
    },
    {
     "name": "stderr",
     "output_type": "stream",
     "text": [
      " 51%|████████████████████████████████████████▊                                       | 153/300 [43:20<40:13, 16.42s/it]"
     ]
    },
    {
     "name": "stdout",
     "output_type": "stream",
     "text": [
      "[153] Test Loss: 0.3035, Accuracy: 90.90%\n",
      "Train Epoch: 154 [0/50000 (0%)]\tLoss:0.088531\n",
      "Train Epoch: 154 [25600/50000 (51%)]\tLoss:0.080495\n"
     ]
    },
    {
     "name": "stderr",
     "output_type": "stream",
     "text": [
      " 51%|█████████████████████████████████████████                                       | 154/300 [43:36<39:50, 16.37s/it]"
     ]
    },
    {
     "name": "stdout",
     "output_type": "stream",
     "text": [
      "[154] Test Loss: 0.3022, Accuracy: 91.14%\n",
      "Train Epoch: 155 [0/50000 (0%)]\tLoss:0.078505\n",
      "Train Epoch: 155 [25600/50000 (51%)]\tLoss:0.054427\n"
     ]
    },
    {
     "name": "stderr",
     "output_type": "stream",
     "text": [
      " 52%|█████████████████████████████████████████▎                                      | 155/300 [43:52<39:30, 16.35s/it]"
     ]
    },
    {
     "name": "stdout",
     "output_type": "stream",
     "text": [
      "[155] Test Loss: 0.3025, Accuracy: 91.09%\n",
      "Train Epoch: 156 [0/50000 (0%)]\tLoss:0.077674\n",
      "Train Epoch: 156 [25600/50000 (51%)]\tLoss:0.067662\n"
     ]
    },
    {
     "name": "stderr",
     "output_type": "stream",
     "text": [
      " 52%|█████████████████████████████████████████▌                                      | 156/300 [44:08<39:11, 16.33s/it]"
     ]
    },
    {
     "name": "stdout",
     "output_type": "stream",
     "text": [
      "[156] Test Loss: 0.3031, Accuracy: 91.02%\n",
      "Train Epoch: 157 [0/50000 (0%)]\tLoss:0.079656\n",
      "Train Epoch: 157 [25600/50000 (51%)]\tLoss:0.083737\n"
     ]
    },
    {
     "name": "stderr",
     "output_type": "stream",
     "text": [
      " 52%|█████████████████████████████████████████▊                                      | 157/300 [44:25<38:53, 16.32s/it]"
     ]
    },
    {
     "name": "stdout",
     "output_type": "stream",
     "text": [
      "[157] Test Loss: 0.3027, Accuracy: 90.91%\n",
      "Train Epoch: 158 [0/50000 (0%)]\tLoss:0.067174\n",
      "Train Epoch: 158 [25600/50000 (51%)]\tLoss:0.058992\n"
     ]
    },
    {
     "name": "stderr",
     "output_type": "stream",
     "text": [
      " 53%|██████████████████████████████████████████▏                                     | 158/300 [44:41<38:36, 16.32s/it]"
     ]
    },
    {
     "name": "stdout",
     "output_type": "stream",
     "text": [
      "[158] Test Loss: 0.3048, Accuracy: 90.85%\n",
      "Train Epoch: 159 [0/50000 (0%)]\tLoss:0.050208\n",
      "Train Epoch: 159 [25600/50000 (51%)]\tLoss:0.047217\n"
     ]
    },
    {
     "name": "stderr",
     "output_type": "stream",
     "text": [
      " 53%|██████████████████████████████████████████▍                                     | 159/300 [44:57<38:21, 16.33s/it]"
     ]
    },
    {
     "name": "stdout",
     "output_type": "stream",
     "text": [
      "[159] Test Loss: 0.3032, Accuracy: 91.07%\n",
      "Train Epoch: 160 [0/50000 (0%)]\tLoss:0.053041\n",
      "Train Epoch: 160 [25600/50000 (51%)]\tLoss:0.040371\n"
     ]
    },
    {
     "name": "stderr",
     "output_type": "stream",
     "text": [
      " 53%|██████████████████████████████████████████▋                                     | 160/300 [45:14<38:06, 16.34s/it]"
     ]
    },
    {
     "name": "stdout",
     "output_type": "stream",
     "text": [
      "[160] Test Loss: 0.3013, Accuracy: 91.03%\n",
      "Train Epoch: 161 [0/50000 (0%)]\tLoss:0.091331\n",
      "Train Epoch: 161 [25600/50000 (51%)]\tLoss:0.039100\n"
     ]
    },
    {
     "name": "stderr",
     "output_type": "stream",
     "text": [
      " 54%|██████████████████████████████████████████▉                                     | 161/300 [45:30<37:49, 16.33s/it]"
     ]
    },
    {
     "name": "stdout",
     "output_type": "stream",
     "text": [
      "[161] Test Loss: 0.3025, Accuracy: 91.00%\n",
      "Train Epoch: 162 [0/50000 (0%)]\tLoss:0.086219\n",
      "Train Epoch: 162 [25600/50000 (51%)]\tLoss:0.058327\n"
     ]
    },
    {
     "name": "stderr",
     "output_type": "stream",
     "text": [
      " 54%|███████████████████████████████████████████▏                                    | 162/300 [45:46<37:32, 16.32s/it]"
     ]
    },
    {
     "name": "stdout",
     "output_type": "stream",
     "text": [
      "[162] Test Loss: 0.3013, Accuracy: 91.06%\n",
      "Train Epoch: 163 [0/50000 (0%)]\tLoss:0.069939\n",
      "Train Epoch: 163 [25600/50000 (51%)]\tLoss:0.051798\n"
     ]
    },
    {
     "name": "stderr",
     "output_type": "stream",
     "text": [
      " 54%|███████████████████████████████████████████▍                                    | 163/300 [46:03<37:15, 16.32s/it]"
     ]
    },
    {
     "name": "stdout",
     "output_type": "stream",
     "text": [
      "[163] Test Loss: 0.3036, Accuracy: 90.98%\n",
      "Train Epoch: 164 [0/50000 (0%)]\tLoss:0.069456\n",
      "Train Epoch: 164 [25600/50000 (51%)]\tLoss:0.059492\n"
     ]
    },
    {
     "name": "stderr",
     "output_type": "stream",
     "text": [
      " 55%|███████████████████████████████████████████▋                                    | 164/300 [46:19<36:59, 16.32s/it]"
     ]
    },
    {
     "name": "stdout",
     "output_type": "stream",
     "text": [
      "[164] Test Loss: 0.2999, Accuracy: 91.06%\n",
      "Train Epoch: 165 [0/50000 (0%)]\tLoss:0.044634\n",
      "Train Epoch: 165 [25600/50000 (51%)]\tLoss:0.030592\n"
     ]
    },
    {
     "name": "stderr",
     "output_type": "stream",
     "text": [
      " 55%|████████████████████████████████████████████                                    | 165/300 [46:35<36:42, 16.32s/it]"
     ]
    },
    {
     "name": "stdout",
     "output_type": "stream",
     "text": [
      "[165] Test Loss: 0.3038, Accuracy: 90.90%\n",
      "Train Epoch: 166 [0/50000 (0%)]\tLoss:0.048143\n",
      "Train Epoch: 166 [25600/50000 (51%)]\tLoss:0.067881\n"
     ]
    },
    {
     "name": "stderr",
     "output_type": "stream",
     "text": [
      " 55%|████████████████████████████████████████████▎                                   | 166/300 [46:52<36:26, 16.32s/it]"
     ]
    },
    {
     "name": "stdout",
     "output_type": "stream",
     "text": [
      "[166] Test Loss: 0.3033, Accuracy: 91.01%\n",
      "Train Epoch: 167 [0/50000 (0%)]\tLoss:0.066629\n",
      "Train Epoch: 167 [25600/50000 (51%)]\tLoss:0.057539\n"
     ]
    },
    {
     "name": "stderr",
     "output_type": "stream",
     "text": [
      " 56%|████████████████████████████████████████████▌                                   | 167/300 [47:08<36:10, 16.32s/it]"
     ]
    },
    {
     "name": "stdout",
     "output_type": "stream",
     "text": [
      "[167] Test Loss: 0.3026, Accuracy: 90.91%\n",
      "Train Epoch: 168 [0/50000 (0%)]\tLoss:0.067277\n",
      "Train Epoch: 168 [25600/50000 (51%)]\tLoss:0.055090\n"
     ]
    },
    {
     "name": "stderr",
     "output_type": "stream",
     "text": [
      " 56%|████████████████████████████████████████████▊                                   | 168/300 [47:24<35:56, 16.34s/it]"
     ]
    },
    {
     "name": "stdout",
     "output_type": "stream",
     "text": [
      "[168] Test Loss: 0.3050, Accuracy: 91.04%\n",
      "Train Epoch: 169 [0/50000 (0%)]\tLoss:0.101651\n",
      "Train Epoch: 169 [25600/50000 (51%)]\tLoss:0.033750\n"
     ]
    },
    {
     "name": "stderr",
     "output_type": "stream",
     "text": [
      " 56%|█████████████████████████████████████████████                                   | 169/300 [47:41<35:42, 16.35s/it]"
     ]
    },
    {
     "name": "stdout",
     "output_type": "stream",
     "text": [
      "[169] Test Loss: 0.3046, Accuracy: 90.99%\n",
      "Train Epoch: 170 [0/50000 (0%)]\tLoss:0.076213\n",
      "Train Epoch: 170 [25600/50000 (51%)]\tLoss:0.082095\n"
     ]
    },
    {
     "name": "stderr",
     "output_type": "stream",
     "text": [
      " 57%|█████████████████████████████████████████████▎                                  | 170/300 [47:57<35:25, 16.35s/it]"
     ]
    },
    {
     "name": "stdout",
     "output_type": "stream",
     "text": [
      "[170] Test Loss: 0.3029, Accuracy: 90.98%\n",
      "Train Epoch: 171 [0/50000 (0%)]\tLoss:0.049976\n",
      "Train Epoch: 171 [25600/50000 (51%)]\tLoss:0.052204\n"
     ]
    },
    {
     "name": "stderr",
     "output_type": "stream",
     "text": [
      " 57%|█████████████████████████████████████████████▌                                  | 171/300 [48:13<35:08, 16.35s/it]"
     ]
    },
    {
     "name": "stdout",
     "output_type": "stream",
     "text": [
      "[171] Test Loss: 0.3023, Accuracy: 90.96%\n",
      "Train Epoch: 172 [0/50000 (0%)]\tLoss:0.060536\n",
      "Train Epoch: 172 [25600/50000 (51%)]\tLoss:0.067276\n"
     ]
    },
    {
     "name": "stderr",
     "output_type": "stream",
     "text": [
      " 57%|█████████████████████████████████████████████▊                                  | 172/300 [48:30<34:52, 16.35s/it]"
     ]
    },
    {
     "name": "stdout",
     "output_type": "stream",
     "text": [
      "[172] Test Loss: 0.3019, Accuracy: 91.13%\n",
      "Train Epoch: 173 [0/50000 (0%)]\tLoss:0.086650\n",
      "Train Epoch: 173 [25600/50000 (51%)]\tLoss:0.048920\n"
     ]
    },
    {
     "name": "stderr",
     "output_type": "stream",
     "text": [
      " 58%|██████████████████████████████████████████████▏                                 | 173/300 [48:46<34:35, 16.34s/it]"
     ]
    },
    {
     "name": "stdout",
     "output_type": "stream",
     "text": [
      "[173] Test Loss: 0.3025, Accuracy: 90.95%\n",
      "Train Epoch: 174 [0/50000 (0%)]\tLoss:0.057366\n",
      "Train Epoch: 174 [25600/50000 (51%)]\tLoss:0.076077\n"
     ]
    },
    {
     "name": "stderr",
     "output_type": "stream",
     "text": [
      " 58%|██████████████████████████████████████████████▍                                 | 174/300 [49:02<34:20, 16.36s/it]"
     ]
    },
    {
     "name": "stdout",
     "output_type": "stream",
     "text": [
      "[174] Test Loss: 0.3036, Accuracy: 90.95%\n",
      "Train Epoch: 175 [0/50000 (0%)]\tLoss:0.062434\n",
      "Train Epoch: 175 [25600/50000 (51%)]\tLoss:0.052305\n"
     ]
    },
    {
     "name": "stderr",
     "output_type": "stream",
     "text": [
      " 58%|██████████████████████████████████████████████▋                                 | 175/300 [49:19<34:04, 16.35s/it]"
     ]
    },
    {
     "name": "stdout",
     "output_type": "stream",
     "text": [
      "[175] Test Loss: 0.3023, Accuracy: 91.07%\n",
      "Train Epoch: 176 [0/50000 (0%)]\tLoss:0.065509\n",
      "Train Epoch: 176 [25600/50000 (51%)]\tLoss:0.036082\n"
     ]
    },
    {
     "name": "stderr",
     "output_type": "stream",
     "text": [
      " 59%|██████████████████████████████████████████████▉                                 | 176/300 [49:35<33:47, 16.35s/it]"
     ]
    },
    {
     "name": "stdout",
     "output_type": "stream",
     "text": [
      "[176] Test Loss: 0.3020, Accuracy: 90.99%\n",
      "Train Epoch: 177 [0/50000 (0%)]\tLoss:0.053302\n",
      "Train Epoch: 177 [25600/50000 (51%)]\tLoss:0.056424\n"
     ]
    },
    {
     "name": "stderr",
     "output_type": "stream",
     "text": [
      " 59%|███████████████████████████████████████████████▏                                | 177/300 [49:52<33:31, 16.36s/it]"
     ]
    },
    {
     "name": "stdout",
     "output_type": "stream",
     "text": [
      "[177] Test Loss: 0.2999, Accuracy: 91.12%\n",
      "Train Epoch: 178 [0/50000 (0%)]\tLoss:0.068884\n",
      "Train Epoch: 178 [25600/50000 (51%)]\tLoss:0.075749\n"
     ]
    },
    {
     "name": "stderr",
     "output_type": "stream",
     "text": [
      " 59%|███████████████████████████████████████████████▍                                | 178/300 [50:08<33:14, 16.35s/it]"
     ]
    },
    {
     "name": "stdout",
     "output_type": "stream",
     "text": [
      "[178] Test Loss: 0.3027, Accuracy: 90.89%\n",
      "Train Epoch: 179 [0/50000 (0%)]\tLoss:0.064464\n",
      "Train Epoch: 179 [25600/50000 (51%)]\tLoss:0.059026\n"
     ]
    },
    {
     "name": "stderr",
     "output_type": "stream",
     "text": [
      " 60%|███████████████████████████████████████████████▋                                | 179/300 [50:24<32:56, 16.34s/it]"
     ]
    },
    {
     "name": "stdout",
     "output_type": "stream",
     "text": [
      "[179] Test Loss: 0.3029, Accuracy: 90.97%\n",
      "Train Epoch: 180 [0/50000 (0%)]\tLoss:0.031156\n",
      "Train Epoch: 180 [25600/50000 (51%)]\tLoss:0.031215\n"
     ]
    },
    {
     "name": "stderr",
     "output_type": "stream",
     "text": [
      " 60%|████████████████████████████████████████████████                                | 180/300 [50:41<32:40, 16.34s/it]"
     ]
    },
    {
     "name": "stdout",
     "output_type": "stream",
     "text": [
      "[180] Test Loss: 0.3007, Accuracy: 91.06%\n",
      "Train Epoch: 181 [0/50000 (0%)]\tLoss:0.034944\n",
      "Train Epoch: 181 [25600/50000 (51%)]\tLoss:0.062443\n"
     ]
    },
    {
     "name": "stderr",
     "output_type": "stream",
     "text": [
      " 60%|████████████████████████████████████████████████▎                               | 181/300 [50:57<32:24, 16.34s/it]"
     ]
    },
    {
     "name": "stdout",
     "output_type": "stream",
     "text": [
      "[181] Test Loss: 0.3018, Accuracy: 91.01%\n",
      "Train Epoch: 182 [0/50000 (0%)]\tLoss:0.069562\n",
      "Train Epoch: 182 [25600/50000 (51%)]\tLoss:0.038505\n"
     ]
    },
    {
     "name": "stderr",
     "output_type": "stream",
     "text": [
      " 61%|████████████████████████████████████████████████▌                               | 182/300 [51:13<32:08, 16.34s/it]"
     ]
    },
    {
     "name": "stdout",
     "output_type": "stream",
     "text": [
      "[182] Test Loss: 0.3052, Accuracy: 90.84%\n",
      "Train Epoch: 183 [0/50000 (0%)]\tLoss:0.058109\n",
      "Train Epoch: 183 [25600/50000 (51%)]\tLoss:0.026107\n"
     ]
    },
    {
     "name": "stderr",
     "output_type": "stream",
     "text": [
      " 61%|████████████████████████████████████████████████▊                               | 183/300 [51:30<31:51, 16.33s/it]"
     ]
    },
    {
     "name": "stdout",
     "output_type": "stream",
     "text": [
      "[183] Test Loss: 0.3014, Accuracy: 91.01%\n",
      "Train Epoch: 184 [0/50000 (0%)]\tLoss:0.048225\n",
      "Train Epoch: 184 [25600/50000 (51%)]\tLoss:0.098559\n"
     ]
    },
    {
     "name": "stderr",
     "output_type": "stream",
     "text": [
      " 61%|█████████████████████████████████████████████████                               | 184/300 [51:46<31:33, 16.32s/it]"
     ]
    },
    {
     "name": "stdout",
     "output_type": "stream",
     "text": [
      "[184] Test Loss: 0.3044, Accuracy: 91.06%\n",
      "Train Epoch: 185 [0/50000 (0%)]\tLoss:0.038440\n",
      "Train Epoch: 185 [25600/50000 (51%)]\tLoss:0.095713\n"
     ]
    },
    {
     "name": "stderr",
     "output_type": "stream",
     "text": [
      " 62%|█████████████████████████████████████████████████▎                              | 185/300 [52:02<31:18, 16.33s/it]"
     ]
    },
    {
     "name": "stdout",
     "output_type": "stream",
     "text": [
      "[185] Test Loss: 0.3032, Accuracy: 91.02%\n",
      "Train Epoch: 186 [0/50000 (0%)]\tLoss:0.062892\n",
      "Train Epoch: 186 [25600/50000 (51%)]\tLoss:0.075509\n"
     ]
    },
    {
     "name": "stderr",
     "output_type": "stream",
     "text": [
      " 62%|█████████████████████████████████████████████████▌                              | 186/300 [52:19<31:01, 16.33s/it]"
     ]
    },
    {
     "name": "stdout",
     "output_type": "stream",
     "text": [
      "[186] Test Loss: 0.3034, Accuracy: 90.96%\n",
      "Train Epoch: 187 [0/50000 (0%)]\tLoss:0.081637\n",
      "Train Epoch: 187 [25600/50000 (51%)]\tLoss:0.046218\n"
     ]
    },
    {
     "name": "stderr",
     "output_type": "stream",
     "text": [
      " 62%|█████████████████████████████████████████████████▊                              | 187/300 [52:35<30:45, 16.33s/it]"
     ]
    },
    {
     "name": "stdout",
     "output_type": "stream",
     "text": [
      "[187] Test Loss: 0.3024, Accuracy: 90.93%\n",
      "Train Epoch: 188 [0/50000 (0%)]\tLoss:0.094379\n",
      "Train Epoch: 188 [25600/50000 (51%)]\tLoss:0.062160\n"
     ]
    },
    {
     "name": "stderr",
     "output_type": "stream",
     "text": [
      " 63%|██████████████████████████████████████████████████▏                             | 188/300 [52:51<30:29, 16.33s/it]"
     ]
    },
    {
     "name": "stdout",
     "output_type": "stream",
     "text": [
      "[188] Test Loss: 0.3032, Accuracy: 91.11%\n",
      "Train Epoch: 189 [0/50000 (0%)]\tLoss:0.084781\n",
      "Train Epoch: 189 [25600/50000 (51%)]\tLoss:0.027163\n"
     ]
    },
    {
     "name": "stderr",
     "output_type": "stream",
     "text": [
      " 63%|██████████████████████████████████████████████████▍                             | 189/300 [53:08<30:14, 16.35s/it]"
     ]
    },
    {
     "name": "stdout",
     "output_type": "stream",
     "text": [
      "[189] Test Loss: 0.3050, Accuracy: 90.88%\n",
      "Train Epoch: 190 [0/50000 (0%)]\tLoss:0.045857\n",
      "Train Epoch: 190 [25600/50000 (51%)]\tLoss:0.034646\n"
     ]
    },
    {
     "name": "stderr",
     "output_type": "stream",
     "text": [
      " 63%|██████████████████████████████████████████████████▋                             | 190/300 [53:24<29:56, 16.33s/it]"
     ]
    },
    {
     "name": "stdout",
     "output_type": "stream",
     "text": [
      "[190] Test Loss: 0.3024, Accuracy: 91.05%\n",
      "Train Epoch: 191 [0/50000 (0%)]\tLoss:0.052915\n",
      "Train Epoch: 191 [25600/50000 (51%)]\tLoss:0.088419\n"
     ]
    },
    {
     "name": "stderr",
     "output_type": "stream",
     "text": [
      " 64%|██████████████████████████████████████████████████▉                             | 191/300 [53:40<29:40, 16.34s/it]"
     ]
    },
    {
     "name": "stdout",
     "output_type": "stream",
     "text": [
      "[191] Test Loss: 0.3028, Accuracy: 91.08%\n",
      "Train Epoch: 192 [0/50000 (0%)]\tLoss:0.074717\n",
      "Train Epoch: 192 [25600/50000 (51%)]\tLoss:0.053951\n"
     ]
    },
    {
     "name": "stderr",
     "output_type": "stream",
     "text": [
      " 64%|███████████████████████████████████████████████████▏                            | 192/300 [53:57<29:24, 16.34s/it]"
     ]
    },
    {
     "name": "stdout",
     "output_type": "stream",
     "text": [
      "[192] Test Loss: 0.3004, Accuracy: 91.06%\n",
      "Train Epoch: 193 [0/50000 (0%)]\tLoss:0.078987\n",
      "Train Epoch: 193 [25600/50000 (51%)]\tLoss:0.052592\n"
     ]
    },
    {
     "name": "stderr",
     "output_type": "stream",
     "text": [
      " 64%|███████████████████████████████████████████████████▍                            | 193/300 [54:13<29:08, 16.34s/it]"
     ]
    },
    {
     "name": "stdout",
     "output_type": "stream",
     "text": [
      "[193] Test Loss: 0.3023, Accuracy: 91.10%\n",
      "Train Epoch: 194 [0/50000 (0%)]\tLoss:0.081355\n",
      "Train Epoch: 194 [25600/50000 (51%)]\tLoss:0.055691\n"
     ]
    },
    {
     "name": "stderr",
     "output_type": "stream",
     "text": [
      " 65%|███████████████████████████████████████████████████▋                            | 194/300 [54:29<28:50, 16.33s/it]"
     ]
    },
    {
     "name": "stdout",
     "output_type": "stream",
     "text": [
      "[194] Test Loss: 0.3024, Accuracy: 90.91%\n",
      "Train Epoch: 195 [0/50000 (0%)]\tLoss:0.033198\n",
      "Train Epoch: 195 [25600/50000 (51%)]\tLoss:0.030161\n"
     ]
    },
    {
     "name": "stderr",
     "output_type": "stream",
     "text": [
      " 65%|████████████████████████████████████████████████████                            | 195/300 [54:46<28:35, 16.34s/it]"
     ]
    },
    {
     "name": "stdout",
     "output_type": "stream",
     "text": [
      "[195] Test Loss: 0.3033, Accuracy: 91.04%\n",
      "Train Epoch: 196 [0/50000 (0%)]\tLoss:0.065898\n",
      "Train Epoch: 196 [25600/50000 (51%)]\tLoss:0.057076\n"
     ]
    },
    {
     "name": "stderr",
     "output_type": "stream",
     "text": [
      " 65%|████████████████████████████████████████████████████▎                           | 196/300 [55:02<28:19, 16.34s/it]"
     ]
    },
    {
     "name": "stdout",
     "output_type": "stream",
     "text": [
      "[196] Test Loss: 0.3024, Accuracy: 90.94%\n",
      "Train Epoch: 197 [0/50000 (0%)]\tLoss:0.118810\n",
      "Train Epoch: 197 [25600/50000 (51%)]\tLoss:0.048517\n"
     ]
    },
    {
     "name": "stderr",
     "output_type": "stream",
     "text": [
      " 66%|████████████████████████████████████████████████████▌                           | 197/300 [55:18<28:04, 16.36s/it]"
     ]
    },
    {
     "name": "stdout",
     "output_type": "stream",
     "text": [
      "[197] Test Loss: 0.3029, Accuracy: 91.10%\n",
      "Train Epoch: 198 [0/50000 (0%)]\tLoss:0.070824\n",
      "Train Epoch: 198 [25600/50000 (51%)]\tLoss:0.057278\n"
     ]
    },
    {
     "name": "stderr",
     "output_type": "stream",
     "text": [
      " 66%|████████████████████████████████████████████████████▊                           | 198/300 [55:35<27:47, 16.35s/it]"
     ]
    },
    {
     "name": "stdout",
     "output_type": "stream",
     "text": [
      "[198] Test Loss: 0.3032, Accuracy: 91.08%\n",
      "Train Epoch: 199 [0/50000 (0%)]\tLoss:0.056073\n",
      "Train Epoch: 199 [25600/50000 (51%)]\tLoss:0.053953\n"
     ]
    },
    {
     "name": "stderr",
     "output_type": "stream",
     "text": [
      " 66%|█████████████████████████████████████████████████████                           | 199/300 [55:51<27:30, 16.34s/it]"
     ]
    },
    {
     "name": "stdout",
     "output_type": "stream",
     "text": [
      "[199] Test Loss: 0.3022, Accuracy: 91.04%\n",
      "Train Epoch: 200 [0/50000 (0%)]\tLoss:0.044293\n",
      "Train Epoch: 200 [25600/50000 (51%)]\tLoss:0.076395\n"
     ]
    },
    {
     "name": "stderr",
     "output_type": "stream",
     "text": [
      " 67%|█████████████████████████████████████████████████████▎                          | 200/300 [56:07<27:14, 16.34s/it]"
     ]
    },
    {
     "name": "stdout",
     "output_type": "stream",
     "text": [
      "[200] Test Loss: 0.3023, Accuracy: 90.98%\n",
      "Train Epoch: 201 [0/50000 (0%)]\tLoss:0.069044\n",
      "Train Epoch: 201 [25600/50000 (51%)]\tLoss:0.074407\n"
     ]
    },
    {
     "name": "stderr",
     "output_type": "stream",
     "text": [
      " 67%|█████████████████████████████████████████████████████▌                          | 201/300 [56:24<26:57, 16.34s/it]"
     ]
    },
    {
     "name": "stdout",
     "output_type": "stream",
     "text": [
      "[201] Test Loss: 0.3030, Accuracy: 91.00%\n",
      "Train Epoch: 202 [0/50000 (0%)]\tLoss:0.022247\n",
      "Train Epoch: 202 [25600/50000 (51%)]\tLoss:0.135983\n"
     ]
    },
    {
     "name": "stderr",
     "output_type": "stream",
     "text": [
      " 67%|█████████████████████████████████████████████████████▊                          | 202/300 [56:40<26:39, 16.32s/it]"
     ]
    },
    {
     "name": "stdout",
     "output_type": "stream",
     "text": [
      "[202] Test Loss: 0.3051, Accuracy: 91.10%\n",
      "Train Epoch: 203 [0/50000 (0%)]\tLoss:0.075775\n",
      "Train Epoch: 203 [25600/50000 (51%)]\tLoss:0.057375\n"
     ]
    },
    {
     "name": "stderr",
     "output_type": "stream",
     "text": [
      " 68%|██████████████████████████████████████████████████████▏                         | 203/300 [56:56<26:24, 16.33s/it]"
     ]
    },
    {
     "name": "stdout",
     "output_type": "stream",
     "text": [
      "[203] Test Loss: 0.3040, Accuracy: 90.89%\n",
      "Train Epoch: 204 [0/50000 (0%)]\tLoss:0.076062\n",
      "Train Epoch: 204 [25600/50000 (51%)]\tLoss:0.078747\n"
     ]
    },
    {
     "name": "stderr",
     "output_type": "stream",
     "text": [
      " 68%|██████████████████████████████████████████████████████▍                         | 204/300 [57:13<26:07, 16.33s/it]"
     ]
    },
    {
     "name": "stdout",
     "output_type": "stream",
     "text": [
      "[204] Test Loss: 0.3030, Accuracy: 91.12%\n",
      "Train Epoch: 205 [0/50000 (0%)]\tLoss:0.075750\n",
      "Train Epoch: 205 [25600/50000 (51%)]\tLoss:0.053702\n"
     ]
    },
    {
     "name": "stderr",
     "output_type": "stream",
     "text": [
      " 68%|██████████████████████████████████████████████████████▋                         | 205/300 [57:29<25:51, 16.34s/it]"
     ]
    },
    {
     "name": "stdout",
     "output_type": "stream",
     "text": [
      "[205] Test Loss: 0.3043, Accuracy: 91.04%\n",
      "Train Epoch: 206 [0/50000 (0%)]\tLoss:0.087881\n",
      "Train Epoch: 206 [25600/50000 (51%)]\tLoss:0.061903\n"
     ]
    },
    {
     "name": "stderr",
     "output_type": "stream",
     "text": [
      " 69%|██████████████████████████████████████████████████████▉                         | 206/300 [57:45<25:36, 16.35s/it]"
     ]
    },
    {
     "name": "stdout",
     "output_type": "stream",
     "text": [
      "[206] Test Loss: 0.3017, Accuracy: 90.95%\n",
      "Train Epoch: 207 [0/50000 (0%)]\tLoss:0.087361\n",
      "Train Epoch: 207 [25600/50000 (51%)]\tLoss:0.037088\n"
     ]
    },
    {
     "name": "stderr",
     "output_type": "stream",
     "text": [
      " 69%|███████████████████████████████████████████████████████▏                        | 207/300 [58:02<25:19, 16.34s/it]"
     ]
    },
    {
     "name": "stdout",
     "output_type": "stream",
     "text": [
      "[207] Test Loss: 0.3031, Accuracy: 90.96%\n",
      "Train Epoch: 208 [0/50000 (0%)]\tLoss:0.057519\n",
      "Train Epoch: 208 [25600/50000 (51%)]\tLoss:0.048275\n"
     ]
    },
    {
     "name": "stderr",
     "output_type": "stream",
     "text": [
      " 69%|███████████████████████████████████████████████████████▍                        | 208/300 [58:18<25:02, 16.33s/it]"
     ]
    },
    {
     "name": "stdout",
     "output_type": "stream",
     "text": [
      "[208] Test Loss: 0.3040, Accuracy: 91.13%\n",
      "Train Epoch: 209 [0/50000 (0%)]\tLoss:0.041322\n",
      "Train Epoch: 209 [25600/50000 (51%)]\tLoss:0.048534\n"
     ]
    },
    {
     "name": "stderr",
     "output_type": "stream",
     "text": [
      " 70%|███████████████████████████████████████████████████████▋                        | 209/300 [58:34<24:46, 16.34s/it]"
     ]
    },
    {
     "name": "stdout",
     "output_type": "stream",
     "text": [
      "[209] Test Loss: 0.3023, Accuracy: 91.01%\n",
      "Train Epoch: 210 [0/50000 (0%)]\tLoss:0.115104\n",
      "Train Epoch: 210 [25600/50000 (51%)]\tLoss:0.040543\n"
     ]
    },
    {
     "name": "stderr",
     "output_type": "stream",
     "text": [
      " 70%|████████████████████████████████████████████████████████                        | 210/300 [58:51<24:29, 16.33s/it]"
     ]
    },
    {
     "name": "stdout",
     "output_type": "stream",
     "text": [
      "[210] Test Loss: 0.3036, Accuracy: 91.15%\n",
      "Train Epoch: 211 [0/50000 (0%)]\tLoss:0.023499\n",
      "Train Epoch: 211 [25600/50000 (51%)]\tLoss:0.027617\n"
     ]
    },
    {
     "name": "stderr",
     "output_type": "stream",
     "text": [
      " 70%|████████████████████████████████████████████████████████▎                       | 211/300 [59:07<24:15, 16.35s/it]"
     ]
    },
    {
     "name": "stdout",
     "output_type": "stream",
     "text": [
      "[211] Test Loss: 0.3019, Accuracy: 91.15%\n",
      "Train Epoch: 212 [0/50000 (0%)]\tLoss:0.051160\n",
      "Train Epoch: 212 [25600/50000 (51%)]\tLoss:0.111771\n"
     ]
    },
    {
     "name": "stderr",
     "output_type": "stream",
     "text": [
      " 71%|████████████████████████████████████████████████████████▌                       | 212/300 [59:24<24:07, 16.45s/it]"
     ]
    },
    {
     "name": "stdout",
     "output_type": "stream",
     "text": [
      "[212] Test Loss: 0.3039, Accuracy: 91.10%\n",
      "Train Epoch: 213 [0/50000 (0%)]\tLoss:0.090238\n",
      "Train Epoch: 213 [25600/50000 (51%)]\tLoss:0.074791\n"
     ]
    },
    {
     "name": "stderr",
     "output_type": "stream",
     "text": [
      " 71%|████████████████████████████████████████████████████████▊                       | 213/300 [59:40<23:48, 16.42s/it]"
     ]
    },
    {
     "name": "stdout",
     "output_type": "stream",
     "text": [
      "[213] Test Loss: 0.3047, Accuracy: 90.99%\n",
      "Train Epoch: 214 [0/50000 (0%)]\tLoss:0.078347\n",
      "Train Epoch: 214 [25600/50000 (51%)]\tLoss:0.066823\n"
     ]
    },
    {
     "name": "stderr",
     "output_type": "stream",
     "text": [
      " 71%|█████████████████████████████████████████████████████████                       | 214/300 [59:56<23:32, 16.43s/it]"
     ]
    },
    {
     "name": "stdout",
     "output_type": "stream",
     "text": [
      "[214] Test Loss: 0.3025, Accuracy: 91.08%\n",
      "Train Epoch: 215 [0/50000 (0%)]\tLoss:0.053801\n",
      "Train Epoch: 215 [25600/50000 (51%)]\tLoss:0.059376\n"
     ]
    },
    {
     "name": "stderr",
     "output_type": "stream",
     "text": [
      " 72%|███████████████████████████████████████████████████████▉                      | 215/300 [1:00:13<23:21, 16.49s/it]"
     ]
    },
    {
     "name": "stdout",
     "output_type": "stream",
     "text": [
      "[215] Test Loss: 0.3034, Accuracy: 91.07%\n",
      "Train Epoch: 216 [0/50000 (0%)]\tLoss:0.045739\n",
      "Train Epoch: 216 [25600/50000 (51%)]\tLoss:0.076739\n"
     ]
    },
    {
     "name": "stderr",
     "output_type": "stream",
     "text": [
      " 72%|████████████████████████████████████████████████████████▏                     | 216/300 [1:00:30<23:03, 16.47s/it]"
     ]
    },
    {
     "name": "stdout",
     "output_type": "stream",
     "text": [
      "[216] Test Loss: 0.3040, Accuracy: 91.00%\n",
      "Train Epoch: 217 [0/50000 (0%)]\tLoss:0.036047\n",
      "Train Epoch: 217 [25600/50000 (51%)]\tLoss:0.058985\n"
     ]
    },
    {
     "name": "stderr",
     "output_type": "stream",
     "text": [
      " 72%|████████████████████████████████████████████████████████▍                     | 217/300 [1:00:46<22:42, 16.41s/it]"
     ]
    },
    {
     "name": "stdout",
     "output_type": "stream",
     "text": [
      "[217] Test Loss: 0.3046, Accuracy: 91.02%\n",
      "Train Epoch: 218 [0/50000 (0%)]\tLoss:0.040248\n",
      "Train Epoch: 218 [25600/50000 (51%)]\tLoss:0.052151\n"
     ]
    },
    {
     "name": "stderr",
     "output_type": "stream",
     "text": [
      " 73%|████████████████████████████████████████████████████████▋                     | 218/300 [1:01:02<22:23, 16.39s/it]"
     ]
    },
    {
     "name": "stdout",
     "output_type": "stream",
     "text": [
      "[218] Test Loss: 0.3038, Accuracy: 90.98%\n",
      "Train Epoch: 219 [0/50000 (0%)]\tLoss:0.027025\n",
      "Train Epoch: 219 [25600/50000 (51%)]\tLoss:0.073645\n"
     ]
    },
    {
     "name": "stderr",
     "output_type": "stream",
     "text": [
      " 73%|████████████████████████████████████████████████████████▉                     | 219/300 [1:01:18<22:05, 16.36s/it]"
     ]
    },
    {
     "name": "stdout",
     "output_type": "stream",
     "text": [
      "[219] Test Loss: 0.3045, Accuracy: 90.92%\n",
      "Train Epoch: 220 [0/50000 (0%)]\tLoss:0.063716\n",
      "Train Epoch: 220 [25600/50000 (51%)]\tLoss:0.051670\n"
     ]
    },
    {
     "name": "stderr",
     "output_type": "stream",
     "text": [
      " 73%|█████████████████████████████████████████████████████████▏                    | 220/300 [1:01:35<21:50, 16.38s/it]"
     ]
    },
    {
     "name": "stdout",
     "output_type": "stream",
     "text": [
      "[220] Test Loss: 0.3037, Accuracy: 91.05%\n",
      "Train Epoch: 221 [0/50000 (0%)]\tLoss:0.105477\n",
      "Train Epoch: 221 [25600/50000 (51%)]\tLoss:0.109762\n"
     ]
    },
    {
     "name": "stderr",
     "output_type": "stream",
     "text": [
      " 74%|█████████████████████████████████████████████████████████▍                    | 221/300 [1:01:51<21:34, 16.39s/it]"
     ]
    },
    {
     "name": "stdout",
     "output_type": "stream",
     "text": [
      "[221] Test Loss: 0.3026, Accuracy: 91.15%\n",
      "Train Epoch: 222 [0/50000 (0%)]\tLoss:0.055743\n",
      "Train Epoch: 222 [25600/50000 (51%)]\tLoss:0.061560\n"
     ]
    },
    {
     "name": "stderr",
     "output_type": "stream",
     "text": [
      " 74%|█████████████████████████████████████████████████████████▋                    | 222/300 [1:02:08<21:17, 16.38s/it]"
     ]
    },
    {
     "name": "stdout",
     "output_type": "stream",
     "text": [
      "[222] Test Loss: 0.3040, Accuracy: 90.91%\n",
      "Train Epoch: 223 [0/50000 (0%)]\tLoss:0.050051\n",
      "Train Epoch: 223 [25600/50000 (51%)]\tLoss:0.044918\n"
     ]
    },
    {
     "name": "stderr",
     "output_type": "stream",
     "text": [
      " 74%|█████████████████████████████████████████████████████████▉                    | 223/300 [1:02:24<20:59, 16.36s/it]"
     ]
    },
    {
     "name": "stdout",
     "output_type": "stream",
     "text": [
      "[223] Test Loss: 0.3068, Accuracy: 90.92%\n",
      "Train Epoch: 224 [0/50000 (0%)]\tLoss:0.049677\n",
      "Train Epoch: 224 [25600/50000 (51%)]\tLoss:0.097357\n"
     ]
    },
    {
     "name": "stderr",
     "output_type": "stream",
     "text": [
      " 75%|██████████████████████████████████████████████████████████▏                   | 224/300 [1:02:40<20:41, 16.34s/it]"
     ]
    },
    {
     "name": "stdout",
     "output_type": "stream",
     "text": [
      "[224] Test Loss: 0.3029, Accuracy: 91.13%\n",
      "Train Epoch: 225 [0/50000 (0%)]\tLoss:0.037445\n",
      "Train Epoch: 225 [25600/50000 (51%)]\tLoss:0.057105\n"
     ]
    },
    {
     "name": "stderr",
     "output_type": "stream",
     "text": [
      " 75%|██████████████████████████████████████████████████████████▌                   | 225/300 [1:02:57<20:26, 16.35s/it]"
     ]
    },
    {
     "name": "stdout",
     "output_type": "stream",
     "text": [
      "[225] Test Loss: 0.3031, Accuracy: 91.17%\n",
      "Train Epoch: 226 [0/50000 (0%)]\tLoss:0.043170\n",
      "Train Epoch: 226 [25600/50000 (51%)]\tLoss:0.047749\n"
     ]
    },
    {
     "name": "stderr",
     "output_type": "stream",
     "text": [
      " 75%|██████████████████████████████████████████████████████████▊                   | 226/300 [1:03:13<20:08, 16.34s/it]"
     ]
    },
    {
     "name": "stdout",
     "output_type": "stream",
     "text": [
      "[226] Test Loss: 0.3049, Accuracy: 90.93%\n",
      "Train Epoch: 227 [0/50000 (0%)]\tLoss:0.058133\n",
      "Train Epoch: 227 [25600/50000 (51%)]\tLoss:0.126983\n"
     ]
    },
    {
     "name": "stderr",
     "output_type": "stream",
     "text": [
      " 76%|███████████████████████████████████████████████████████████                   | 227/300 [1:03:29<19:52, 16.34s/it]"
     ]
    },
    {
     "name": "stdout",
     "output_type": "stream",
     "text": [
      "[227] Test Loss: 0.3023, Accuracy: 90.94%\n",
      "Train Epoch: 228 [0/50000 (0%)]\tLoss:0.065132\n",
      "Train Epoch: 228 [25600/50000 (51%)]\tLoss:0.058728\n"
     ]
    },
    {
     "name": "stderr",
     "output_type": "stream",
     "text": [
      " 76%|███████████████████████████████████████████████████████████▎                  | 228/300 [1:03:46<19:35, 16.32s/it]"
     ]
    },
    {
     "name": "stdout",
     "output_type": "stream",
     "text": [
      "[228] Test Loss: 0.3028, Accuracy: 91.05%\n",
      "Train Epoch: 229 [0/50000 (0%)]\tLoss:0.065967\n",
      "Train Epoch: 229 [25600/50000 (51%)]\tLoss:0.055767\n"
     ]
    },
    {
     "name": "stderr",
     "output_type": "stream",
     "text": [
      " 76%|███████████████████████████████████████████████████████████▌                  | 229/300 [1:04:02<19:18, 16.31s/it]"
     ]
    },
    {
     "name": "stdout",
     "output_type": "stream",
     "text": [
      "[229] Test Loss: 0.3033, Accuracy: 91.08%\n",
      "Train Epoch: 230 [0/50000 (0%)]\tLoss:0.044797\n",
      "Train Epoch: 230 [25600/50000 (51%)]\tLoss:0.105354\n"
     ]
    },
    {
     "name": "stderr",
     "output_type": "stream",
     "text": [
      " 77%|███████████████████████████████████████████████████████████▊                  | 230/300 [1:04:18<19:04, 16.34s/it]"
     ]
    },
    {
     "name": "stdout",
     "output_type": "stream",
     "text": [
      "[230] Test Loss: 0.3036, Accuracy: 91.06%\n",
      "Train Epoch: 231 [0/50000 (0%)]\tLoss:0.042753\n",
      "Train Epoch: 231 [25600/50000 (51%)]\tLoss:0.093193\n"
     ]
    },
    {
     "name": "stderr",
     "output_type": "stream",
     "text": [
      " 77%|████████████████████████████████████████████████████████████                  | 231/300 [1:04:35<18:54, 16.44s/it]"
     ]
    },
    {
     "name": "stdout",
     "output_type": "stream",
     "text": [
      "[231] Test Loss: 0.3044, Accuracy: 91.05%\n",
      "Train Epoch: 232 [0/50000 (0%)]\tLoss:0.054510\n",
      "Train Epoch: 232 [25600/50000 (51%)]\tLoss:0.052235\n"
     ]
    },
    {
     "name": "stderr",
     "output_type": "stream",
     "text": [
      " 77%|████████████████████████████████████████████████████████████▎                 | 232/300 [1:04:51<18:36, 16.42s/it]"
     ]
    },
    {
     "name": "stdout",
     "output_type": "stream",
     "text": [
      "[232] Test Loss: 0.3047, Accuracy: 91.04%\n",
      "Train Epoch: 233 [0/50000 (0%)]\tLoss:0.042442\n",
      "Train Epoch: 233 [25600/50000 (51%)]\tLoss:0.074617\n"
     ]
    },
    {
     "name": "stderr",
     "output_type": "stream",
     "text": [
      " 78%|████████████████████████████████████████████████████████████▌                 | 233/300 [1:05:08<18:18, 16.39s/it]"
     ]
    },
    {
     "name": "stdout",
     "output_type": "stream",
     "text": [
      "[233] Test Loss: 0.3036, Accuracy: 90.99%\n",
      "Train Epoch: 234 [0/50000 (0%)]\tLoss:0.051191\n",
      "Train Epoch: 234 [25600/50000 (51%)]\tLoss:0.088543\n"
     ]
    },
    {
     "name": "stderr",
     "output_type": "stream",
     "text": [
      " 78%|████████████████████████████████████████████████████████████▊                 | 234/300 [1:05:24<17:59, 16.36s/it]"
     ]
    },
    {
     "name": "stdout",
     "output_type": "stream",
     "text": [
      "[234] Test Loss: 0.3037, Accuracy: 90.84%\n",
      "Train Epoch: 235 [0/50000 (0%)]\tLoss:0.044097\n",
      "Train Epoch: 235 [25600/50000 (51%)]\tLoss:0.058130\n"
     ]
    },
    {
     "name": "stderr",
     "output_type": "stream",
     "text": [
      " 78%|█████████████████████████████████████████████████████████████                 | 235/300 [1:05:40<17:43, 16.36s/it]"
     ]
    },
    {
     "name": "stdout",
     "output_type": "stream",
     "text": [
      "[235] Test Loss: 0.3038, Accuracy: 91.02%\n",
      "Train Epoch: 236 [0/50000 (0%)]\tLoss:0.061592\n",
      "Train Epoch: 236 [25600/50000 (51%)]\tLoss:0.056764\n"
     ]
    },
    {
     "name": "stderr",
     "output_type": "stream",
     "text": [
      " 79%|█████████████████████████████████████████████████████████████▎                | 236/300 [1:05:57<17:27, 16.36s/it]"
     ]
    },
    {
     "name": "stdout",
     "output_type": "stream",
     "text": [
      "[236] Test Loss: 0.3024, Accuracy: 91.15%\n",
      "Train Epoch: 237 [0/50000 (0%)]\tLoss:0.050151\n",
      "Train Epoch: 237 [25600/50000 (51%)]\tLoss:0.037402\n"
     ]
    },
    {
     "name": "stderr",
     "output_type": "stream",
     "text": [
      " 79%|█████████████████████████████████████████████████████████████▌                | 237/300 [1:06:13<17:10, 16.36s/it]"
     ]
    },
    {
     "name": "stdout",
     "output_type": "stream",
     "text": [
      "[237] Test Loss: 0.3041, Accuracy: 91.10%\n",
      "Train Epoch: 238 [0/50000 (0%)]\tLoss:0.090838\n",
      "Train Epoch: 238 [25600/50000 (51%)]\tLoss:0.037042\n"
     ]
    },
    {
     "name": "stderr",
     "output_type": "stream",
     "text": [
      " 79%|█████████████████████████████████████████████████████████████▉                | 238/300 [1:06:29<16:54, 16.36s/it]"
     ]
    },
    {
     "name": "stdout",
     "output_type": "stream",
     "text": [
      "[238] Test Loss: 0.3061, Accuracy: 91.02%\n",
      "Train Epoch: 239 [0/50000 (0%)]\tLoss:0.110486\n",
      "Train Epoch: 239 [25600/50000 (51%)]\tLoss:0.046282\n"
     ]
    },
    {
     "name": "stderr",
     "output_type": "stream",
     "text": [
      " 80%|██████████████████████████████████████████████████████████████▏               | 239/300 [1:06:46<16:36, 16.34s/it]"
     ]
    },
    {
     "name": "stdout",
     "output_type": "stream",
     "text": [
      "[239] Test Loss: 0.3030, Accuracy: 90.88%\n",
      "Train Epoch: 240 [0/50000 (0%)]\tLoss:0.050324\n",
      "Train Epoch: 240 [25600/50000 (51%)]\tLoss:0.046546\n"
     ]
    },
    {
     "name": "stderr",
     "output_type": "stream",
     "text": [
      " 80%|██████████████████████████████████████████████████████████████▍               | 240/300 [1:07:02<16:20, 16.34s/it]"
     ]
    },
    {
     "name": "stdout",
     "output_type": "stream",
     "text": [
      "[240] Test Loss: 0.3031, Accuracy: 91.10%\n",
      "Train Epoch: 241 [0/50000 (0%)]\tLoss:0.072088\n",
      "Train Epoch: 241 [25600/50000 (51%)]\tLoss:0.046912\n"
     ]
    },
    {
     "name": "stderr",
     "output_type": "stream",
     "text": [
      " 80%|██████████████████████████████████████████████████████████████▋               | 241/300 [1:07:18<16:04, 16.35s/it]"
     ]
    },
    {
     "name": "stdout",
     "output_type": "stream",
     "text": [
      "[241] Test Loss: 0.3055, Accuracy: 91.04%\n",
      "Train Epoch: 242 [0/50000 (0%)]\tLoss:0.058533\n",
      "Train Epoch: 242 [25600/50000 (51%)]\tLoss:0.047299\n"
     ]
    },
    {
     "name": "stderr",
     "output_type": "stream",
     "text": [
      " 81%|██████████████████████████████████████████████████████████████▉               | 242/300 [1:07:35<15:48, 16.35s/it]"
     ]
    },
    {
     "name": "stdout",
     "output_type": "stream",
     "text": [
      "[242] Test Loss: 0.3029, Accuracy: 91.02%\n",
      "Train Epoch: 243 [0/50000 (0%)]\tLoss:0.044081\n",
      "Train Epoch: 243 [25600/50000 (51%)]\tLoss:0.072550\n"
     ]
    },
    {
     "name": "stderr",
     "output_type": "stream",
     "text": [
      " 81%|███████████████████████████████████████████████████████████████▏              | 243/300 [1:07:51<15:30, 16.33s/it]"
     ]
    },
    {
     "name": "stdout",
     "output_type": "stream",
     "text": [
      "[243] Test Loss: 0.3029, Accuracy: 91.10%\n",
      "Train Epoch: 244 [0/50000 (0%)]\tLoss:0.129694\n",
      "Train Epoch: 244 [25600/50000 (51%)]\tLoss:0.041312\n"
     ]
    },
    {
     "name": "stderr",
     "output_type": "stream",
     "text": [
      " 81%|███████████████████████████████████████████████████████████████▍              | 244/300 [1:08:07<15:13, 16.31s/it]"
     ]
    },
    {
     "name": "stdout",
     "output_type": "stream",
     "text": [
      "[244] Test Loss: 0.3022, Accuracy: 91.05%\n",
      "Train Epoch: 245 [0/50000 (0%)]\tLoss:0.101515\n",
      "Train Epoch: 245 [25600/50000 (51%)]\tLoss:0.103011\n"
     ]
    },
    {
     "name": "stderr",
     "output_type": "stream",
     "text": [
      " 82%|███████████████████████████████████████████████████████████████▋              | 245/300 [1:08:24<14:59, 16.36s/it]"
     ]
    },
    {
     "name": "stdout",
     "output_type": "stream",
     "text": [
      "[245] Test Loss: 0.3036, Accuracy: 91.02%\n",
      "Train Epoch: 246 [0/50000 (0%)]\tLoss:0.043792\n",
      "Train Epoch: 246 [25600/50000 (51%)]\tLoss:0.046668\n"
     ]
    },
    {
     "name": "stderr",
     "output_type": "stream",
     "text": [
      " 82%|███████████████████████████████████████████████████████████████▉              | 246/300 [1:08:40<14:43, 16.35s/it]"
     ]
    },
    {
     "name": "stdout",
     "output_type": "stream",
     "text": [
      "[246] Test Loss: 0.3051, Accuracy: 91.12%\n",
      "Train Epoch: 247 [0/50000 (0%)]\tLoss:0.074371\n",
      "Train Epoch: 247 [25600/50000 (51%)]\tLoss:0.056668\n"
     ]
    },
    {
     "name": "stderr",
     "output_type": "stream",
     "text": [
      " 82%|████████████████████████████████████████████████████████████████▏             | 247/300 [1:08:56<14:26, 16.35s/it]"
     ]
    },
    {
     "name": "stdout",
     "output_type": "stream",
     "text": [
      "[247] Test Loss: 0.3051, Accuracy: 90.89%\n",
      "Train Epoch: 248 [0/50000 (0%)]\tLoss:0.064799\n",
      "Train Epoch: 248 [25600/50000 (51%)]\tLoss:0.030490\n"
     ]
    },
    {
     "name": "stderr",
     "output_type": "stream",
     "text": [
      " 83%|████████████████████████████████████████████████████████████████▍             | 248/300 [1:09:13<14:10, 16.36s/it]"
     ]
    },
    {
     "name": "stdout",
     "output_type": "stream",
     "text": [
      "[248] Test Loss: 0.3036, Accuracy: 90.98%\n",
      "Train Epoch: 249 [0/50000 (0%)]\tLoss:0.083817\n",
      "Train Epoch: 249 [25600/50000 (51%)]\tLoss:0.073572\n"
     ]
    },
    {
     "name": "stderr",
     "output_type": "stream",
     "text": [
      " 83%|████████████████████████████████████████████████████████████████▋             | 249/300 [1:09:29<13:54, 16.35s/it]"
     ]
    },
    {
     "name": "stdout",
     "output_type": "stream",
     "text": [
      "[249] Test Loss: 0.3029, Accuracy: 90.94%\n",
      "Train Epoch: 250 [0/50000 (0%)]\tLoss:0.061931\n",
      "Train Epoch: 250 [25600/50000 (51%)]\tLoss:0.072943\n"
     ]
    },
    {
     "name": "stderr",
     "output_type": "stream",
     "text": [
      " 83%|█████████████████████████████████████████████████████████████████             | 250/300 [1:09:45<13:37, 16.35s/it]"
     ]
    },
    {
     "name": "stdout",
     "output_type": "stream",
     "text": [
      "[250] Test Loss: 0.3031, Accuracy: 91.02%\n",
      "Train Epoch: 251 [0/50000 (0%)]\tLoss:0.041349\n",
      "Train Epoch: 251 [25600/50000 (51%)]\tLoss:0.131015\n"
     ]
    },
    {
     "name": "stderr",
     "output_type": "stream",
     "text": [
      " 84%|█████████████████████████████████████████████████████████████████▎            | 251/300 [1:10:02<13:20, 16.34s/it]"
     ]
    },
    {
     "name": "stdout",
     "output_type": "stream",
     "text": [
      "[251] Test Loss: 0.3026, Accuracy: 90.92%\n",
      "Train Epoch: 252 [0/50000 (0%)]\tLoss:0.030098\n",
      "Train Epoch: 252 [25600/50000 (51%)]\tLoss:0.056545\n"
     ]
    },
    {
     "name": "stderr",
     "output_type": "stream",
     "text": [
      " 84%|█████████████████████████████████████████████████████████████████▌            | 252/300 [1:10:18<13:04, 16.35s/it]"
     ]
    },
    {
     "name": "stdout",
     "output_type": "stream",
     "text": [
      "[252] Test Loss: 0.3025, Accuracy: 91.00%\n",
      "Train Epoch: 253 [0/50000 (0%)]\tLoss:0.048614\n",
      "Train Epoch: 253 [25600/50000 (51%)]\tLoss:0.048376\n"
     ]
    },
    {
     "name": "stderr",
     "output_type": "stream",
     "text": [
      " 84%|█████████████████████████████████████████████████████████████████▊            | 253/300 [1:10:35<12:48, 16.36s/it]"
     ]
    },
    {
     "name": "stdout",
     "output_type": "stream",
     "text": [
      "[253] Test Loss: 0.3018, Accuracy: 91.03%\n",
      "Train Epoch: 254 [0/50000 (0%)]\tLoss:0.036506\n",
      "Train Epoch: 254 [25600/50000 (51%)]\tLoss:0.060884\n"
     ]
    },
    {
     "name": "stderr",
     "output_type": "stream",
     "text": [
      " 85%|██████████████████████████████████████████████████████████████████            | 254/300 [1:10:51<12:32, 16.35s/it]"
     ]
    },
    {
     "name": "stdout",
     "output_type": "stream",
     "text": [
      "[254] Test Loss: 0.3019, Accuracy: 91.02%\n",
      "Train Epoch: 255 [0/50000 (0%)]\tLoss:0.057823\n",
      "Train Epoch: 255 [25600/50000 (51%)]\tLoss:0.077375\n"
     ]
    },
    {
     "name": "stderr",
     "output_type": "stream",
     "text": [
      " 85%|██████████████████████████████████████████████████████████████████▎           | 255/300 [1:11:07<12:16, 16.36s/it]"
     ]
    },
    {
     "name": "stdout",
     "output_type": "stream",
     "text": [
      "[255] Test Loss: 0.3036, Accuracy: 91.04%\n",
      "Train Epoch: 256 [0/50000 (0%)]\tLoss:0.055434\n",
      "Train Epoch: 256 [25600/50000 (51%)]\tLoss:0.049498\n"
     ]
    },
    {
     "name": "stderr",
     "output_type": "stream",
     "text": [
      " 85%|██████████████████████████████████████████████████████████████████▌           | 256/300 [1:11:24<12:00, 16.36s/it]"
     ]
    },
    {
     "name": "stdout",
     "output_type": "stream",
     "text": [
      "[256] Test Loss: 0.3030, Accuracy: 91.00%\n",
      "Train Epoch: 257 [0/50000 (0%)]\tLoss:0.080447\n",
      "Train Epoch: 257 [25600/50000 (51%)]\tLoss:0.099034\n"
     ]
    },
    {
     "name": "stderr",
     "output_type": "stream",
     "text": [
      " 86%|██████████████████████████████████████████████████████████████████▊           | 257/300 [1:11:40<11:43, 16.36s/it]"
     ]
    },
    {
     "name": "stdout",
     "output_type": "stream",
     "text": [
      "[257] Test Loss: 0.3044, Accuracy: 91.00%\n",
      "Train Epoch: 258 [0/50000 (0%)]\tLoss:0.095914\n",
      "Train Epoch: 258 [25600/50000 (51%)]\tLoss:0.061325\n"
     ]
    },
    {
     "name": "stderr",
     "output_type": "stream",
     "text": [
      " 86%|███████████████████████████████████████████████████████████████████           | 258/300 [1:11:56<11:26, 16.35s/it]"
     ]
    },
    {
     "name": "stdout",
     "output_type": "stream",
     "text": [
      "[258] Test Loss: 0.3041, Accuracy: 90.86%\n",
      "Train Epoch: 259 [0/50000 (0%)]\tLoss:0.048397\n",
      "Train Epoch: 259 [25600/50000 (51%)]\tLoss:0.034477\n"
     ]
    },
    {
     "name": "stderr",
     "output_type": "stream",
     "text": [
      " 86%|███████████████████████████████████████████████████████████████████▎          | 259/300 [1:12:13<11:10, 16.34s/it]"
     ]
    },
    {
     "name": "stdout",
     "output_type": "stream",
     "text": [
      "[259] Test Loss: 0.3027, Accuracy: 91.03%\n",
      "Train Epoch: 260 [0/50000 (0%)]\tLoss:0.066621\n",
      "Train Epoch: 260 [25600/50000 (51%)]\tLoss:0.043971\n"
     ]
    },
    {
     "name": "stderr",
     "output_type": "stream",
     "text": [
      " 87%|███████████████████████████████████████████████████████████████████▌          | 260/300 [1:12:29<10:54, 16.36s/it]"
     ]
    },
    {
     "name": "stdout",
     "output_type": "stream",
     "text": [
      "[260] Test Loss: 0.3026, Accuracy: 91.07%\n",
      "Train Epoch: 261 [0/50000 (0%)]\tLoss:0.092084\n",
      "Train Epoch: 261 [25600/50000 (51%)]\tLoss:0.050737\n"
     ]
    },
    {
     "name": "stderr",
     "output_type": "stream",
     "text": [
      " 87%|███████████████████████████████████████████████████████████████████▊          | 261/300 [1:12:45<10:38, 16.37s/it]"
     ]
    },
    {
     "name": "stdout",
     "output_type": "stream",
     "text": [
      "[261] Test Loss: 0.3051, Accuracy: 91.04%\n",
      "Train Epoch: 262 [0/50000 (0%)]\tLoss:0.047510\n",
      "Train Epoch: 262 [25600/50000 (51%)]\tLoss:0.072661\n"
     ]
    },
    {
     "name": "stderr",
     "output_type": "stream",
     "text": [
      " 87%|████████████████████████████████████████████████████████████████████          | 262/300 [1:13:02<10:23, 16.40s/it]"
     ]
    },
    {
     "name": "stdout",
     "output_type": "stream",
     "text": [
      "[262] Test Loss: 0.3032, Accuracy: 91.08%\n",
      "Train Epoch: 263 [0/50000 (0%)]\tLoss:0.063122\n",
      "Train Epoch: 263 [25600/50000 (51%)]\tLoss:0.052602\n"
     ]
    },
    {
     "name": "stderr",
     "output_type": "stream",
     "text": [
      " 88%|████████████████████████████████████████████████████████████████████▍         | 263/300 [1:13:18<10:05, 16.38s/it]"
     ]
    },
    {
     "name": "stdout",
     "output_type": "stream",
     "text": [
      "[263] Test Loss: 0.3047, Accuracy: 90.97%\n",
      "Train Epoch: 264 [0/50000 (0%)]\tLoss:0.053165\n",
      "Train Epoch: 264 [25600/50000 (51%)]\tLoss:0.025427\n"
     ]
    },
    {
     "name": "stderr",
     "output_type": "stream",
     "text": [
      " 88%|████████████████████████████████████████████████████████████████████▋         | 264/300 [1:13:35<09:49, 16.36s/it]"
     ]
    },
    {
     "name": "stdout",
     "output_type": "stream",
     "text": [
      "[264] Test Loss: 0.3031, Accuracy: 91.11%\n",
      "Train Epoch: 265 [0/50000 (0%)]\tLoss:0.082225\n",
      "Train Epoch: 265 [25600/50000 (51%)]\tLoss:0.063666\n"
     ]
    },
    {
     "name": "stderr",
     "output_type": "stream",
     "text": [
      " 88%|████████████████████████████████████████████████████████████████████▉         | 265/300 [1:13:51<09:32, 16.35s/it]"
     ]
    },
    {
     "name": "stdout",
     "output_type": "stream",
     "text": [
      "[265] Test Loss: 0.3035, Accuracy: 90.98%\n",
      "Train Epoch: 266 [0/50000 (0%)]\tLoss:0.065407\n",
      "Train Epoch: 266 [25600/50000 (51%)]\tLoss:0.079236\n"
     ]
    },
    {
     "name": "stderr",
     "output_type": "stream",
     "text": [
      " 89%|█████████████████████████████████████████████████████████████████████▏        | 266/300 [1:14:07<09:15, 16.35s/it]"
     ]
    },
    {
     "name": "stdout",
     "output_type": "stream",
     "text": [
      "[266] Test Loss: 0.3012, Accuracy: 91.15%\n",
      "Train Epoch: 267 [0/50000 (0%)]\tLoss:0.063314\n",
      "Train Epoch: 267 [25600/50000 (51%)]\tLoss:0.065552\n"
     ]
    },
    {
     "name": "stderr",
     "output_type": "stream",
     "text": [
      " 89%|█████████████████████████████████████████████████████████████████████▍        | 267/300 [1:14:24<08:59, 16.35s/it]"
     ]
    },
    {
     "name": "stdout",
     "output_type": "stream",
     "text": [
      "[267] Test Loss: 0.3033, Accuracy: 91.09%\n",
      "Train Epoch: 268 [0/50000 (0%)]\tLoss:0.032018\n",
      "Train Epoch: 268 [25600/50000 (51%)]\tLoss:0.064368\n"
     ]
    },
    {
     "name": "stderr",
     "output_type": "stream",
     "text": [
      " 89%|█████████████████████████████████████████████████████████████████████▋        | 268/300 [1:14:40<08:43, 16.35s/it]"
     ]
    },
    {
     "name": "stdout",
     "output_type": "stream",
     "text": [
      "[268] Test Loss: 0.3037, Accuracy: 91.02%\n",
      "Train Epoch: 269 [0/50000 (0%)]\tLoss:0.048926\n",
      "Train Epoch: 269 [25600/50000 (51%)]\tLoss:0.076415\n"
     ]
    },
    {
     "name": "stderr",
     "output_type": "stream",
     "text": [
      " 90%|█████████████████████████████████████████████████████████████████████▉        | 269/300 [1:14:56<08:26, 16.35s/it]"
     ]
    },
    {
     "name": "stdout",
     "output_type": "stream",
     "text": [
      "[269] Test Loss: 0.3028, Accuracy: 91.03%\n",
      "Train Epoch: 270 [0/50000 (0%)]\tLoss:0.040640\n",
      "Train Epoch: 270 [25600/50000 (51%)]\tLoss:0.053968\n"
     ]
    },
    {
     "name": "stderr",
     "output_type": "stream",
     "text": [
      " 90%|██████████████████████████████████████████████████████████████████████▏       | 270/300 [1:15:13<08:10, 16.35s/it]"
     ]
    },
    {
     "name": "stdout",
     "output_type": "stream",
     "text": [
      "[270] Test Loss: 0.3064, Accuracy: 90.84%\n",
      "Train Epoch: 271 [0/50000 (0%)]\tLoss:0.154758\n",
      "Train Epoch: 271 [25600/50000 (51%)]\tLoss:0.032596\n"
     ]
    },
    {
     "name": "stderr",
     "output_type": "stream",
     "text": [
      " 90%|██████████████████████████████████████████████████████████████████████▍       | 271/300 [1:15:29<07:53, 16.33s/it]"
     ]
    },
    {
     "name": "stdout",
     "output_type": "stream",
     "text": [
      "[271] Test Loss: 0.3020, Accuracy: 91.03%\n",
      "Train Epoch: 272 [0/50000 (0%)]\tLoss:0.041648\n",
      "Train Epoch: 272 [25600/50000 (51%)]\tLoss:0.067930\n"
     ]
    },
    {
     "name": "stderr",
     "output_type": "stream",
     "text": [
      " 91%|██████████████████████████████████████████████████████████████████████▋       | 272/300 [1:15:45<07:37, 16.34s/it]"
     ]
    },
    {
     "name": "stdout",
     "output_type": "stream",
     "text": [
      "[272] Test Loss: 0.3046, Accuracy: 91.03%\n",
      "Train Epoch: 273 [0/50000 (0%)]\tLoss:0.152331\n",
      "Train Epoch: 273 [25600/50000 (51%)]\tLoss:0.077214\n"
     ]
    },
    {
     "name": "stderr",
     "output_type": "stream",
     "text": [
      " 91%|██████████████████████████████████████████████████████████████████████▉       | 273/300 [1:16:02<07:21, 16.35s/it]"
     ]
    },
    {
     "name": "stdout",
     "output_type": "stream",
     "text": [
      "[273] Test Loss: 0.3006, Accuracy: 91.01%\n",
      "Train Epoch: 274 [0/50000 (0%)]\tLoss:0.037897\n",
      "Train Epoch: 274 [25600/50000 (51%)]\tLoss:0.050994\n"
     ]
    },
    {
     "name": "stderr",
     "output_type": "stream",
     "text": [
      " 91%|███████████████████████████████████████████████████████████████████████▏      | 274/300 [1:16:18<07:05, 16.35s/it]"
     ]
    },
    {
     "name": "stdout",
     "output_type": "stream",
     "text": [
      "[274] Test Loss: 0.3020, Accuracy: 91.14%\n",
      "Train Epoch: 275 [0/50000 (0%)]\tLoss:0.075704\n",
      "Train Epoch: 275 [25600/50000 (51%)]\tLoss:0.087237\n"
     ]
    },
    {
     "name": "stderr",
     "output_type": "stream",
     "text": [
      " 92%|███████████████████████████████████████████████████████████████████████▌      | 275/300 [1:16:34<06:48, 16.33s/it]"
     ]
    },
    {
     "name": "stdout",
     "output_type": "stream",
     "text": [
      "[275] Test Loss: 0.3032, Accuracy: 90.93%\n",
      "Train Epoch: 276 [0/50000 (0%)]\tLoss:0.075941\n",
      "Train Epoch: 276 [25600/50000 (51%)]\tLoss:0.064308\n"
     ]
    },
    {
     "name": "stderr",
     "output_type": "stream",
     "text": [
      " 92%|███████████████████████████████████████████████████████████████████████▊      | 276/300 [1:16:51<06:31, 16.32s/it]"
     ]
    },
    {
     "name": "stdout",
     "output_type": "stream",
     "text": [
      "[276] Test Loss: 0.3045, Accuracy: 90.90%\n",
      "Train Epoch: 277 [0/50000 (0%)]\tLoss:0.061808\n",
      "Train Epoch: 277 [25600/50000 (51%)]\tLoss:0.072044\n"
     ]
    },
    {
     "name": "stderr",
     "output_type": "stream",
     "text": [
      " 92%|████████████████████████████████████████████████████████████████████████      | 277/300 [1:17:07<06:15, 16.33s/it]"
     ]
    },
    {
     "name": "stdout",
     "output_type": "stream",
     "text": [
      "[277] Test Loss: 0.3035, Accuracy: 91.07%\n",
      "Train Epoch: 278 [0/50000 (0%)]\tLoss:0.073935\n",
      "Train Epoch: 278 [25600/50000 (51%)]\tLoss:0.083810\n"
     ]
    },
    {
     "name": "stderr",
     "output_type": "stream",
     "text": [
      " 93%|████████████████████████████████████████████████████████████████████████▎     | 278/300 [1:17:23<05:59, 16.34s/it]"
     ]
    },
    {
     "name": "stdout",
     "output_type": "stream",
     "text": [
      "[278] Test Loss: 0.3030, Accuracy: 91.11%\n",
      "Train Epoch: 279 [0/50000 (0%)]\tLoss:0.060040\n",
      "Train Epoch: 279 [25600/50000 (51%)]\tLoss:0.079929\n"
     ]
    },
    {
     "name": "stderr",
     "output_type": "stream",
     "text": [
      " 93%|████████████████████████████████████████████████████████████████████████▌     | 279/300 [1:17:40<05:43, 16.34s/it]"
     ]
    },
    {
     "name": "stdout",
     "output_type": "stream",
     "text": [
      "[279] Test Loss: 0.3044, Accuracy: 90.96%\n",
      "Train Epoch: 280 [0/50000 (0%)]\tLoss:0.068671\n",
      "Train Epoch: 280 [25600/50000 (51%)]\tLoss:0.067582\n"
     ]
    },
    {
     "name": "stderr",
     "output_type": "stream",
     "text": [
      " 93%|████████████████████████████████████████████████████████████████████████▊     | 280/300 [1:17:56<05:27, 16.35s/it]"
     ]
    },
    {
     "name": "stdout",
     "output_type": "stream",
     "text": [
      "[280] Test Loss: 0.3059, Accuracy: 90.91%\n",
      "Train Epoch: 281 [0/50000 (0%)]\tLoss:0.056690\n",
      "Train Epoch: 281 [25600/50000 (51%)]\tLoss:0.064201\n"
     ]
    },
    {
     "name": "stderr",
     "output_type": "stream",
     "text": [
      " 94%|█████████████████████████████████████████████████████████████████████████     | 281/300 [1:18:12<05:11, 16.39s/it]"
     ]
    },
    {
     "name": "stdout",
     "output_type": "stream",
     "text": [
      "[281] Test Loss: 0.3028, Accuracy: 91.06%\n",
      "Train Epoch: 282 [0/50000 (0%)]\tLoss:0.046689\n",
      "Train Epoch: 282 [25600/50000 (51%)]\tLoss:0.061492\n"
     ]
    },
    {
     "name": "stderr",
     "output_type": "stream",
     "text": [
      " 94%|█████████████████████████████████████████████████████████████████████████▎    | 282/300 [1:18:29<04:54, 16.37s/it]"
     ]
    },
    {
     "name": "stdout",
     "output_type": "stream",
     "text": [
      "[282] Test Loss: 0.3025, Accuracy: 90.95%\n",
      "Train Epoch: 283 [0/50000 (0%)]\tLoss:0.091475\n",
      "Train Epoch: 283 [25600/50000 (51%)]\tLoss:0.085969\n"
     ]
    },
    {
     "name": "stderr",
     "output_type": "stream",
     "text": [
      " 94%|█████████████████████████████████████████████████████████████████████████▌    | 283/300 [1:18:45<04:38, 16.36s/it]"
     ]
    },
    {
     "name": "stdout",
     "output_type": "stream",
     "text": [
      "[283] Test Loss: 0.3052, Accuracy: 91.06%\n",
      "Train Epoch: 284 [0/50000 (0%)]\tLoss:0.105707\n",
      "Train Epoch: 284 [25600/50000 (51%)]\tLoss:0.059719\n"
     ]
    },
    {
     "name": "stderr",
     "output_type": "stream",
     "text": [
      " 95%|█████████████████████████████████████████████████████████████████████████▊    | 284/300 [1:19:02<04:21, 16.36s/it]"
     ]
    },
    {
     "name": "stdout",
     "output_type": "stream",
     "text": [
      "[284] Test Loss: 0.3028, Accuracy: 91.12%\n",
      "Train Epoch: 285 [0/50000 (0%)]\tLoss:0.073437\n",
      "Train Epoch: 285 [25600/50000 (51%)]\tLoss:0.055049\n"
     ]
    },
    {
     "name": "stderr",
     "output_type": "stream",
     "text": [
      " 95%|██████████████████████████████████████████████████████████████████████████    | 285/300 [1:19:18<04:05, 16.35s/it]"
     ]
    },
    {
     "name": "stdout",
     "output_type": "stream",
     "text": [
      "[285] Test Loss: 0.3028, Accuracy: 91.05%\n",
      "Train Epoch: 286 [0/50000 (0%)]\tLoss:0.057628\n",
      "Train Epoch: 286 [25600/50000 (51%)]\tLoss:0.057857\n"
     ]
    },
    {
     "name": "stderr",
     "output_type": "stream",
     "text": [
      " 95%|██████████████████████████████████████████████████████████████████████████▎   | 286/300 [1:19:34<03:48, 16.34s/it]"
     ]
    },
    {
     "name": "stdout",
     "output_type": "stream",
     "text": [
      "[286] Test Loss: 0.3028, Accuracy: 91.02%\n",
      "Train Epoch: 287 [0/50000 (0%)]\tLoss:0.049480\n",
      "Train Epoch: 287 [25600/50000 (51%)]\tLoss:0.056507\n"
     ]
    },
    {
     "name": "stderr",
     "output_type": "stream",
     "text": [
      " 96%|██████████████████████████████████████████████████████████████████████████▌   | 287/300 [1:19:51<03:32, 16.35s/it]"
     ]
    },
    {
     "name": "stdout",
     "output_type": "stream",
     "text": [
      "[287] Test Loss: 0.3029, Accuracy: 91.14%\n",
      "Train Epoch: 288 [0/50000 (0%)]\tLoss:0.068951\n",
      "Train Epoch: 288 [25600/50000 (51%)]\tLoss:0.055662\n"
     ]
    },
    {
     "name": "stderr",
     "output_type": "stream",
     "text": [
      " 96%|██████████████████████████████████████████████████████████████████████████▉   | 288/300 [1:20:07<03:16, 16.34s/it]"
     ]
    },
    {
     "name": "stdout",
     "output_type": "stream",
     "text": [
      "[288] Test Loss: 0.3043, Accuracy: 90.97%\n",
      "Train Epoch: 289 [0/50000 (0%)]\tLoss:0.043409\n",
      "Train Epoch: 289 [25600/50000 (51%)]\tLoss:0.074173\n"
     ]
    },
    {
     "name": "stderr",
     "output_type": "stream",
     "text": [
      " 96%|███████████████████████████████████████████████████████████████████████████▏  | 289/300 [1:20:23<02:59, 16.32s/it]"
     ]
    },
    {
     "name": "stdout",
     "output_type": "stream",
     "text": [
      "[289] Test Loss: 0.3019, Accuracy: 91.02%\n",
      "Train Epoch: 290 [0/50000 (0%)]\tLoss:0.066633\n",
      "Train Epoch: 290 [25600/50000 (51%)]\tLoss:0.064424\n"
     ]
    },
    {
     "name": "stderr",
     "output_type": "stream",
     "text": [
      " 97%|███████████████████████████████████████████████████████████████████████████▍  | 290/300 [1:20:39<02:43, 16.32s/it]"
     ]
    },
    {
     "name": "stdout",
     "output_type": "stream",
     "text": [
      "[290] Test Loss: 0.3034, Accuracy: 90.93%\n",
      "Train Epoch: 291 [0/50000 (0%)]\tLoss:0.038753\n",
      "Train Epoch: 291 [25600/50000 (51%)]\tLoss:0.070431\n"
     ]
    },
    {
     "name": "stderr",
     "output_type": "stream",
     "text": [
      " 97%|███████████████████████████████████████████████████████████████████████████▋  | 291/300 [1:20:56<02:26, 16.32s/it]"
     ]
    },
    {
     "name": "stdout",
     "output_type": "stream",
     "text": [
      "[291] Test Loss: 0.3016, Accuracy: 91.02%\n",
      "Train Epoch: 292 [0/50000 (0%)]\tLoss:0.070115\n",
      "Train Epoch: 292 [25600/50000 (51%)]\tLoss:0.069418\n"
     ]
    },
    {
     "name": "stderr",
     "output_type": "stream",
     "text": [
      " 97%|███████████████████████████████████████████████████████████████████████████▉  | 292/300 [1:21:12<02:10, 16.32s/it]"
     ]
    },
    {
     "name": "stdout",
     "output_type": "stream",
     "text": [
      "[292] Test Loss: 0.3047, Accuracy: 90.87%\n",
      "Train Epoch: 293 [0/50000 (0%)]\tLoss:0.055827\n",
      "Train Epoch: 293 [25600/50000 (51%)]\tLoss:0.085480\n"
     ]
    },
    {
     "name": "stderr",
     "output_type": "stream",
     "text": [
      " 98%|████████████████████████████████████████████████████████████████████████████▏ | 293/300 [1:21:28<01:54, 16.32s/it]"
     ]
    },
    {
     "name": "stdout",
     "output_type": "stream",
     "text": [
      "[293] Test Loss: 0.3030, Accuracy: 91.14%\n",
      "Train Epoch: 294 [0/50000 (0%)]\tLoss:0.053976\n",
      "Train Epoch: 294 [25600/50000 (51%)]\tLoss:0.069084\n"
     ]
    },
    {
     "name": "stderr",
     "output_type": "stream",
     "text": [
      " 98%|████████████████████████████████████████████████████████████████████████████▍ | 294/300 [1:21:45<01:37, 16.31s/it]"
     ]
    },
    {
     "name": "stdout",
     "output_type": "stream",
     "text": [
      "[294] Test Loss: 0.3024, Accuracy: 91.15%\n",
      "Train Epoch: 295 [0/50000 (0%)]\tLoss:0.076298\n",
      "Train Epoch: 295 [25600/50000 (51%)]\tLoss:0.079058\n"
     ]
    },
    {
     "name": "stderr",
     "output_type": "stream",
     "text": [
      " 98%|████████████████████████████████████████████████████████████████████████████▋ | 295/300 [1:22:01<01:21, 16.32s/it]"
     ]
    },
    {
     "name": "stdout",
     "output_type": "stream",
     "text": [
      "[295] Test Loss: 0.3038, Accuracy: 91.04%\n",
      "Train Epoch: 296 [0/50000 (0%)]\tLoss:0.041333\n",
      "Train Epoch: 296 [25600/50000 (51%)]\tLoss:0.055705\n"
     ]
    },
    {
     "name": "stderr",
     "output_type": "stream",
     "text": [
      " 99%|████████████████████████████████████████████████████████████████████████████▉ | 296/300 [1:22:17<01:05, 16.34s/it]"
     ]
    },
    {
     "name": "stdout",
     "output_type": "stream",
     "text": [
      "[296] Test Loss: 0.3031, Accuracy: 91.09%\n",
      "Train Epoch: 297 [0/50000 (0%)]\tLoss:0.085382\n",
      "Train Epoch: 297 [25600/50000 (51%)]\tLoss:0.097172\n"
     ]
    },
    {
     "name": "stderr",
     "output_type": "stream",
     "text": [
      " 99%|█████████████████████████████████████████████████████████████████████████████▏| 297/300 [1:22:34<00:48, 16.33s/it]"
     ]
    },
    {
     "name": "stdout",
     "output_type": "stream",
     "text": [
      "[297] Test Loss: 0.3046, Accuracy: 90.89%\n",
      "Train Epoch: 298 [0/50000 (0%)]\tLoss:0.038933\n",
      "Train Epoch: 298 [25600/50000 (51%)]\tLoss:0.094711\n"
     ]
    },
    {
     "name": "stderr",
     "output_type": "stream",
     "text": [
      " 99%|█████████████████████████████████████████████████████████████████████████████▍| 298/300 [1:22:50<00:32, 16.33s/it]"
     ]
    },
    {
     "name": "stdout",
     "output_type": "stream",
     "text": [
      "[298] Test Loss: 0.3020, Accuracy: 91.04%\n",
      "Train Epoch: 299 [0/50000 (0%)]\tLoss:0.057658\n",
      "Train Epoch: 299 [25600/50000 (51%)]\tLoss:0.044807\n"
     ]
    },
    {
     "name": "stderr",
     "output_type": "stream",
     "text": [
      "100%|█████████████████████████████████████████████████████████████████████████████▋| 299/300 [1:23:06<00:16, 16.32s/it]"
     ]
    },
    {
     "name": "stdout",
     "output_type": "stream",
     "text": [
      "[299] Test Loss: 0.3040, Accuracy: 91.03%\n",
      "Train Epoch: 300 [0/50000 (0%)]\tLoss:0.025008\n",
      "Train Epoch: 300 [25600/50000 (51%)]\tLoss:0.053437\n"
     ]
    },
    {
     "name": "stderr",
     "output_type": "stream",
     "text": [
      "100%|██████████████████████████████████████████████████████████████████████████████| 300/300 [1:23:23<00:00, 16.68s/it]"
     ]
    },
    {
     "name": "stdout",
     "output_type": "stream",
     "text": [
      "[300] Test Loss: 0.3032, Accuracy: 91.03%\n"
     ]
    },
    {
     "name": "stderr",
     "output_type": "stream",
     "text": [
      "\n"
     ]
    }
   ],
   "source": [
    "for epoch in tqdm(range(1, EPOCHS + 1)):\n",
    "    scheduler.step()\n",
    "    train(model, train_loader, optimizer, epoch)\n",
    "    test_loss, test_accuracy = evaluate(model, test_loader)\n",
    "    \n",
    "    print('[{}] Test Loss: {:.4f}, Accuracy: {:.2f}%'.format(epoch, test_loss, test_accuracy))"
   ]
  },
  {
   "cell_type": "code",
   "execution_count": null,
   "metadata": {},
   "outputs": [],
   "source": []
  }
 ],
 "metadata": {
  "kernelspec": {
   "display_name": "Python 3",
   "language": "python",
   "name": "python3"
  },
  "language_info": {
   "codemirror_mode": {
    "name": "ipython",
    "version": 3
   },
   "file_extension": ".py",
   "mimetype": "text/x-python",
   "name": "python",
   "nbconvert_exporter": "python",
   "pygments_lexer": "ipython3",
   "version": "3.7.6"
  }
 },
 "nbformat": 4,
 "nbformat_minor": 4
}
