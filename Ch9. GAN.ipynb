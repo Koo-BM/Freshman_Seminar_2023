{
 "cells": [
  {
   "cell_type": "markdown",
   "id": "5762e1e1",
   "metadata": {},
   "source": [
    "# GAN"
   ]
  },
  {
   "cell_type": "code",
   "execution_count": 1,
   "id": "bf36a4b0",
   "metadata": {
    "ExecuteTime": {
     "end_time": "2023-02-14T15:42:10.820270Z",
     "start_time": "2023-02-14T15:42:08.338477Z"
    }
   },
   "outputs": [],
   "source": [
    "import os\n",
    "import pandas as pd\n",
    "import numpy as np\n",
    "import torch\n",
    "import torchvision\n",
    "import torch.nn as nn\n",
    "import torch.optim as optim\n",
    "from torchvision import transforms, datasets\n",
    "from torchvision.utils import save_image\n",
    "import matplotlib.pyplot as plt\n",
    "\n",
    "from tqdm import tqdm"
   ]
  },
  {
   "cell_type": "code",
   "execution_count": 2,
   "id": "f7eb8681",
   "metadata": {
    "ExecuteTime": {
     "end_time": "2023-02-14T15:42:10.832559Z",
     "start_time": "2023-02-14T15:42:10.820270Z"
    }
   },
   "outputs": [],
   "source": [
    "def get_default_device():\n",
    "    \"\"\"Pick GPU if available, else CPU\"\"\"\n",
    "    if torch.cuda.is_available():\n",
    "        return torch.device('cuda')\n",
    "    else:\n",
    "        return torch.device('cpu')"
   ]
  },
  {
   "cell_type": "code",
   "execution_count": 3,
   "id": "b7217354",
   "metadata": {
    "ExecuteTime": {
     "end_time": "2023-02-14T15:42:10.877604Z",
     "start_time": "2023-02-14T15:42:10.832559Z"
    }
   },
   "outputs": [
    {
     "name": "stdout",
     "output_type": "stream",
     "text": [
      "다음 장치를 사용합니다: cuda\n"
     ]
    }
   ],
   "source": [
    "# 하이퍼파라미터\n",
    "EPOCHS = 200\n",
    "BATCH_SIZE = 100\n",
    "USE_CUDA = torch.cuda.is_available()\n",
    "DEVICE = get_default_device()\n",
    "print(\"다음 장치를 사용합니다:\", DEVICE)"
   ]
  },
  {
   "cell_type": "code",
   "execution_count": 4,
   "id": "ceac9fbb",
   "metadata": {
    "ExecuteTime": {
     "end_time": "2023-02-14T15:42:10.911230Z",
     "start_time": "2023-02-14T15:42:10.879600Z"
    }
   },
   "outputs": [
    {
     "name": "stdout",
     "output_type": "stream",
     "text": [
      "Downloading http://fashion-mnist.s3-website.eu-central-1.amazonaws.com/train-images-idx3-ubyte.gz\n",
      "Downloading http://fashion-mnist.s3-website.eu-central-1.amazonaws.com/train-images-idx3-ubyte.gz to ./.data\\FashionMNIST\\raw\\train-images-idx3-ubyte.gz\n"
     ]
    },
    {
     "data": {
      "application/vnd.jupyter.widget-view+json": {
       "model_id": "8d3c893acaf949f5831d67bc7d2e427d",
       "version_major": 2,
       "version_minor": 0
      },
      "text/plain": [
       "  0%|          | 0/26421880 [00:00<?, ?it/s]"
      ]
     },
     "metadata": {},
     "output_type": "display_data"
    },
    {
     "name": "stdout",
     "output_type": "stream",
     "text": [
      "Extracting ./.data\\FashionMNIST\\raw\\train-images-idx3-ubyte.gz to ./.data\\FashionMNIST\\raw\n",
      "\n",
      "Downloading http://fashion-mnist.s3-website.eu-central-1.amazonaws.com/train-labels-idx1-ubyte.gz\n",
      "Downloading http://fashion-mnist.s3-website.eu-central-1.amazonaws.com/train-labels-idx1-ubyte.gz to ./.data\\FashionMNIST\\raw\\train-labels-idx1-ubyte.gz\n"
     ]
    },
    {
     "data": {
      "application/vnd.jupyter.widget-view+json": {
       "model_id": "79d999b58e7b411681341f5a947d73f0",
       "version_major": 2,
       "version_minor": 0
      },
      "text/plain": [
       "  0%|          | 0/29515 [00:00<?, ?it/s]"
      ]
     },
     "metadata": {},
     "output_type": "display_data"
    },
    {
     "name": "stdout",
     "output_type": "stream",
     "text": [
      "Extracting ./.data\\FashionMNIST\\raw\\train-labels-idx1-ubyte.gz to ./.data\\FashionMNIST\\raw\n",
      "\n",
      "Downloading http://fashion-mnist.s3-website.eu-central-1.amazonaws.com/t10k-images-idx3-ubyte.gz\n",
      "Downloading http://fashion-mnist.s3-website.eu-central-1.amazonaws.com/t10k-images-idx3-ubyte.gz to ./.data\\FashionMNIST\\raw\\t10k-images-idx3-ubyte.gz\n"
     ]
    },
    {
     "data": {
      "application/vnd.jupyter.widget-view+json": {
       "model_id": "9a9fc5c7695f430e8e64aa6c0f418dc8",
       "version_major": 2,
       "version_minor": 0
      },
      "text/plain": [
       "  0%|          | 0/4422102 [00:00<?, ?it/s]"
      ]
     },
     "metadata": {},
     "output_type": "display_data"
    },
    {
     "name": "stdout",
     "output_type": "stream",
     "text": [
      "Extracting ./.data\\FashionMNIST\\raw\\t10k-images-idx3-ubyte.gz to ./.data\\FashionMNIST\\raw\n",
      "\n",
      "Downloading http://fashion-mnist.s3-website.eu-central-1.amazonaws.com/t10k-labels-idx1-ubyte.gz\n",
      "Downloading http://fashion-mnist.s3-website.eu-central-1.amazonaws.com/t10k-labels-idx1-ubyte.gz to ./.data\\FashionMNIST\\raw\\t10k-labels-idx1-ubyte.gz\n"
     ]
    },
    {
     "data": {
      "application/vnd.jupyter.widget-view+json": {
       "model_id": "9e540e64760e4bcf8e68fd0593202dca",
       "version_major": 2,
       "version_minor": 0
      },
      "text/plain": [
       "  0%|          | 0/5148 [00:00<?, ?it/s]"
      ]
     },
     "metadata": {},
     "output_type": "display_data"
    },
    {
     "name": "stdout",
     "output_type": "stream",
     "text": [
      "Extracting ./.data\\FashionMNIST\\raw\\t10k-labels-idx1-ubyte.gz to ./.data\\FashionMNIST\\raw\n",
      "\n"
     ]
    }
   ],
   "source": [
    "# Fashion MNIST 데이터셋\n",
    "trainset = datasets.FashionMNIST('./.data',\n",
    "                                train=True,\n",
    "                                download=True,\n",
    "                                transform=transforms.Compose([\n",
    "                                    transforms.ToTensor(),\n",
    "                                    transforms.Normalize((0.5, ), (0.5, ))\n",
    "                                ]))\n",
    "train_loader = torch.utils.data.DataLoader(dataset=trainset,\n",
    "                                           batch_size=BATCH_SIZE,\n",
    "                                           shuffle=True)"
   ]
  },
  {
   "cell_type": "code",
   "execution_count": 5,
   "id": "0e50f439",
   "metadata": {
    "ExecuteTime": {
     "end_time": "2023-02-14T15:42:10.926352Z",
     "start_time": "2023-02-14T15:42:10.913225Z"
    }
   },
   "outputs": [],
   "source": [
    "# 생성자 (Generator)\n",
    "G = nn.Sequential(nn.Linear(64, 256), \n",
    "                  nn.ReLU(), \n",
    "                  nn.Linear(256, 256),\n",
    "                  nn.ReLU(), \n",
    "                  nn.Linear(256, 784), \n",
    "                  nn.Tanh())"
   ]
  },
  {
   "cell_type": "code",
   "execution_count": 6,
   "id": "a53b678c",
   "metadata": {
    "ExecuteTime": {
     "end_time": "2023-02-14T15:42:10.946052Z",
     "start_time": "2023-02-14T15:42:10.928345Z"
    }
   },
   "outputs": [],
   "source": [
    "# 판별자 (Discriminator)\n",
    "D = nn.Sequential(nn.Linear(784, 256), \n",
    "                  nn.LeakyReLU(0.2), \n",
    "                  nn.Linear(256, 256),\n",
    "                  nn.LeakyReLU(0.2), \n",
    "                  nn.Linear(256, 1), \n",
    "                  nn.Sigmoid())"
   ]
  },
  {
   "cell_type": "code",
   "execution_count": 7,
   "id": "c174abbd",
   "metadata": {
    "ExecuteTime": {
     "end_time": "2023-02-14T15:42:11.089986Z",
     "start_time": "2023-02-14T15:42:10.946052Z"
    }
   },
   "outputs": [],
   "source": [
    "# 모델의 가중치를 지정한 장치로 보내기\n",
    "D = D.to(DEVICE)\n",
    "G = G.to(DEVICE)"
   ]
  },
  {
   "cell_type": "code",
   "execution_count": 8,
   "id": "0f1a5bdc",
   "metadata": {
    "ExecuteTime": {
     "end_time": "2023-02-14T15:42:11.097463Z",
     "start_time": "2023-02-14T15:42:11.090984Z"
    }
   },
   "outputs": [],
   "source": [
    "# 이진 교차 엔트로피 오차 함수\n",
    "# 생성자와 판별자를 최적화할 Adam 모듈\n",
    "criterion = nn.BCELoss()\n",
    "d_optimizer = optim.Adam(D.parameters(), lr=0.0002)\n",
    "g_optimizer = optim.Adam(G.parameters(), lr=0.0002)"
   ]
  },
  {
   "cell_type": "code",
   "execution_count": 9,
   "id": "8004ee61",
   "metadata": {
    "ExecuteTime": {
     "end_time": "2023-02-14T16:24:09.836300Z",
     "start_time": "2023-02-14T15:42:11.097463Z"
    },
    "scrolled": true
   },
   "outputs": [
    {
     "name": "stdout",
     "output_type": "stream",
     "text": [
      "이폭 [0/200] d_loss:0.0494 g_loss: 5.1206 D(x):0.98 D(G(z)):0.02\n",
      "이폭 [1/200] d_loss:0.0321 g_loss: 5.2767 D(x):0.99 D(G(z)):0.02\n",
      "이폭 [2/200] d_loss:0.0111 g_loss: 7.1244 D(x):1.00 D(G(z)):0.01\n",
      "이폭 [3/200] d_loss:0.0268 g_loss: 6.3927 D(x):0.99 D(G(z)):0.02\n",
      "이폭 [4/200] d_loss:0.1181 g_loss: 5.1008 D(x):0.98 D(G(z)):0.02\n",
      "이폭 [5/200] d_loss:0.1708 g_loss: 4.0666 D(x):0.95 D(G(z)):0.03\n",
      "이폭 [6/200] d_loss:0.0708 g_loss: 5.2116 D(x):0.98 D(G(z)):0.04\n",
      "이폭 [7/200] d_loss:0.1519 g_loss: 5.7075 D(x):0.94 D(G(z)):0.04\n",
      "이폭 [8/200] d_loss:0.2024 g_loss: 8.0233 D(x):0.92 D(G(z)):0.00\n",
      "이폭 [9/200] d_loss:0.1757 g_loss: 3.2770 D(x):0.96 D(G(z)):0.08\n",
      "이폭 [10/200] d_loss:0.1934 g_loss: 6.3505 D(x):0.92 D(G(z)):0.02\n",
      "이폭 [11/200] d_loss:0.2763 g_loss: 4.0247 D(x):0.94 D(G(z)):0.06\n",
      "이폭 [12/200] d_loss:0.1949 g_loss: 3.9469 D(x):0.96 D(G(z)):0.10\n",
      "이폭 [13/200] d_loss:0.0924 g_loss: 5.3915 D(x):0.98 D(G(z)):0.05\n",
      "이폭 [14/200] d_loss:0.6085 g_loss: 3.9102 D(x):0.80 D(G(z)):0.04\n",
      "이폭 [15/200] d_loss:0.3944 g_loss: 3.8191 D(x):0.86 D(G(z)):0.05\n",
      "이폭 [16/200] d_loss:0.3831 g_loss: 3.5394 D(x):0.89 D(G(z)):0.11\n",
      "이폭 [17/200] d_loss:0.3272 g_loss: 3.5563 D(x):0.88 D(G(z)):0.08\n",
      "이폭 [18/200] d_loss:0.2576 g_loss: 4.1311 D(x):0.95 D(G(z)):0.12\n",
      "이폭 [19/200] d_loss:0.4982 g_loss: 3.0081 D(x):0.86 D(G(z)):0.08\n",
      "이폭 [20/200] d_loss:0.2387 g_loss: 4.5996 D(x):0.93 D(G(z)):0.08\n",
      "이폭 [21/200] d_loss:0.4258 g_loss: 3.4115 D(x):0.91 D(G(z)):0.18\n",
      "이폭 [22/200] d_loss:0.5720 g_loss: 3.1386 D(x):0.91 D(G(z)):0.25\n",
      "이폭 [23/200] d_loss:0.1744 g_loss: 3.5895 D(x):0.93 D(G(z)):0.05\n",
      "이폭 [24/200] d_loss:0.5633 g_loss: 3.3748 D(x):0.82 D(G(z)):0.07\n",
      "이폭 [25/200] d_loss:0.2589 g_loss: 3.6694 D(x):0.94 D(G(z)):0.12\n",
      "이폭 [26/200] d_loss:0.3743 g_loss: 4.2354 D(x):0.92 D(G(z)):0.16\n",
      "이폭 [27/200] d_loss:0.4497 g_loss: 2.3474 D(x):0.92 D(G(z)):0.19\n",
      "이폭 [28/200] d_loss:0.6257 g_loss: 2.8841 D(x):0.88 D(G(z)):0.25\n",
      "이폭 [29/200] d_loss:0.3068 g_loss: 2.9647 D(x):0.90 D(G(z)):0.11\n",
      "이폭 [30/200] d_loss:0.5951 g_loss: 2.9381 D(x):0.88 D(G(z)):0.24\n",
      "이폭 [31/200] d_loss:0.4282 g_loss: 3.6507 D(x):0.86 D(G(z)):0.08\n",
      "이폭 [32/200] d_loss:0.5522 g_loss: 2.1962 D(x):0.91 D(G(z)):0.26\n",
      "이폭 [33/200] d_loss:0.4604 g_loss: 3.2061 D(x):0.87 D(G(z)):0.12\n",
      "이폭 [34/200] d_loss:0.6618 g_loss: 2.9340 D(x):0.77 D(G(z)):0.11\n",
      "이폭 [35/200] d_loss:0.6724 g_loss: 3.1672 D(x):0.81 D(G(z)):0.12\n",
      "이폭 [36/200] d_loss:0.4620 g_loss: 2.4950 D(x):0.84 D(G(z)):0.13\n",
      "이폭 [37/200] d_loss:0.6480 g_loss: 2.9216 D(x):0.90 D(G(z)):0.28\n",
      "이폭 [38/200] d_loss:0.5261 g_loss: 2.5913 D(x):0.82 D(G(z)):0.14\n",
      "이폭 [39/200] d_loss:0.3345 g_loss: 3.0488 D(x):0.87 D(G(z)):0.08\n",
      "이폭 [40/200] d_loss:0.5328 g_loss: 2.6274 D(x):0.84 D(G(z)):0.13\n",
      "이폭 [41/200] d_loss:0.6286 g_loss: 2.3524 D(x):0.81 D(G(z)):0.19\n",
      "이폭 [42/200] d_loss:0.4364 g_loss: 2.7431 D(x):0.85 D(G(z)):0.15\n",
      "이폭 [43/200] d_loss:0.5990 g_loss: 2.5919 D(x):0.83 D(G(z)):0.22\n",
      "이폭 [44/200] d_loss:0.8023 g_loss: 2.2588 D(x):0.74 D(G(z)):0.15\n",
      "이폭 [45/200] d_loss:0.5866 g_loss: 2.5802 D(x):0.85 D(G(z)):0.21\n",
      "이폭 [46/200] d_loss:0.5895 g_loss: 2.2571 D(x):0.82 D(G(z)):0.17\n",
      "이폭 [47/200] d_loss:0.5026 g_loss: 2.3697 D(x):0.88 D(G(z)):0.19\n",
      "이폭 [48/200] d_loss:0.7482 g_loss: 2.2506 D(x):0.72 D(G(z)):0.11\n",
      "이폭 [49/200] d_loss:0.6091 g_loss: 2.2622 D(x):0.84 D(G(z)):0.26\n",
      "이폭 [50/200] d_loss:0.5067 g_loss: 2.7295 D(x):0.85 D(G(z)):0.14\n",
      "이폭 [51/200] d_loss:0.4901 g_loss: 3.3293 D(x):0.82 D(G(z)):0.13\n",
      "이폭 [52/200] d_loss:0.7063 g_loss: 2.3063 D(x):0.81 D(G(z)):0.24\n",
      "이폭 [53/200] d_loss:0.4068 g_loss: 2.3666 D(x):0.87 D(G(z)):0.15\n",
      "이폭 [54/200] d_loss:0.6299 g_loss: 2.1115 D(x):0.83 D(G(z)):0.25\n",
      "이폭 [55/200] d_loss:0.3064 g_loss: 3.1300 D(x):0.92 D(G(z)):0.15\n",
      "이폭 [56/200] d_loss:0.6536 g_loss: 2.5406 D(x):0.81 D(G(z)):0.20\n",
      "이폭 [57/200] d_loss:0.6369 g_loss: 2.8900 D(x):0.82 D(G(z)):0.18\n",
      "이폭 [58/200] d_loss:0.6306 g_loss: 2.4189 D(x):0.89 D(G(z)):0.31\n",
      "이폭 [59/200] d_loss:0.5526 g_loss: 2.1291 D(x):0.84 D(G(z)):0.23\n",
      "이폭 [60/200] d_loss:0.9967 g_loss: 2.0194 D(x):0.70 D(G(z)):0.19\n",
      "이폭 [61/200] d_loss:0.9263 g_loss: 1.8077 D(x):0.77 D(G(z)):0.27\n",
      "이폭 [62/200] d_loss:0.7271 g_loss: 1.7834 D(x):0.79 D(G(z)):0.27\n",
      "이폭 [63/200] d_loss:0.7085 g_loss: 2.2339 D(x):0.80 D(G(z)):0.19\n",
      "이폭 [64/200] d_loss:0.7115 g_loss: 2.4462 D(x):0.76 D(G(z)):0.21\n",
      "이폭 [65/200] d_loss:0.8563 g_loss: 2.1195 D(x):0.76 D(G(z)):0.24\n",
      "이폭 [66/200] d_loss:0.5250 g_loss: 2.6043 D(x):0.83 D(G(z)):0.17\n",
      "이폭 [67/200] d_loss:0.7536 g_loss: 1.5204 D(x):0.82 D(G(z)):0.31\n",
      "이폭 [68/200] d_loss:0.7821 g_loss: 1.9223 D(x):0.77 D(G(z)):0.22\n",
      "이폭 [69/200] d_loss:0.7150 g_loss: 1.9328 D(x):0.78 D(G(z)):0.22\n",
      "이폭 [70/200] d_loss:0.6889 g_loss: 1.6802 D(x):0.77 D(G(z)):0.20\n",
      "이폭 [71/200] d_loss:0.6582 g_loss: 2.0343 D(x):0.86 D(G(z)):0.26\n",
      "이폭 [72/200] d_loss:0.6106 g_loss: 1.9979 D(x):0.80 D(G(z)):0.21\n",
      "이폭 [73/200] d_loss:0.5089 g_loss: 2.8770 D(x):0.84 D(G(z)):0.15\n",
      "이폭 [74/200] d_loss:0.7036 g_loss: 2.1535 D(x):0.81 D(G(z)):0.20\n",
      "이폭 [75/200] d_loss:0.5507 g_loss: 2.3668 D(x):0.87 D(G(z)):0.25\n",
      "이폭 [76/200] d_loss:0.9430 g_loss: 2.3288 D(x):0.66 D(G(z)):0.15\n",
      "이폭 [77/200] d_loss:0.6912 g_loss: 2.2887 D(x):0.79 D(G(z)):0.19\n",
      "이폭 [78/200] d_loss:1.1030 g_loss: 2.2593 D(x):0.69 D(G(z)):0.24\n",
      "이폭 [79/200] d_loss:0.5933 g_loss: 2.2673 D(x):0.82 D(G(z)):0.22\n",
      "이폭 [80/200] d_loss:0.8743 g_loss: 2.2740 D(x):0.73 D(G(z)):0.22\n",
      "이폭 [81/200] d_loss:0.7669 g_loss: 2.0257 D(x):0.72 D(G(z)):0.21\n",
      "이폭 [82/200] d_loss:0.7396 g_loss: 2.4984 D(x):0.72 D(G(z)):0.14\n",
      "이폭 [83/200] d_loss:0.6631 g_loss: 2.3887 D(x):0.81 D(G(z)):0.22\n",
      "이폭 [84/200] d_loss:0.8327 g_loss: 2.5188 D(x):0.77 D(G(z)):0.25\n",
      "이폭 [85/200] d_loss:0.8153 g_loss: 1.7329 D(x):0.75 D(G(z)):0.27\n",
      "이폭 [86/200] d_loss:0.7086 g_loss: 2.0347 D(x):0.78 D(G(z)):0.25\n",
      "이폭 [87/200] d_loss:0.9182 g_loss: 1.6047 D(x):0.73 D(G(z)):0.27\n",
      "이폭 [88/200] d_loss:0.7710 g_loss: 2.2039 D(x):0.81 D(G(z)):0.27\n",
      "이폭 [89/200] d_loss:0.6066 g_loss: 2.2935 D(x):0.82 D(G(z)):0.23\n",
      "이폭 [90/200] d_loss:0.5567 g_loss: 2.4017 D(x):0.79 D(G(z)):0.18\n",
      "이폭 [91/200] d_loss:0.7283 g_loss: 1.9144 D(x):0.78 D(G(z)):0.26\n",
      "이폭 [92/200] d_loss:1.1385 g_loss: 1.5460 D(x):0.74 D(G(z)):0.39\n",
      "이폭 [93/200] d_loss:0.5330 g_loss: 2.4448 D(x):0.81 D(G(z)):0.19\n",
      "이폭 [94/200] d_loss:0.6713 g_loss: 1.9887 D(x):0.82 D(G(z)):0.28\n",
      "이폭 [95/200] d_loss:0.6809 g_loss: 2.6160 D(x):0.76 D(G(z)):0.17\n",
      "이폭 [96/200] d_loss:0.9060 g_loss: 2.6406 D(x):0.72 D(G(z)):0.20\n",
      "이폭 [97/200] d_loss:0.6359 g_loss: 2.0348 D(x):0.79 D(G(z)):0.22\n",
      "이폭 [98/200] d_loss:0.8371 g_loss: 1.7066 D(x):0.79 D(G(z)):0.34\n",
      "이폭 [99/200] d_loss:0.7815 g_loss: 2.6056 D(x):0.70 D(G(z)):0.15\n",
      "이폭 [100/200] d_loss:0.5530 g_loss: 2.2517 D(x):0.79 D(G(z)):0.19\n",
      "이폭 [101/200] d_loss:0.6516 g_loss: 2.3898 D(x):0.78 D(G(z)):0.20\n",
      "이폭 [102/200] d_loss:0.8596 g_loss: 2.3157 D(x):0.71 D(G(z)):0.21\n",
      "이폭 [103/200] d_loss:0.7467 g_loss: 1.9390 D(x):0.75 D(G(z)):0.22\n",
      "이폭 [104/200] d_loss:0.7316 g_loss: 2.0370 D(x):0.72 D(G(z)):0.21\n",
      "이폭 [105/200] d_loss:0.7596 g_loss: 2.6975 D(x):0.72 D(G(z)):0.16\n",
      "이폭 [106/200] d_loss:1.1902 g_loss: 1.2341 D(x):0.71 D(G(z)):0.41\n",
      "이폭 [107/200] d_loss:0.7823 g_loss: 1.8627 D(x):0.77 D(G(z)):0.28\n",
      "이폭 [108/200] d_loss:0.6771 g_loss: 1.9111 D(x):0.76 D(G(z)):0.22\n",
      "이폭 [109/200] d_loss:0.8333 g_loss: 1.7734 D(x):0.70 D(G(z)):0.19\n",
      "이폭 [110/200] d_loss:0.7823 g_loss: 1.8286 D(x):0.81 D(G(z)):0.29\n",
      "이폭 [111/200] d_loss:0.8583 g_loss: 1.6631 D(x):0.76 D(G(z)):0.31\n",
      "이폭 [112/200] d_loss:0.6736 g_loss: 1.9680 D(x):0.75 D(G(z)):0.21\n",
      "이폭 [113/200] d_loss:0.6995 g_loss: 1.8892 D(x):0.77 D(G(z)):0.25\n",
      "이폭 [114/200] d_loss:0.8284 g_loss: 2.0377 D(x):0.70 D(G(z)):0.22\n",
      "이폭 [115/200] d_loss:0.9032 g_loss: 2.0992 D(x):0.70 D(G(z)):0.24\n",
      "이폭 [116/200] d_loss:0.5561 g_loss: 2.1768 D(x):0.78 D(G(z)):0.16\n",
      "이폭 [117/200] d_loss:0.8245 g_loss: 1.8362 D(x):0.74 D(G(z)):0.27\n",
      "이폭 [118/200] d_loss:0.7538 g_loss: 2.0359 D(x):0.72 D(G(z)):0.22\n",
      "이폭 [119/200] d_loss:0.7875 g_loss: 2.0914 D(x):0.71 D(G(z)):0.24\n",
      "이폭 [120/200] d_loss:0.8052 g_loss: 2.3080 D(x):0.70 D(G(z)):0.18\n",
      "이폭 [121/200] d_loss:0.7288 g_loss: 1.7765 D(x):0.76 D(G(z)):0.25\n",
      "이폭 [122/200] d_loss:0.7397 g_loss: 2.0417 D(x):0.74 D(G(z)):0.23\n",
      "이폭 [123/200] d_loss:1.0361 g_loss: 1.8121 D(x):0.67 D(G(z)):0.26\n",
      "이폭 [124/200] d_loss:0.8679 g_loss: 2.0643 D(x):0.71 D(G(z)):0.26\n",
      "이폭 [125/200] d_loss:0.9062 g_loss: 1.6069 D(x):0.72 D(G(z)):0.30\n",
      "이폭 [126/200] d_loss:0.6823 g_loss: 2.0714 D(x):0.71 D(G(z)):0.16\n",
      "이폭 [127/200] d_loss:0.9190 g_loss: 1.4574 D(x):0.74 D(G(z)):0.35\n"
     ]
    },
    {
     "name": "stdout",
     "output_type": "stream",
     "text": [
      "이폭 [128/200] d_loss:0.9031 g_loss: 1.8745 D(x):0.71 D(G(z)):0.30\n",
      "이폭 [129/200] d_loss:0.7533 g_loss: 1.8248 D(x):0.75 D(G(z)):0.22\n",
      "이폭 [130/200] d_loss:0.6754 g_loss: 2.0139 D(x):0.76 D(G(z)):0.21\n",
      "이폭 [131/200] d_loss:1.0704 g_loss: 1.7907 D(x):0.70 D(G(z)):0.35\n",
      "이폭 [132/200] d_loss:0.8786 g_loss: 1.6667 D(x):0.69 D(G(z)):0.27\n",
      "이폭 [133/200] d_loss:1.1195 g_loss: 1.2929 D(x):0.72 D(G(z)):0.36\n",
      "이폭 [134/200] d_loss:1.0341 g_loss: 1.3144 D(x):0.71 D(G(z)):0.35\n",
      "이폭 [135/200] d_loss:0.8528 g_loss: 1.5046 D(x):0.78 D(G(z)):0.33\n",
      "이폭 [136/200] d_loss:0.7393 g_loss: 1.7349 D(x):0.75 D(G(z)):0.25\n",
      "이폭 [137/200] d_loss:0.8917 g_loss: 1.7545 D(x):0.73 D(G(z)):0.31\n",
      "이폭 [138/200] d_loss:0.8919 g_loss: 1.4749 D(x):0.71 D(G(z)):0.31\n",
      "이폭 [139/200] d_loss:0.9206 g_loss: 1.7636 D(x):0.70 D(G(z)):0.29\n",
      "이폭 [140/200] d_loss:0.9612 g_loss: 1.5425 D(x):0.69 D(G(z)):0.28\n",
      "이폭 [141/200] d_loss:0.8323 g_loss: 1.7459 D(x):0.73 D(G(z)):0.31\n",
      "이폭 [142/200] d_loss:0.8456 g_loss: 1.8528 D(x):0.68 D(G(z)):0.22\n",
      "이폭 [143/200] d_loss:0.8967 g_loss: 1.6425 D(x):0.74 D(G(z)):0.28\n",
      "이폭 [144/200] d_loss:0.6896 g_loss: 2.1053 D(x):0.74 D(G(z)):0.22\n",
      "이폭 [145/200] d_loss:0.9622 g_loss: 1.5552 D(x):0.69 D(G(z)):0.29\n",
      "이폭 [146/200] d_loss:0.8878 g_loss: 1.5993 D(x):0.72 D(G(z)):0.30\n",
      "이폭 [147/200] d_loss:1.0639 g_loss: 1.6217 D(x):0.62 D(G(z)):0.27\n",
      "이폭 [148/200] d_loss:0.8220 g_loss: 1.6431 D(x):0.85 D(G(z)):0.36\n",
      "이폭 [149/200] d_loss:0.9699 g_loss: 1.4263 D(x):0.75 D(G(z)):0.37\n",
      "이폭 [150/200] d_loss:0.8139 g_loss: 1.6490 D(x):0.74 D(G(z)):0.29\n",
      "이폭 [151/200] d_loss:0.9113 g_loss: 1.6263 D(x):0.70 D(G(z)):0.28\n",
      "이폭 [152/200] d_loss:0.7767 g_loss: 1.8947 D(x):0.72 D(G(z)):0.23\n",
      "이폭 [153/200] d_loss:0.8161 g_loss: 1.7568 D(x):0.72 D(G(z)):0.26\n",
      "이폭 [154/200] d_loss:0.8495 g_loss: 1.8256 D(x):0.75 D(G(z)):0.30\n",
      "이폭 [155/200] d_loss:1.1378 g_loss: 1.3673 D(x):0.61 D(G(z)):0.31\n",
      "이폭 [156/200] d_loss:0.8378 g_loss: 1.5340 D(x):0.75 D(G(z)):0.33\n",
      "이폭 [157/200] d_loss:0.8058 g_loss: 1.5340 D(x):0.76 D(G(z)):0.30\n",
      "이폭 [158/200] d_loss:0.9885 g_loss: 1.4834 D(x):0.69 D(G(z)):0.31\n",
      "이폭 [159/200] d_loss:0.9381 g_loss: 1.5288 D(x):0.72 D(G(z)):0.34\n",
      "이폭 [160/200] d_loss:0.7278 g_loss: 2.3689 D(x):0.73 D(G(z)):0.20\n",
      "이폭 [161/200] d_loss:1.1547 g_loss: 1.6122 D(x):0.60 D(G(z)):0.27\n",
      "이폭 [162/200] d_loss:0.9464 g_loss: 1.2128 D(x):0.74 D(G(z)):0.37\n",
      "이폭 [163/200] d_loss:0.9036 g_loss: 1.4552 D(x):0.74 D(G(z)):0.33\n",
      "이폭 [164/200] d_loss:0.9883 g_loss: 1.4870 D(x):0.66 D(G(z)):0.27\n",
      "이폭 [165/200] d_loss:0.8997 g_loss: 1.6652 D(x):0.68 D(G(z)):0.27\n",
      "이폭 [166/200] d_loss:0.8550 g_loss: 1.4146 D(x):0.78 D(G(z)):0.37\n",
      "이폭 [167/200] d_loss:0.7988 g_loss: 1.6247 D(x):0.71 D(G(z)):0.28\n",
      "이폭 [168/200] d_loss:0.6808 g_loss: 1.7968 D(x):0.79 D(G(z)):0.27\n",
      "이폭 [169/200] d_loss:0.9289 g_loss: 1.5923 D(x):0.68 D(G(z)):0.31\n",
      "이폭 [170/200] d_loss:0.8817 g_loss: 1.6626 D(x):0.64 D(G(z)):0.23\n",
      "이폭 [171/200] d_loss:0.7963 g_loss: 1.6034 D(x):0.72 D(G(z)):0.27\n",
      "이폭 [172/200] d_loss:1.1766 g_loss: 1.3403 D(x):0.58 D(G(z)):0.33\n",
      "이폭 [173/200] d_loss:0.8911 g_loss: 1.5881 D(x):0.66 D(G(z)):0.28\n",
      "이폭 [174/200] d_loss:0.8670 g_loss: 1.5497 D(x):0.76 D(G(z)):0.30\n",
      "이폭 [175/200] d_loss:0.9084 g_loss: 1.4871 D(x):0.73 D(G(z)):0.34\n",
      "이폭 [176/200] d_loss:0.8595 g_loss: 1.5905 D(x):0.70 D(G(z)):0.28\n",
      "이폭 [177/200] d_loss:0.8570 g_loss: 1.4653 D(x):0.71 D(G(z)):0.30\n",
      "이폭 [178/200] d_loss:0.9184 g_loss: 1.7100 D(x):0.67 D(G(z)):0.28\n",
      "이폭 [179/200] d_loss:1.0009 g_loss: 1.6133 D(x):0.64 D(G(z)):0.28\n",
      "이폭 [180/200] d_loss:0.8370 g_loss: 1.4436 D(x):0.77 D(G(z)):0.36\n",
      "이폭 [181/200] d_loss:1.1761 g_loss: 1.2584 D(x):0.63 D(G(z)):0.37\n",
      "이폭 [182/200] d_loss:0.9042 g_loss: 1.5097 D(x):0.70 D(G(z)):0.30\n",
      "이폭 [183/200] d_loss:0.9175 g_loss: 1.2965 D(x):0.71 D(G(z)):0.34\n",
      "이폭 [184/200] d_loss:1.1132 g_loss: 1.2764 D(x):0.62 D(G(z)):0.36\n",
      "이폭 [185/200] d_loss:0.8727 g_loss: 1.6540 D(x):0.71 D(G(z)):0.30\n",
      "이폭 [186/200] d_loss:0.9837 g_loss: 1.5956 D(x):0.63 D(G(z)):0.28\n",
      "이폭 [187/200] d_loss:0.8674 g_loss: 1.4664 D(x):0.74 D(G(z)):0.32\n",
      "이폭 [188/200] d_loss:1.0008 g_loss: 1.4771 D(x):0.67 D(G(z)):0.33\n",
      "이폭 [189/200] d_loss:1.1012 g_loss: 1.5712 D(x):0.61 D(G(z)):0.28\n",
      "이폭 [190/200] d_loss:0.8890 g_loss: 1.5331 D(x):0.70 D(G(z)):0.31\n",
      "이폭 [191/200] d_loss:0.9208 g_loss: 1.7448 D(x):0.68 D(G(z)):0.27\n",
      "이폭 [192/200] d_loss:1.1025 g_loss: 1.5310 D(x):0.62 D(G(z)):0.30\n",
      "이폭 [193/200] d_loss:1.0390 g_loss: 1.2595 D(x):0.67 D(G(z)):0.35\n",
      "이폭 [194/200] d_loss:0.8004 g_loss: 1.8072 D(x):0.69 D(G(z)):0.24\n",
      "이폭 [195/200] d_loss:0.8984 g_loss: 1.6471 D(x):0.67 D(G(z)):0.27\n",
      "이폭 [196/200] d_loss:1.0905 g_loss: 1.2993 D(x):0.66 D(G(z)):0.36\n",
      "이폭 [197/200] d_loss:0.9631 g_loss: 1.2544 D(x):0.72 D(G(z)):0.36\n",
      "이폭 [198/200] d_loss:0.8352 g_loss: 1.4366 D(x):0.73 D(G(z)):0.31\n",
      "이폭 [199/200] d_loss:0.9125 g_loss: 1.7180 D(x):0.64 D(G(z)):0.26\n"
     ]
    }
   ],
   "source": [
    "total_step = len(train_loader)\n",
    "for epoch in range(EPOCHS):\n",
    "    for i, (images, _) in enumerate(train_loader):\n",
    "        images = images.reshape(BATCH_SIZE, -1).to(DEVICE)\n",
    "        \n",
    "        # '진짜'와 '가짜' 레이블 생성\n",
    "        real_labels = torch.ones(BATCH_SIZE, 1).to(DEVICE)\n",
    "        fake_labels = torch.zeros(BATCH_SIZE, 1).to(DEVICE)\n",
    "        \n",
    "        # 판별자가 진짜 이미지를 진짜로 인식하는 오차 계산\n",
    "        outputs = D(images)\n",
    "        d_loss_real = criterion(outputs, real_labels)\n",
    "        real_score = outputs\n",
    "        \n",
    "        # 무작위 텐서로 가짜 이미지 생성\n",
    "        z = torch.randn(BATCH_SIZE, 64).to(DEVICE)\n",
    "        fake_images = G(z)\n",
    "        \n",
    "        # 판별자가 가짜 이미지를 가짜로 인식하는 오차 계산\n",
    "        outputs = D(fake_images)\n",
    "        d_loss_fake = criterion(outputs, fake_labels)\n",
    "        fake_score = outputs\n",
    "        \n",
    "        # 진짜와 가짜 이미지를 갖고 낸 오차를 더해서 판별자의 오차 계산\n",
    "        d_loss = d_loss_real + d_loss_fake\n",
    "        \n",
    "        # 역전파 알고리즘으로 판별자 모델의 학습을 진행\n",
    "        d_optimizer.zero_grad()\n",
    "        g_optimizer.zero_grad()\n",
    "        d_loss.backward()\n",
    "        d_optimizer.step()\n",
    "        \n",
    "        #생성자가 판별자를 속였는지에 대한 오차 계산\n",
    "        fake_images = G(z)\n",
    "        outputs = D(fake_images)\n",
    "        g_loss = criterion(outputs, real_labels)\n",
    "        \n",
    "        # 역전파 알고리즘으로 생성자 모델의 학습을 진행\n",
    "        d_optimizer.zero_grad()\n",
    "        g_optimizer.zero_grad()\n",
    "        g_loss.backward()\n",
    "        g_optimizer.step()\n",
    "        \n",
    "    print('이폭 [{}/{}] d_loss:{:.4f} g_loss: {:.4f} D(x):{:.2f} D(G(z)):{:.2f}'\n",
    "         .format(epoch, EPOCHS, d_loss.item(), g_loss.item(),\n",
    "                real_score.mean().item(), fake_score.mean().item()))\n",
    "        "
   ]
  },
  {
   "cell_type": "code",
   "execution_count": 10,
   "id": "320f8c29",
   "metadata": {
    "ExecuteTime": {
     "start_time": "2023-02-14T15:42:08.314Z"
    }
   },
   "outputs": [
    {
     "data": {
      "image/png": "[encoded data removed]",
      "text/plain": [
       "<Figure size 432x288 with 1 Axes>"
      ]
     },
     "metadata": {
      "needs_background": "light"
     },
     "output_type": "display_data"
    },
    {
     "data": {
      "image/png": "[encoded data removed]",
      "text/plain": [
       "<Figure size 432x288 with 1 Axes>"
      ]
     },
     "metadata": {
      "needs_background": "light"
     },
     "output_type": "display_data"
    },
    {
     "data": {
      "image/png": "[encoded data removed]",
      "text/plain": [
       "<Figure size 432x288 with 1 Axes>"
      ]
     },
     "metadata": {
      "needs_background": "light"
     },
     "output_type": "display_data"
    },
    {
     "data": {
      "image/png": "[encoded data removed]",
      "text/plain": [
       "<Figure size 432x288 with 1 Axes>"
      ]
     },
     "metadata": {
      "needs_background": "light"
     },
     "output_type": "display_data"
    },
    {
     "data": {
      "image/png": "[encoded data removed]",
      "text/plain": [
       "<Figure size 432x288 with 1 Axes>"
      ]
     },
     "metadata": {
      "needs_background": "light"
     },
     "output_type": "display_data"
    },
    {
     "data": {
      "image/png": "[encoded data removed]",
      "text/plain": [
       "<Figure size 432x288 with 1 Axes>"
      ]
     },
     "metadata": {
      "needs_background": "light"
     },
     "output_type": "display_data"
    },
    {
     "data": {
      "image/png": "[encoded data removed]",
      "text/plain": [
       "<Figure size 432x288 with 1 Axes>"
      ]
     },
     "metadata": {
      "needs_background": "light"
     },
     "output_type": "display_data"
    },
    {
     "data": {
      "image/png": "[encoded data removed]",
      "text/plain": [
       "<Figure size 432x288 with 1 Axes>"
      ]
     },
     "metadata": {
      "needs_background": "light"
     },
     "output_type": "display_data"
    },
    {
     "data": {
      "image/png": "[encoded data removed]",
      "text/plain": [
       "<Figure size 432x288 with 1 Axes>"
      ]
     },
     "metadata": {
      "needs_background": "light"
     },
     "output_type": "display_data"
    },
    {
     "data": {
      "image/png": "[encoded data removed]",
      "text/plain": [
       "<Figure size 432x288 with 1 Axes>"
      ]
     },
     "metadata": {
      "needs_background": "light"
     },
     "output_type": "display_data"
    }
   ],
   "source": [
    "# 생성자가 만든 이미지 시각화하기\n",
    "z = torch.randn(BATCH_SIZE, 64).to(DEVICE)\n",
    "fake_images = G(z)\n",
    "for i in range(10):\n",
    "    fake_images_img = np.reshape(fake_images.data.cpu().numpy()[i], (28, 28))\n",
    "    plt.imshow(fake_images_img, cmap = 'gray')\n",
    "    plt.show()"
   ]
  },
  {
   "cell_type": "markdown",
   "id": "0e2e554d",
   "metadata": {},
   "source": [
    "# cGAN"
   ]
  },
  {
   "cell_type": "code",
   "execution_count": 18,
   "id": "02c32afc",
   "metadata": {
    "ExecuteTime": {
     "start_time": "2023-02-14T15:42:08.315Z"
    }
   },
   "outputs": [],
   "source": [
    "# 생성자 (Generator)\n",
    "class Generator(nn.Module):\n",
    "    def __init__(self):\n",
    "        super().__init__()\n",
    "        \n",
    "        self.embed = nn.Embedding(10, 10)\n",
    "        \n",
    "        self.model = nn.Sequential(\n",
    "            nn.Linear(110, 256),\n",
    "            nn.LeakyReLU(0.2, inplace=True),\n",
    "            nn.Linear(256, 512),\n",
    "            nn.LeakyReLU(0.2, inplace=True),\n",
    "            nn.Linear(512, 1024),\n",
    "            nn.LeakyReLU(0.2, inplace=True),\n",
    "            nn.Linear(1024, 784),\n",
    "            nn.Tanh()\n",
    "        )\n",
    "        \n",
    "    def forward(self, z, labels):\n",
    "        c = self.embed(labels)\n",
    "        x = torch.cat([z, c], 1)\n",
    "        return self.model(x)"
   ]
  },
  {
   "cell_type": "code",
   "execution_count": 19,
   "id": "ec783569",
   "metadata": {
    "ExecuteTime": {
     "start_time": "2023-02-14T15:42:08.316Z"
    }
   },
   "outputs": [],
   "source": [
    "# 판별자 (Discriminator)\n",
    "class Discriminator(nn.Module):\n",
    "    def __init__(self):\n",
    "        super().__init__()\n",
    "        \n",
    "        self.embed = nn.Embedding(10, 10)\n",
    "        \n",
    "        self.model = nn.Sequential(\n",
    "            nn.Linear(794, 1024),\n",
    "            nn.LeakyReLU(0.2, inplace=True),\n",
    "            nn.Dropout(0.3),\n",
    "            nn.Linear(1024, 512),\n",
    "            nn.LeakyReLU(0.2, inplace=True),\n",
    "            nn.Dropout(0.3),\n",
    "            nn.Linear(512, 256),\n",
    "            nn.LeakyReLU(0.2, inplace=True),\n",
    "            nn.Dropout(0.3),\n",
    "            nn.Linear(256, 1),\n",
    "            nn.Sigmoid()\n",
    "        )\n",
    "        \n",
    "    def forward(self, x, labels):\n",
    "        c = self.embed(labels)\n",
    "        x = torch.cat([x, c], 1)\n",
    "        return self.model(x)"
   ]
  },
  {
   "cell_type": "code",
   "execution_count": 22,
   "id": "450b7e94",
   "metadata": {
    "ExecuteTime": {
     "start_time": "2023-02-14T15:42:08.318Z"
    }
   },
   "outputs": [],
   "source": [
    "# 모델 인스턴스를 만들고 모델의 가중치를 지정한 장치로 보내기\n",
    "D = Discriminator().to(DEVICE)\n",
    "G = Generator().to(DEVICE)\n",
    "\n",
    "# 이진 교차 엔트로피 오차 함수\n",
    "# 생성자와 판별자를 최적화할 Adam 모듈\n",
    "criterion = nn.BCELoss()\n",
    "d_optimizer = optim.Adam(D.parameters(), lr=0.0002)\n",
    "g_optimizer = optim.Adam(G.parameters(), lr=0.0002)"
   ]
  },
  {
   "cell_type": "code",
   "execution_count": 23,
   "id": "e7968865",
   "metadata": {
    "ExecuteTime": {
     "start_time": "2023-02-14T15:42:08.320Z"
    }
   },
   "outputs": [
    {
     "name": "stdout",
     "output_type": "stream",
     "text": [
      "이폭 [0/200] d_loss: 0.1407 g_loss: 7.3440 D(x): 0.94 D(G(z)): 0.04\n",
      "이폭 [1/200] d_loss: 0.3385 g_loss: 4.1454 D(x): 0.87 D(G(z)): 0.08\n",
      "이폭 [2/200] d_loss: 0.4569 g_loss: 3.2238 D(x): 0.89 D(G(z)): 0.13\n",
      "이폭 [3/200] d_loss: 0.2530 g_loss: 4.7598 D(x): 0.91 D(G(z)): 0.07\n",
      "이폭 [4/200] d_loss: 0.6468 g_loss: 3.1040 D(x): 0.82 D(G(z)): 0.21\n",
      "이폭 [5/200] d_loss: 0.5849 g_loss: 2.2895 D(x): 0.83 D(G(z)): 0.21\n",
      "이폭 [6/200] d_loss: 0.7180 g_loss: 2.1719 D(x): 0.81 D(G(z)): 0.22\n",
      "이폭 [7/200] d_loss: 0.8029 g_loss: 1.9830 D(x): 0.81 D(G(z)): 0.29\n",
      "이폭 [8/200] d_loss: 0.9040 g_loss: 1.8434 D(x): 0.71 D(G(z)): 0.28\n",
      "이폭 [9/200] d_loss: 0.8108 g_loss: 1.8146 D(x): 0.80 D(G(z)): 0.29\n",
      "이폭 [10/200] d_loss: 0.9046 g_loss: 1.8477 D(x): 0.71 D(G(z)): 0.29\n",
      "이폭 [11/200] d_loss: 0.4707 g_loss: 2.3894 D(x): 0.84 D(G(z)): 0.18\n",
      "이폭 [12/200] d_loss: 0.8313 g_loss: 1.6904 D(x): 0.74 D(G(z)): 0.28\n",
      "이폭 [13/200] d_loss: 0.8795 g_loss: 1.5427 D(x): 0.74 D(G(z)): 0.32\n",
      "이폭 [14/200] d_loss: 0.7759 g_loss: 1.6325 D(x): 0.76 D(G(z)): 0.27\n",
      "이폭 [15/200] d_loss: 0.6246 g_loss: 1.6760 D(x): 0.80 D(G(z)): 0.25\n",
      "이폭 [16/200] d_loss: 0.7455 g_loss: 1.5344 D(x): 0.80 D(G(z)): 0.30\n",
      "이폭 [17/200] d_loss: 0.9050 g_loss: 1.3622 D(x): 0.72 D(G(z)): 0.35\n",
      "이폭 [18/200] d_loss: 0.9749 g_loss: 1.4841 D(x): 0.65 D(G(z)): 0.31\n",
      "이폭 [19/200] d_loss: 0.9956 g_loss: 1.3687 D(x): 0.68 D(G(z)): 0.33\n",
      "이폭 [20/200] d_loss: 0.7625 g_loss: 1.5777 D(x): 0.71 D(G(z)): 0.24\n",
      "이폭 [21/200] d_loss: 1.0164 g_loss: 1.3149 D(x): 0.61 D(G(z)): 0.31\n",
      "이폭 [22/200] d_loss: 1.0966 g_loss: 1.1860 D(x): 0.72 D(G(z)): 0.39\n",
      "이폭 [23/200] d_loss: 1.1287 g_loss: 1.1574 D(x): 0.67 D(G(z)): 0.39\n",
      "이폭 [24/200] d_loss: 1.0235 g_loss: 1.4558 D(x): 0.60 D(G(z)): 0.28\n",
      "이폭 [25/200] d_loss: 0.9932 g_loss: 1.0711 D(x): 0.70 D(G(z)): 0.40\n",
      "이폭 [26/200] d_loss: 0.9992 g_loss: 1.3149 D(x): 0.66 D(G(z)): 0.34\n",
      "이폭 [27/200] d_loss: 0.9341 g_loss: 1.2410 D(x): 0.73 D(G(z)): 0.37\n",
      "이폭 [28/200] d_loss: 0.9805 g_loss: 1.4777 D(x): 0.63 D(G(z)): 0.30\n",
      "이폭 [29/200] d_loss: 1.0197 g_loss: 1.1746 D(x): 0.68 D(G(z)): 0.36\n",
      "이폭 [30/200] d_loss: 1.1014 g_loss: 0.9717 D(x): 0.69 D(G(z)): 0.44\n",
      "이폭 [31/200] d_loss: 1.1111 g_loss: 1.1281 D(x): 0.64 D(G(z)): 0.39\n",
      "이폭 [32/200] d_loss: 0.9867 g_loss: 1.4027 D(x): 0.64 D(G(z)): 0.29\n",
      "이폭 [33/200] d_loss: 1.0603 g_loss: 1.2193 D(x): 0.67 D(G(z)): 0.38\n",
      "이폭 [34/200] d_loss: 0.9293 g_loss: 1.3300 D(x): 0.67 D(G(z)): 0.31\n",
      "이폭 [35/200] d_loss: 1.0830 g_loss: 1.2830 D(x): 0.66 D(G(z)): 0.39\n",
      "이폭 [36/200] d_loss: 1.1790 g_loss: 1.1898 D(x): 0.63 D(G(z)): 0.40\n",
      "이폭 [37/200] d_loss: 1.1274 g_loss: 1.1180 D(x): 0.70 D(G(z)): 0.42\n",
      "이폭 [38/200] d_loss: 0.8023 g_loss: 1.5593 D(x): 0.73 D(G(z)): 0.27\n",
      "이폭 [39/200] d_loss: 1.0210 g_loss: 1.1638 D(x): 0.67 D(G(z)): 0.39\n",
      "이폭 [40/200] d_loss: 0.9965 g_loss: 1.4997 D(x): 0.65 D(G(z)): 0.33\n",
      "이폭 [41/200] d_loss: 1.1246 g_loss: 0.9989 D(x): 0.61 D(G(z)): 0.41\n",
      "이폭 [42/200] d_loss: 1.0741 g_loss: 1.0468 D(x): 0.64 D(G(z)): 0.39\n",
      "이폭 [43/200] d_loss: 1.0540 g_loss: 1.0290 D(x): 0.64 D(G(z)): 0.38\n",
      "이폭 [44/200] d_loss: 1.1427 g_loss: 1.3054 D(x): 0.61 D(G(z)): 0.35\n",
      "이폭 [45/200] d_loss: 1.0008 g_loss: 1.3049 D(x): 0.65 D(G(z)): 0.32\n",
      "이폭 [46/200] d_loss: 1.0168 g_loss: 1.3150 D(x): 0.65 D(G(z)): 0.32\n",
      "이폭 [47/200] d_loss: 1.2030 g_loss: 1.0836 D(x): 0.58 D(G(z)): 0.41\n",
      "이폭 [48/200] d_loss: 0.9238 g_loss: 1.3124 D(x): 0.69 D(G(z)): 0.33\n",
      "이폭 [49/200] d_loss: 1.0044 g_loss: 1.2097 D(x): 0.61 D(G(z)): 0.33\n",
      "이폭 [50/200] d_loss: 1.1835 g_loss: 1.1121 D(x): 0.61 D(G(z)): 0.40\n",
      "이폭 [51/200] d_loss: 1.0641 g_loss: 1.2423 D(x): 0.62 D(G(z)): 0.34\n",
      "이폭 [52/200] d_loss: 1.0173 g_loss: 1.1882 D(x): 0.64 D(G(z)): 0.34\n",
      "이폭 [53/200] d_loss: 1.0783 g_loss: 1.2694 D(x): 0.59 D(G(z)): 0.34\n",
      "이폭 [54/200] d_loss: 1.2177 g_loss: 0.9736 D(x): 0.59 D(G(z)): 0.42\n",
      "이폭 [55/200] d_loss: 1.1755 g_loss: 1.0598 D(x): 0.62 D(G(z)): 0.40\n",
      "이폭 [56/200] d_loss: 1.1127 g_loss: 1.2016 D(x): 0.58 D(G(z)): 0.35\n",
      "이폭 [57/200] d_loss: 1.1372 g_loss: 1.4214 D(x): 0.59 D(G(z)): 0.31\n",
      "이폭 [58/200] d_loss: 1.1579 g_loss: 0.9717 D(x): 0.63 D(G(z)): 0.44\n",
      "이폭 [59/200] d_loss: 1.0328 g_loss: 1.3027 D(x): 0.63 D(G(z)): 0.33\n",
      "이폭 [60/200] d_loss: 1.1088 g_loss: 1.1925 D(x): 0.66 D(G(z)): 0.39\n",
      "이폭 [61/200] d_loss: 1.0677 g_loss: 0.9451 D(x): 0.69 D(G(z)): 0.45\n",
      "이폭 [62/200] d_loss: 1.0326 g_loss: 1.2275 D(x): 0.68 D(G(z)): 0.37\n",
      "이폭 [63/200] d_loss: 1.2312 g_loss: 1.0252 D(x): 0.61 D(G(z)): 0.41\n",
      "이폭 [64/200] d_loss: 1.2231 g_loss: 0.9189 D(x): 0.64 D(G(z)): 0.46\n",
      "이폭 [65/200] d_loss: 1.1716 g_loss: 0.9862 D(x): 0.59 D(G(z)): 0.41\n",
      "이폭 [66/200] d_loss: 1.1003 g_loss: 1.1648 D(x): 0.59 D(G(z)): 0.35\n",
      "이폭 [67/200] d_loss: 1.1277 g_loss: 1.0394 D(x): 0.58 D(G(z)): 0.38\n",
      "이폭 [68/200] d_loss: 1.2986 g_loss: 0.9071 D(x): 0.55 D(G(z)): 0.45\n",
      "이폭 [69/200] d_loss: 1.2402 g_loss: 1.0110 D(x): 0.57 D(G(z)): 0.41\n",
      "이폭 [70/200] d_loss: 1.1614 g_loss: 0.9476 D(x): 0.61 D(G(z)): 0.43\n",
      "이폭 [71/200] d_loss: 1.2913 g_loss: 1.1026 D(x): 0.57 D(G(z)): 0.39\n",
      "이폭 [72/200] d_loss: 1.1817 g_loss: 1.1904 D(x): 0.61 D(G(z)): 0.39\n",
      "이폭 [73/200] d_loss: 1.1213 g_loss: 1.0297 D(x): 0.68 D(G(z)): 0.43\n",
      "이폭 [74/200] d_loss: 1.2217 g_loss: 0.9197 D(x): 0.59 D(G(z)): 0.44\n",
      "이폭 [75/200] d_loss: 1.2683 g_loss: 1.0454 D(x): 0.57 D(G(z)): 0.42\n",
      "이폭 [76/200] d_loss: 1.1184 g_loss: 0.9278 D(x): 0.65 D(G(z)): 0.42\n",
      "이폭 [77/200] d_loss: 1.2392 g_loss: 0.9725 D(x): 0.61 D(G(z)): 0.42\n",
      "이폭 [78/200] d_loss: 1.2248 g_loss: 1.2858 D(x): 0.56 D(G(z)): 0.37\n",
      "이폭 [79/200] d_loss: 1.0997 g_loss: 1.1080 D(x): 0.60 D(G(z)): 0.37\n",
      "이폭 [80/200] d_loss: 1.2868 g_loss: 1.0810 D(x): 0.55 D(G(z)): 0.39\n",
      "이폭 [81/200] d_loss: 1.1897 g_loss: 1.3207 D(x): 0.59 D(G(z)): 0.35\n",
      "이폭 [82/200] d_loss: 1.1845 g_loss: 1.0348 D(x): 0.58 D(G(z)): 0.40\n",
      "이폭 [83/200] d_loss: 1.2817 g_loss: 0.9709 D(x): 0.55 D(G(z)): 0.43\n",
      "이폭 [84/200] d_loss: 1.1797 g_loss: 0.9793 D(x): 0.61 D(G(z)): 0.41\n",
      "이폭 [85/200] d_loss: 1.1443 g_loss: 1.1475 D(x): 0.59 D(G(z)): 0.35\n",
      "이폭 [86/200] d_loss: 1.2637 g_loss: 1.0917 D(x): 0.56 D(G(z)): 0.39\n",
      "이폭 [87/200] d_loss: 1.1718 g_loss: 1.1717 D(x): 0.59 D(G(z)): 0.38\n",
      "이폭 [88/200] d_loss: 1.1292 g_loss: 1.1154 D(x): 0.60 D(G(z)): 0.37\n",
      "이폭 [89/200] d_loss: 1.0600 g_loss: 1.0888 D(x): 0.60 D(G(z)): 0.36\n",
      "이폭 [90/200] d_loss: 1.2098 g_loss: 0.9839 D(x): 0.60 D(G(z)): 0.43\n",
      "이폭 [91/200] d_loss: 1.1642 g_loss: 0.8831 D(x): 0.60 D(G(z)): 0.44\n",
      "이폭 [92/200] d_loss: 1.1067 g_loss: 1.0153 D(x): 0.63 D(G(z)): 0.41\n",
      "이폭 [93/200] d_loss: 1.2343 g_loss: 0.9684 D(x): 0.60 D(G(z)): 0.43\n",
      "이폭 [94/200] d_loss: 1.1814 g_loss: 1.2399 D(x): 0.60 D(G(z)): 0.36\n",
      "이폭 [95/200] d_loss: 1.2361 g_loss: 0.9044 D(x): 0.56 D(G(z)): 0.43\n",
      "이폭 [96/200] d_loss: 1.1996 g_loss: 0.8919 D(x): 0.55 D(G(z)): 0.41\n",
      "이폭 [97/200] d_loss: 1.2075 g_loss: 0.9781 D(x): 0.54 D(G(z)): 0.39\n",
      "이폭 [98/200] d_loss: 1.1670 g_loss: 1.0533 D(x): 0.57 D(G(z)): 0.37\n",
      "이폭 [99/200] d_loss: 1.0934 g_loss: 1.2147 D(x): 0.67 D(G(z)): 0.40\n",
      "이폭 [100/200] d_loss: 1.1409 g_loss: 1.1482 D(x): 0.69 D(G(z)): 0.41\n",
      "이폭 [101/200] d_loss: 1.2887 g_loss: 1.0013 D(x): 0.60 D(G(z)): 0.44\n",
      "이폭 [102/200] d_loss: 1.1023 g_loss: 1.0716 D(x): 0.62 D(G(z)): 0.40\n",
      "이폭 [103/200] d_loss: 1.0495 g_loss: 1.1968 D(x): 0.61 D(G(z)): 0.34\n",
      "이폭 [104/200] d_loss: 1.0459 g_loss: 1.1295 D(x): 0.68 D(G(z)): 0.38\n",
      "이폭 [105/200] d_loss: 1.1778 g_loss: 1.0782 D(x): 0.61 D(G(z)): 0.42\n",
      "이폭 [106/200] d_loss: 1.4126 g_loss: 0.9101 D(x): 0.53 D(G(z)): 0.47\n",
      "이폭 [107/200] d_loss: 1.3625 g_loss: 0.8810 D(x): 0.59 D(G(z)): 0.50\n",
      "이폭 [108/200] d_loss: 1.0750 g_loss: 1.0027 D(x): 0.60 D(G(z)): 0.38\n",
      "이폭 [109/200] d_loss: 1.2162 g_loss: 1.0255 D(x): 0.56 D(G(z)): 0.41\n",
      "이폭 [110/200] d_loss: 1.3177 g_loss: 0.7243 D(x): 0.57 D(G(z)): 0.50\n",
      "이폭 [111/200] d_loss: 1.0281 g_loss: 1.1842 D(x): 0.64 D(G(z)): 0.36\n",
      "이폭 [112/200] d_loss: 1.2033 g_loss: 0.8761 D(x): 0.65 D(G(z)): 0.46\n",
      "이폭 [113/200] d_loss: 1.1269 g_loss: 1.0111 D(x): 0.60 D(G(z)): 0.39\n",
      "이폭 [114/200] d_loss: 1.2183 g_loss: 1.0482 D(x): 0.54 D(G(z)): 0.37\n",
      "이폭 [115/200] d_loss: 1.1796 g_loss: 0.9201 D(x): 0.61 D(G(z)): 0.42\n",
      "이폭 [116/200] d_loss: 1.2406 g_loss: 1.0553 D(x): 0.57 D(G(z)): 0.41\n",
      "이폭 [117/200] d_loss: 1.2366 g_loss: 1.0677 D(x): 0.55 D(G(z)): 0.41\n",
      "이폭 [118/200] d_loss: 1.1869 g_loss: 0.9909 D(x): 0.56 D(G(z)): 0.40\n",
      "이폭 [119/200] d_loss: 1.1465 g_loss: 1.0347 D(x): 0.61 D(G(z)): 0.41\n",
      "이폭 [120/200] d_loss: 1.1024 g_loss: 1.0089 D(x): 0.67 D(G(z)): 0.42\n",
      "이폭 [121/200] d_loss: 1.3865 g_loss: 0.8741 D(x): 0.50 D(G(z)): 0.43\n",
      "이폭 [122/200] d_loss: 1.2862 g_loss: 0.9280 D(x): 0.54 D(G(z)): 0.43\n"
     ]
    },
    {
     "name": "stdout",
     "output_type": "stream",
     "text": [
      "이폭 [123/200] d_loss: 1.1240 g_loss: 0.9394 D(x): 0.63 D(G(z)): 0.42\n",
      "이폭 [124/200] d_loss: 1.1160 g_loss: 1.1052 D(x): 0.62 D(G(z)): 0.39\n",
      "이폭 [125/200] d_loss: 1.1965 g_loss: 0.9585 D(x): 0.59 D(G(z)): 0.41\n",
      "이폭 [126/200] d_loss: 1.3351 g_loss: 0.9362 D(x): 0.59 D(G(z)): 0.46\n",
      "이폭 [127/200] d_loss: 1.2498 g_loss: 1.1081 D(x): 0.57 D(G(z)): 0.38\n",
      "이폭 [128/200] d_loss: 1.1747 g_loss: 0.9731 D(x): 0.61 D(G(z)): 0.43\n",
      "이폭 [129/200] d_loss: 1.3949 g_loss: 1.0078 D(x): 0.51 D(G(z)): 0.40\n",
      "이폭 [130/200] d_loss: 1.1725 g_loss: 1.0808 D(x): 0.57 D(G(z)): 0.36\n",
      "이폭 [131/200] d_loss: 1.3218 g_loss: 0.8927 D(x): 0.53 D(G(z)): 0.44\n",
      "이폭 [132/200] d_loss: 1.3033 g_loss: 0.7567 D(x): 0.57 D(G(z)): 0.49\n",
      "이폭 [133/200] d_loss: 1.2991 g_loss: 1.1694 D(x): 0.52 D(G(z)): 0.37\n",
      "이폭 [134/200] d_loss: 1.0413 g_loss: 0.9776 D(x): 0.64 D(G(z)): 0.41\n",
      "이폭 [135/200] d_loss: 1.3072 g_loss: 1.0105 D(x): 0.54 D(G(z)): 0.42\n",
      "이폭 [136/200] d_loss: 1.3889 g_loss: 1.1350 D(x): 0.53 D(G(z)): 0.38\n",
      "이폭 [137/200] d_loss: 1.2452 g_loss: 0.8395 D(x): 0.57 D(G(z)): 0.45\n",
      "이폭 [138/200] d_loss: 1.1518 g_loss: 1.1467 D(x): 0.57 D(G(z)): 0.38\n",
      "이폭 [139/200] d_loss: 1.1356 g_loss: 1.1324 D(x): 0.62 D(G(z)): 0.38\n",
      "이폭 [140/200] d_loss: 1.3621 g_loss: 1.0707 D(x): 0.53 D(G(z)): 0.40\n",
      "이폭 [141/200] d_loss: 1.0716 g_loss: 1.0457 D(x): 0.63 D(G(z)): 0.38\n",
      "이폭 [142/200] d_loss: 1.2732 g_loss: 0.8655 D(x): 0.56 D(G(z)): 0.45\n",
      "이폭 [143/200] d_loss: 1.0993 g_loss: 0.9854 D(x): 0.61 D(G(z)): 0.39\n",
      "이폭 [144/200] d_loss: 1.3148 g_loss: 1.0345 D(x): 0.51 D(G(z)): 0.39\n",
      "이폭 [145/200] d_loss: 1.3432 g_loss: 0.8723 D(x): 0.56 D(G(z)): 0.46\n",
      "이폭 [146/200] d_loss: 1.2791 g_loss: 1.0158 D(x): 0.57 D(G(z)): 0.44\n",
      "이폭 [147/200] d_loss: 1.2143 g_loss: 0.9868 D(x): 0.55 D(G(z)): 0.39\n",
      "이폭 [148/200] d_loss: 1.2522 g_loss: 0.9626 D(x): 0.61 D(G(z)): 0.46\n",
      "이폭 [149/200] d_loss: 1.1224 g_loss: 1.0988 D(x): 0.60 D(G(z)): 0.38\n",
      "이폭 [150/200] d_loss: 1.0979 g_loss: 0.9307 D(x): 0.62 D(G(z)): 0.40\n",
      "이폭 [151/200] d_loss: 1.4326 g_loss: 0.9639 D(x): 0.51 D(G(z)): 0.42\n",
      "이폭 [152/200] d_loss: 1.2990 g_loss: 0.9564 D(x): 0.56 D(G(z)): 0.42\n",
      "이폭 [153/200] d_loss: 1.1630 g_loss: 1.0320 D(x): 0.59 D(G(z)): 0.41\n",
      "이폭 [154/200] d_loss: 1.0657 g_loss: 1.1169 D(x): 0.62 D(G(z)): 0.37\n",
      "이폭 [155/200] d_loss: 1.1289 g_loss: 0.9310 D(x): 0.65 D(G(z)): 0.43\n",
      "이폭 [156/200] d_loss: 1.1033 g_loss: 1.1297 D(x): 0.63 D(G(z)): 0.39\n",
      "이폭 [157/200] d_loss: 1.3364 g_loss: 0.9052 D(x): 0.57 D(G(z)): 0.46\n",
      "이폭 [158/200] d_loss: 1.3777 g_loss: 0.9440 D(x): 0.54 D(G(z)): 0.46\n",
      "이폭 [159/200] d_loss: 1.3145 g_loss: 0.8310 D(x): 0.54 D(G(z)): 0.46\n",
      "이폭 [160/200] d_loss: 1.2085 g_loss: 1.0437 D(x): 0.56 D(G(z)): 0.41\n",
      "이폭 [161/200] d_loss: 1.3773 g_loss: 1.2437 D(x): 0.55 D(G(z)): 0.38\n",
      "이폭 [162/200] d_loss: 1.2391 g_loss: 1.0050 D(x): 0.60 D(G(z)): 0.43\n",
      "이폭 [163/200] d_loss: 1.3834 g_loss: 0.9128 D(x): 0.49 D(G(z)): 0.44\n",
      "이폭 [164/200] d_loss: 1.1995 g_loss: 1.0372 D(x): 0.60 D(G(z)): 0.43\n",
      "이폭 [165/200] d_loss: 1.4111 g_loss: 0.9032 D(x): 0.51 D(G(z)): 0.44\n",
      "이폭 [166/200] d_loss: 1.4460 g_loss: 0.8360 D(x): 0.55 D(G(z)): 0.46\n",
      "이폭 [167/200] d_loss: 1.1638 g_loss: 1.0058 D(x): 0.59 D(G(z)): 0.41\n",
      "이폭 [168/200] d_loss: 1.2168 g_loss: 1.0251 D(x): 0.59 D(G(z)): 0.44\n",
      "이폭 [169/200] d_loss: 1.0575 g_loss: 1.1929 D(x): 0.63 D(G(z)): 0.36\n",
      "이폭 [170/200] d_loss: 1.2879 g_loss: 0.9051 D(x): 0.57 D(G(z)): 0.44\n",
      "이폭 [171/200] d_loss: 1.2821 g_loss: 0.9791 D(x): 0.54 D(G(z)): 0.42\n",
      "이폭 [172/200] d_loss: 1.2137 g_loss: 1.0388 D(x): 0.54 D(G(z)): 0.39\n",
      "이폭 [173/200] d_loss: 1.3249 g_loss: 1.0336 D(x): 0.57 D(G(z)): 0.44\n",
      "이폭 [174/200] d_loss: 1.1757 g_loss: 0.9868 D(x): 0.66 D(G(z)): 0.44\n",
      "이폭 [175/200] d_loss: 1.0887 g_loss: 1.0696 D(x): 0.63 D(G(z)): 0.38\n",
      "이폭 [176/200] d_loss: 1.2708 g_loss: 0.9764 D(x): 0.59 D(G(z)): 0.46\n",
      "이폭 [177/200] d_loss: 1.1711 g_loss: 0.9909 D(x): 0.57 D(G(z)): 0.39\n",
      "이폭 [178/200] d_loss: 1.0179 g_loss: 1.0158 D(x): 0.63 D(G(z)): 0.38\n",
      "이폭 [179/200] d_loss: 1.2174 g_loss: 0.8996 D(x): 0.61 D(G(z)): 0.45\n",
      "이폭 [180/200] d_loss: 1.2240 g_loss: 0.9717 D(x): 0.58 D(G(z)): 0.41\n",
      "이폭 [181/200] d_loss: 1.0719 g_loss: 0.9164 D(x): 0.61 D(G(z)): 0.39\n",
      "이폭 [182/200] d_loss: 1.2107 g_loss: 1.1132 D(x): 0.55 D(G(z)): 0.39\n",
      "이폭 [183/200] d_loss: 1.3297 g_loss: 0.8086 D(x): 0.58 D(G(z)): 0.50\n",
      "이폭 [184/200] d_loss: 1.2240 g_loss: 0.9504 D(x): 0.59 D(G(z)): 0.40\n",
      "이폭 [185/200] d_loss: 1.2537 g_loss: 0.9693 D(x): 0.60 D(G(z)): 0.44\n",
      "이폭 [186/200] d_loss: 1.2666 g_loss: 1.0273 D(x): 0.61 D(G(z)): 0.46\n",
      "이폭 [187/200] d_loss: 1.3087 g_loss: 0.9867 D(x): 0.56 D(G(z)): 0.43\n",
      "이폭 [188/200] d_loss: 1.2330 g_loss: 0.8153 D(x): 0.57 D(G(z)): 0.44\n",
      "이폭 [189/200] d_loss: 1.3171 g_loss: 1.1316 D(x): 0.57 D(G(z)): 0.39\n",
      "이폭 [190/200] d_loss: 1.1704 g_loss: 1.1766 D(x): 0.63 D(G(z)): 0.39\n",
      "이폭 [191/200] d_loss: 1.1842 g_loss: 1.0438 D(x): 0.59 D(G(z)): 0.39\n",
      "이폭 [192/200] d_loss: 1.2541 g_loss: 1.0506 D(x): 0.63 D(G(z)): 0.41\n",
      "이폭 [193/200] d_loss: 1.2161 g_loss: 1.0375 D(x): 0.60 D(G(z)): 0.41\n",
      "이폭 [194/200] d_loss: 1.2129 g_loss: 0.8787 D(x): 0.58 D(G(z)): 0.43\n",
      "이폭 [195/200] d_loss: 1.0869 g_loss: 1.2558 D(x): 0.63 D(G(z)): 0.37\n",
      "이폭 [196/200] d_loss: 1.0890 g_loss: 1.1466 D(x): 0.63 D(G(z)): 0.37\n",
      "이폭 [197/200] d_loss: 1.3059 g_loss: 0.7646 D(x): 0.54 D(G(z)): 0.47\n",
      "이폭 [198/200] d_loss: 1.1685 g_loss: 1.0969 D(x): 0.60 D(G(z)): 0.37\n",
      "이폭 [199/200] d_loss: 1.1970 g_loss: 1.2225 D(x): 0.58 D(G(z)): 0.36\n"
     ]
    }
   ],
   "source": [
    "total_step = len(train_loader)\n",
    "for epoch in range(EPOCHS):\n",
    "    for i, (images, labels) in enumerate(train_loader):\n",
    "        images = images.reshape(BATCH_SIZE, -1).to(DEVICE)\n",
    "        \n",
    "        # '진짜'와 '가짜' 레이블 생성\n",
    "        real_labels = torch.ones(BATCH_SIZE, 1).to(DEVICE)\n",
    "        fake_labels = torch.zeros(BATCH_SIZE, 1).to(DEVICE)\n",
    "        \n",
    "        # 판별자가 진짜 이미지를 진짜로 인식하는 오차 계산(데이터셋 레이블 입력)\n",
    "        labels = labels.to(DEVICE)\n",
    "        outputs = D(images, labels)\n",
    "        d_loss_real = criterion(outputs, real_labels)\n",
    "        real_score = outputs\n",
    "        \n",
    "        # 무작위 텐서와 무작위 레이블을 생성자에 입력해 가짜 이미지 생성\n",
    "        z = torch.randn(BATCH_SIZE, 100).to(DEVICE)\n",
    "        g_label = torch.randint(0, 10, (BATCH_SIZE,)).to(DEVICE)\n",
    "        fake_images = G(z, g_label)\n",
    "        \n",
    "        # 판별자가 가짜 이미지를 가짜로 인식하는 오차 계산\n",
    "        outputs = D(fake_images, g_label)\n",
    "        d_loss_fake = criterion(outputs, fake_labels)\n",
    "        fake_score = outputs\n",
    "        \n",
    "        # 진짜와 가짜 이미지를 갖고 낸 오차를 더해서 판별자의 오차 계산\n",
    "        d_loss = d_loss_real + d_loss_fake\n",
    "        \n",
    "        # 역전파 알고리즘으로 판별자 모델의 학습을 진행\n",
    "        d_optimizer.zero_grad()\n",
    "        g_optimizer.zero_grad()\n",
    "        d_loss.backward()\n",
    "        d_optimizer.step()\n",
    "        \n",
    "        # 생성자가 판별자를 속였는지에 대한 오차 계산(무작위 레이블 입력)\n",
    "        fake_images = G(z, g_label)\n",
    "        outputs = D(fake_images, g_label)\n",
    "        g_loss = criterion(outputs, real_labels)\n",
    "        \n",
    "        # 역전파 알고리즘으로 생성자 모델의 학습을 진행\n",
    "        d_optimizer.zero_grad()\n",
    "        g_optimizer.zero_grad()\n",
    "        g_loss.backward()\n",
    "        g_optimizer.step()\n",
    "        \n",
    "    print('이폭 [{}/{}] d_loss: {:.4f} g_loss: {:.4f} D(x): {:.2f} D(G(z)): {:.2f}'\n",
    "         .format(epoch, EPOCHS, d_loss.item(), g_loss.item(),\n",
    "                 real_score.mean().item(), fake_score.mean().item()))\n",
    "    "
   ]
  },
  {
   "cell_type": "code",
   "execution_count": 24,
   "id": "fafda8b6",
   "metadata": {
    "ExecuteTime": {
     "start_time": "2023-02-14T15:42:08.321Z"
    }
   },
   "outputs": [
    {
     "data": {
      "image/png": "[encoded data removed]",
      "text/plain": [
       "<Figure size 432x288 with 1 Axes>"
      ]
     },
     "metadata": {
      "needs_background": "light"
     },
     "output_type": "display_data"
    }
   ],
   "source": [
    "# 만들고 싶은 아이템 생성하고 시각화하기\n",
    "item_number = 7 # 아이템 번호\n",
    "z = torch.randn(1, 100).to(DEVICE) # 배치 크기 1\n",
    "g_label = torch.full((1,), item_number, dtype=torch.long).to(DEVICE)\n",
    "\n",
    "sample_images = G(z, g_label)\n",
    "sample_images_img = np.reshape(sample_images.data.cpu().numpy()[0], (28, 28))\n",
    "plt.imshow(sample_images_img, cmap = 'gray')\n",
    "plt.show()"
   ]
  },
  {
   "cell_type": "code",
   "execution_count": null,
   "id": "44396e73",
   "metadata": {},
   "outputs": [],
   "source": []
  }
 ],
 "metadata": {
  "hide_input": false,
  "kernelspec": {
   "display_name": "Python 3 (ipykernel)",
   "language": "python",
   "name": "python3"
  },
  "language_info": {
   "codemirror_mode": {
    "name": "ipython",
    "version": 3
   },
   "file_extension": ".py",
   "mimetype": "text/x-python",
   "name": "python",
   "nbconvert_exporter": "python",
   "pygments_lexer": "ipython3",
   "version": "3.8.13"
  },
  "toc": {
   "base_numbering": 1,
   "nav_menu": {},
   "number_sections": true,
   "sideBar": true,
   "skip_h1_title": false,
   "title_cell": "Table of Contents",
   "title_sidebar": "Contents",
   "toc_cell": false,
   "toc_position": {},
   "toc_section_display": true,
   "toc_window_display": false
  },
  "varInspector": {
   "cols": {
    "lenName": 16,
    "lenType": 16,
    "lenVar": 40
   },
   "kernels_config": {
    "python": {
     "delete_cmd_postfix": "",
     "delete_cmd_prefix": "del ",
     "library": "var_list.py",
     "varRefreshCmd": "print(var_dic_list())"
    },
    "r": {
     "delete_cmd_postfix": ") ",
     "delete_cmd_prefix": "rm(",
     "library": "var_list.r",
     "varRefreshCmd": "cat(var_dic_list()) "
    }
   },
   "types_to_exclude": [
    "module",
    "function",
    "builtin_function_or_method",
    "instance",
    "_Feature"
   ],
   "window_display": false
  }
 },
 "nbformat": 4,
 "nbformat_minor": 5
}
